{
  "cells": [
    {
      "cell_type": "code",
      "source": [
        "%reset -f"
      ],
      "metadata": {
        "id": "IbFrtuoVHlhW"
      },
      "execution_count": null,
      "outputs": []
    },
    {
      "cell_type": "code",
      "execution_count": null,
      "metadata": {
        "id": "CIPxX-6ndmlB",
        "colab": {
          "base_uri": "https://localhost:8080/"
        },
        "outputId": "954de52c-b4b5-42d0-8c34-8e72c8cbe903"
      },
      "outputs": [
        {
          "output_type": "stream",
          "name": "stdout",
          "text": [
            "\u001b[2K     \u001b[90m━━━━━━━━━━━━━━━━━━━━━━━━━━━━━━━━━━━━━━━━\u001b[0m \u001b[32m7.2/7.2 MB\u001b[0m \u001b[31m48.0 MB/s\u001b[0m eta \u001b[36m0:00:00\u001b[0m\n",
            "\u001b[2K     \u001b[90m━━━━━━━━━━━━━━━━━━━━━━━━━━━━━━━━━━━━━━━━\u001b[0m \u001b[32m1.3/1.3 MB\u001b[0m \u001b[31m62.4 MB/s\u001b[0m eta \u001b[36m0:00:00\u001b[0m\n",
            "\u001b[2K     \u001b[90m━━━━━━━━━━━━━━━━━━━━━━━━━━━━━━━━━━━━━━\u001b[0m \u001b[32m485.6/485.6 kB\u001b[0m \u001b[31m50.5 MB/s\u001b[0m eta \u001b[36m0:00:00\u001b[0m\n",
            "\u001b[2K     \u001b[90m━━━━━━━━━━━━━━━━━━━━━━━━━━━━━━━━━━━━━━━━\u001b[0m \u001b[32m81.4/81.4 kB\u001b[0m \u001b[31m11.3 MB/s\u001b[0m eta \u001b[36m0:00:00\u001b[0m\n",
            "\u001b[2K     \u001b[90m━━━━━━━━━━━━━━━━━━━━━━━━━━━━━━━━━━━━━━\u001b[0m \u001b[32m227.6/227.6 kB\u001b[0m \u001b[31m30.2 MB/s\u001b[0m eta \u001b[36m0:00:00\u001b[0m\n",
            "\u001b[2K     \u001b[90m━━━━━━━━━━━━━━━━━━━━━━━━━━━━━━━━━━━━━━\u001b[0m \u001b[32m236.8/236.8 kB\u001b[0m \u001b[31m30.4 MB/s\u001b[0m eta \u001b[36m0:00:00\u001b[0m\n",
            "\u001b[2K     \u001b[90m━━━━━━━━━━━━━━━━━━━━━━━━━━━━━━━━━━━━━━━━\u001b[0m \u001b[32m7.8/7.8 MB\u001b[0m \u001b[31m105.5 MB/s\u001b[0m eta \u001b[36m0:00:00\u001b[0m\n",
            "\u001b[2K     \u001b[90m━━━━━━━━━━━━━━━━━━━━━━━━━━━━━━━━━━━━━━━━\u001b[0m \u001b[32m1.3/1.3 MB\u001b[0m \u001b[31m87.7 MB/s\u001b[0m eta \u001b[36m0:00:00\u001b[0m\n",
            "\u001b[2K     \u001b[90m━━━━━━━━━━━━━━━━━━━━━━━━━━━━━━━━━━━━━━\u001b[0m \u001b[32m110.5/110.5 kB\u001b[0m \u001b[31m16.0 MB/s\u001b[0m eta \u001b[36m0:00:00\u001b[0m\n",
            "\u001b[2K     \u001b[90m━━━━━━━━━━━━━━━━━━━━━━━━━━━━━━━━━━━━━━\u001b[0m \u001b[32m212.5/212.5 kB\u001b[0m \u001b[31m27.1 MB/s\u001b[0m eta \u001b[36m0:00:00\u001b[0m\n",
            "\u001b[2K     \u001b[90m━━━━━━━━━━━━━━━━━━━━━━━━━━━━━━━━━━━━━━\u001b[0m \u001b[32m134.3/134.3 kB\u001b[0m \u001b[31m18.4 MB/s\u001b[0m eta \u001b[36m0:00:00\u001b[0m\n",
            "\u001b[2K     \u001b[90m━━━━━━━━━━━━━━━━━━━━━━━━━━━━━━━━━━━━━━━━\u001b[0m \u001b[32m1.0/1.0 MB\u001b[0m \u001b[31m76.4 MB/s\u001b[0m eta \u001b[36m0:00:00\u001b[0m\n",
            "\u001b[2K     \u001b[90m━━━━━━━━━━━━━━━━━━━━━━━━━━━━━━━━━━━━━━\u001b[0m \u001b[32m114.5/114.5 kB\u001b[0m \u001b[31m17.0 MB/s\u001b[0m eta \u001b[36m0:00:00\u001b[0m\n",
            "\u001b[2K     \u001b[90m━━━━━━━━━━━━━━━━━━━━━━━━━━━━━━━━━━━━━━\u001b[0m \u001b[32m268.8/268.8 kB\u001b[0m \u001b[31m31.1 MB/s\u001b[0m eta \u001b[36m0:00:00\u001b[0m\n",
            "\u001b[2K     \u001b[90m━━━━━━━━━━━━━━━━━━━━━━━━━━━━━━━━━━━━━━\u001b[0m \u001b[32m149.6/149.6 kB\u001b[0m \u001b[31m21.5 MB/s\u001b[0m eta \u001b[36m0:00:00\u001b[0m\n",
            "\u001b[?25h"
          ]
        }
      ],
      "source": [
        "!pip install -q transformers sentencepiece datasets evaluate accelerate transformers[torch]"
      ]
    },
    {
      "cell_type": "code",
      "execution_count": null,
      "metadata": {
        "id": "6dZbSPi6tgE1"
      },
      "outputs": [],
      "source": [
        "import json\n",
        "import torch\n",
        "import transformers\n",
        "from transformers import pipeline, ViTImageProcessor, ViTForImageClassification, ViTModel, AutoTokenizer, T5Tokenizer, MT5Model, AutoFeatureExtractor, MT5ForConditionalGeneration\n",
        "import pandas as pd\n",
        "from torchvision.io import read_image\n",
        "from PIL import Image\n",
        "from torchvision.transforms import ToTensor\n",
        "import zipfile\n",
        "import numpy as np\n",
        "import matplotlib.pyplot as plt\n",
        "import torch.nn as nn\n",
        "from datasets import Dataset, load_from_disk\n",
        "import evaluate\n",
        "import gc\n",
        "from torch.utils.data import DataLoader\n",
        "from tqdm import tqdm"
      ]
    },
    {
      "cell_type": "code",
      "source": [
        "gc.collect()\n",
        "torch.cuda.empty_cache()"
      ],
      "metadata": {
        "id": "Y9Ue2j8PHXRI"
      },
      "execution_count": null,
      "outputs": []
    },
    {
      "cell_type": "markdown",
      "metadata": {
        "id": "tmihHL2gyfLA"
      },
      "source": [
        "We want to use a ViT + mT5 model to work try mulitlingual VQA. ViT is a vision model that has an encoder transformer model like BERT. mT5 is a multilingual seq to seq transformer model (encoder - decoder).\n",
        "\n",
        "To combine these two models, need to introduce the visual information into the question.\n",
        "\n"
      ]
    },
    {
      "cell_type": "code",
      "execution_count": null,
      "metadata": {
        "id": "oCxSG7viBduy",
        "colab": {
          "base_uri": "https://localhost:8080/"
        },
        "outputId": "f2af7942-2744-4a0b-b6ae-2cfd5045633a"
      },
      "outputs": [
        {
          "output_type": "stream",
          "name": "stdout",
          "text": [
            "Mounted at /content/drive\n"
          ]
        }
      ],
      "source": [
        "import os\n",
        "\n",
        "if os.getcwd() == '/content':\n",
        "  from google.colab import drive\n",
        "  drive.mount('/content/drive')\n",
        "  train_val_dataset = load_from_disk('/content/drive/Shareddrives/CS263_final/models/data/evjvqa_train_PIL_image')\n",
        "else:\n",
        "  train_val_dataset = load_from_disk('G:/Shared drives/CS263_final/models/data/evjvqa_train_PIL_image')\n"
      ]
    },
    {
      "cell_type": "code",
      "source": [
        "\n",
        "en_list = list(range(5702, 7204))\n",
        "vi_list = list(range(14023, 15524))\n",
        "ja_list = list(range(22283, 23785))"
      ],
      "metadata": {
        "id": "E97NNqVd8WeO"
      },
      "execution_count": null,
      "outputs": []
    },
    {
      "cell_type": "code",
      "source": [
        "val_list = en_list + vi_list + ja_list"
      ],
      "metadata": {
        "id": "8AenOvIRvcTx"
      },
      "execution_count": null,
      "outputs": []
    },
    {
      "cell_type": "code",
      "source": [
        "en_list = list(range(4001, 5201))\n",
        "ja_list = list(range(20582, 21783))\n",
        "vi_list = list(range(11322, 13522))"
      ],
      "metadata": {
        "id": "lM-BqOKDyiSp"
      },
      "execution_count": null,
      "outputs": []
    },
    {
      "cell_type": "code",
      "source": [
        "test_list = en_list + vi_list + ja_list"
      ],
      "metadata": {
        "id": "MKh0dSIUwgO2"
      },
      "execution_count": null,
      "outputs": []
    },
    {
      "cell_type": "code",
      "source": [
        "full_list = list(range(0, 23785))"
      ],
      "metadata": {
        "id": "sk6PtyYVzck0"
      },
      "execution_count": null,
      "outputs": []
    },
    {
      "cell_type": "code",
      "source": [
        "train_list = [i for i in full_list if ((i not in test_list) and (i not in val_list))]"
      ],
      "metadata": {
        "id": "HO41a6xEv4LW"
      },
      "execution_count": null,
      "outputs": []
    },
    {
      "cell_type": "code",
      "source": [
        "test_dataset = train_val_dataset.select(test_list)\n",
        "train_dataset = train_val_dataset.select(train_list)\n",
        "val_dataset = train_val_dataset.select(val_list)"
      ],
      "metadata": {
        "id": "x0X2mDAl1nyt"
      },
      "execution_count": null,
      "outputs": []
    },
    {
      "cell_type": "code",
      "source": [
        "test_dataset"
      ],
      "metadata": {
        "colab": {
          "base_uri": "https://localhost:8080/"
        },
        "id": "oqEf1cNeXn-u",
        "outputId": "d2e72ea9-3b41-47a8-bb58-c434107da80d"
      },
      "execution_count": null,
      "outputs": [
        {
          "output_type": "execute_result",
          "data": {
            "text/plain": [
              "Dataset({\n",
              "    features: ['id', 'question', 'answer', 'image'],\n",
              "    num_rows: 4601\n",
              "})"
            ]
          },
          "metadata": {},
          "execution_count": 12
        }
      ]
    },
    {
      "cell_type": "code",
      "source": [
        "train_dataset"
      ],
      "metadata": {
        "colab": {
          "base_uri": "https://localhost:8080/"
        },
        "id": "3Ehnz71xzvaD",
        "outputId": "912c7256-9247-44ce-e397-b05c846b6a04"
      },
      "execution_count": null,
      "outputs": [
        {
          "output_type": "execute_result",
          "data": {
            "text/plain": [
              "Dataset({\n",
              "    features: ['id', 'question', 'answer', 'image'],\n",
              "    num_rows: 14679\n",
              "})"
            ]
          },
          "metadata": {},
          "execution_count": 13
        }
      ]
    },
    {
      "cell_type": "code",
      "source": [
        "val_dataset"
      ],
      "metadata": {
        "colab": {
          "base_uri": "https://localhost:8080/"
        },
        "id": "9l7qGGpFzyG6",
        "outputId": "964a937b-b075-4f78-cb2b-5e6a37f60229"
      },
      "execution_count": null,
      "outputs": [
        {
          "output_type": "execute_result",
          "data": {
            "text/plain": [
              "Dataset({\n",
              "    features: ['id', 'question', 'answer', 'image'],\n",
              "    num_rows: 4505\n",
              "})"
            ]
          },
          "metadata": {},
          "execution_count": 14
        }
      ]
    },
    {
      "cell_type": "code",
      "source": [
        "gc.collect()"
      ],
      "metadata": {
        "colab": {
          "base_uri": "https://localhost:8080/"
        },
        "id": "Lc4JM8Yg21iB",
        "outputId": "da820e6f-d225-40fe-9832-8abe6a5cc987"
      },
      "execution_count": null,
      "outputs": [
        {
          "output_type": "execute_result",
          "data": {
            "text/plain": [
              "44"
            ]
          },
          "metadata": {},
          "execution_count": 21
        }
      ]
    },
    {
      "cell_type": "code",
      "execution_count": null,
      "metadata": {
        "id": "tFA71rqbdyHR",
        "colab": {
          "base_uri": "https://localhost:8080/",
          "height": 177,
          "referenced_widgets": [
            "a135cb5c2b654ebc9815a6c67936e777",
            "f42e6367b9734b40b4fe6c9dfbcacfca",
            "a4d0280648144cac95f17f3054fdf68f",
            "36d6608d88214714b2739ac632843ed9",
            "f38945af6b0b4f67b88a05d26068e16b",
            "0030fd9ee5c64f04b1040ec5422f1ccd",
            "4e011b9b328a41cfaee98bab88ad4f53",
            "d02c2b3c33fc44d08993c4d231b45594",
            "240335368f8741c3865fc554e4ccef12",
            "ab2d5084112d4d1ca57a21e6f4906dd0",
            "cf618914b8bc4b889db923515e6d84dd",
            "f5ddcc9563234d949b0b2fca0e1c8e76",
            "f7e8d9e16d124206925678dfb0a9b44f",
            "a03268e73e584aa29efaf95de447c20d",
            "9d791b2939a647bf9681bf533c609e5d",
            "dace09b9fd11431397e34c2e45918ac1",
            "73702c1fe9734e8ead1572f7d887d8f4",
            "10055225e6344447b5abf5b242974a7b",
            "2ed6bc208d3545109222679b3f9defef",
            "79c63d104d164a8da51df38124f84185",
            "7d21c321c40a4ec3a8f07285fde9e1d2",
            "5ba4028c368a4edca4b70c78fbbb19c8",
            "42f5e7138b634ba68d0f21b36fdc0de6",
            "0178931740ea4b768d8412ecbd1fe6d2",
            "7a063b60a6cd4d37bb8573c846673109",
            "17486fbdd95442e7aabf19f57c2165b9",
            "53405d554357463bb8ed498c0f2ca756",
            "bd40b9bb5efb40aab1522c834e356d62",
            "067f71388ed447cbac8b899b3f08c10c",
            "73d0dcda216b4468bedc78600b936507",
            "9589cdf81f62448a90cab8b89a4e6529",
            "8ec3ff35fb0a4f348314b7013d61ee5c",
            "a33e6dbc7bec48e383497fbf5e5647c3",
            "8e0aaff07d9b46cc9477ebc53dcf2bac",
            "d238090373ca456f858a7f7a87b5e5cd",
            "887350f18183445987af18c82191c76c",
            "5d565141a24e461f934ce6097e4d4bba",
            "71d6c0e1bc14424cbc249e24ddb3f40e",
            "22a427f2a3194527a014abe3886ac3dd",
            "d659ed8ebfb049d3b829b26c4d7a3940",
            "1d535c26562a4ddb99d92aa62967cb54",
            "2aa82c05941e4ba88b2f3a9a3f880fc7",
            "1d7014d33a044dc2baa5d167de710eeb",
            "e9e60959d73244188220970e78191107",
            "69c3fb4200ca4f2cb94f69d15c2a6e52",
            "636249e4e97c4b70ac9b809283e6e0f1",
            "d49dbc0260da486e85312608a4c4211c",
            "577efdeef7d54ec2a43d47ceb13144ca",
            "2d9fa8a45f664729a1f2013b01fe6a6b",
            "cd6f8b62ddd2409a932825af1e87ee43",
            "4801b22d0c1c44a38aea565de283e0bf",
            "4f5c3864f48f4739ad09470ac7c18647",
            "75cf6ecee0544f8797bc36af01e53ede",
            "a4824497a054434d844a9b4937ec43c5",
            "fefcba4ee72d436683122fbab1492d80"
          ]
        },
        "outputId": "ceaf1878-ec0b-455c-e609-a9fff601ba73"
      },
      "outputs": [
        {
          "output_type": "display_data",
          "data": {
            "text/plain": [
              "Downloading (…)ve/main/spiece.model:   0%|          | 0.00/4.31M [00:00<?, ?B/s]"
            ],
            "application/vnd.jupyter.widget-view+json": {
              "version_major": 2,
              "version_minor": 0,
              "model_id": "a135cb5c2b654ebc9815a6c67936e777"
            }
          },
          "metadata": {}
        },
        {
          "output_type": "display_data",
          "data": {
            "text/plain": [
              "Downloading (…)cial_tokens_map.json:   0%|          | 0.00/99.0 [00:00<?, ?B/s]"
            ],
            "application/vnd.jupyter.widget-view+json": {
              "version_major": 2,
              "version_minor": 0,
              "model_id": "f5ddcc9563234d949b0b2fca0e1c8e76"
            }
          },
          "metadata": {}
        },
        {
          "output_type": "display_data",
          "data": {
            "text/plain": [
              "Downloading (…)okenizer_config.json:   0%|          | 0.00/82.0 [00:00<?, ?B/s]"
            ],
            "application/vnd.jupyter.widget-view+json": {
              "version_major": 2,
              "version_minor": 0,
              "model_id": "42f5e7138b634ba68d0f21b36fdc0de6"
            }
          },
          "metadata": {}
        },
        {
          "output_type": "display_data",
          "data": {
            "text/plain": [
              "Downloading (…)lve/main/config.json:   0%|          | 0.00/553 [00:00<?, ?B/s]"
            ],
            "application/vnd.jupyter.widget-view+json": {
              "version_major": 2,
              "version_minor": 0,
              "model_id": "8e0aaff07d9b46cc9477ebc53dcf2bac"
            }
          },
          "metadata": {}
        },
        {
          "output_type": "display_data",
          "data": {
            "text/plain": [
              "Downloading (…)rocessor_config.json:   0%|          | 0.00/160 [00:00<?, ?B/s]"
            ],
            "application/vnd.jupyter.widget-view+json": {
              "version_major": 2,
              "version_minor": 0,
              "model_id": "69c3fb4200ca4f2cb94f69d15c2a6e52"
            }
          },
          "metadata": {}
        }
      ],
      "source": [
        "txt_checkpoint = \"google/mt5-small\"\n",
        "tokenizer = T5Tokenizer.from_pretrained(txt_checkpoint)\n",
        "\n",
        "img_checkpoint = 'google/vit-base-patch16-224'\n",
        "image_processor = ViTImageProcessor.from_pretrained(img_checkpoint)"
      ]
    },
    {
      "cell_type": "code",
      "execution_count": null,
      "metadata": {
        "id": "5q4WYG_zSE6N"
      },
      "outputs": [],
      "source": [
        "class MultimodalCollator:\n",
        "  tokenizer: AutoTokenizer\n",
        "  preprocessor: AutoFeatureExtractor\n",
        "  def __init__(self, tokenizer, preprocessor):\n",
        "    self.tokenizer = tokenizer\n",
        "    self.preprocessor = preprocessor\n",
        "  def tokenize_text(self, texts, targets):\n",
        "\n",
        "      encoded_question = self.tokenizer(\n",
        "          text=texts,\n",
        "          max_length = 80,\n",
        "          padding='max_length',\n",
        "          return_tensors='pt',\n",
        "          return_attention_mask=True,\n",
        "      )\n",
        "      encoded_label = self.tokenizer(\n",
        "          text=targets,\n",
        "          max_length = 80,\n",
        "          padding='max_length',\n",
        "          return_tensors='pt',\n",
        "          return_attention_mask=True,\n",
        "      )\n",
        "      return {\n",
        "          \"input_ids\": encoded_question['input_ids'],\n",
        "          \"labels\": encoded_label['input_ids'],\n",
        "          \"attention_mask\": encoded_question['attention_mask'],\n",
        "          \"decoder_attention_mask\": encoded_label['attention_mask']\n",
        "      }\n",
        "\n",
        "  def preprocess_images(self, images):\n",
        "      processed_images = self.preprocessor(\n",
        "          images,\n",
        "          return_tensors=\"pt\",\n",
        "      )\n",
        "      return {\n",
        "          \"pixel_values\": processed_images['pixel_values'],\n",
        "      }\n",
        "\n",
        "  def __call__(self, examples):\n",
        "      return {\n",
        "          **self.tokenize_text(\n",
        "              examples['question'] if isinstance(examples, dict) else [i['question'] for i in examples],\n",
        "              examples['answer'] if isinstance(examples, dict) else [i['answer'] for i in examples]\n",
        "          ),\n",
        "          **self.preprocess_images(\n",
        "              examples['image'] if isinstance(examples, dict) else [i['image'] for i in examples]\n",
        "          )\n",
        "      }"
      ]
    },
    {
      "cell_type": "code",
      "execution_count": null,
      "metadata": {
        "id": "GJryfUK2OKBd"
      },
      "outputs": [],
      "source": [
        "collator = MultimodalCollator(tokenizer, image_processor)"
      ]
    },
    {
      "cell_type": "code",
      "execution_count": null,
      "metadata": {
        "colab": {
          "base_uri": "https://localhost:8080/",
          "height": 168,
          "referenced_widgets": [
            "a384d61e845a41519dfd4d6fb1169e6d",
            "3078221e30504ab4bf599c56d3ff7795",
            "ac530f20f325409aa32d4d87535386c8",
            "0c15c00e546d492fb1229415a53d8b02",
            "1490d9ebbba04a898b4efba91ab75ce8",
            "3f26651d2d224e16b525265cf6a760be",
            "3f1953e2223f4e1d862958d3432169ca",
            "cb2a9ad9a3634f2fa17a78b8633cf7bc",
            "65ae2bb62ff4485c918785a3ef2fbb57",
            "fa585250e4584a91904affc930c8e077",
            "08b3df172bdb4bcb80e0d3f3a16db416",
            "4d053411b3a844b8b1d296eacbf9402f",
            "4541e0706e2d449abfc8999fa7268442",
            "6d5347591e624352b5a33e7933130817",
            "b10cc3678872455382158fe06c3aad3e",
            "0f1cb2d41c2e4c50860057450af7f27b",
            "6d8aaa8ba7e7475188aae5f02c95b549",
            "289ff4eb0c824fc69c8121f9c1fa2f45",
            "8473763f8a1945fc96be936e05dbbcdc",
            "d10bb5cf77d5451fa627aa5c42e77e3c",
            "d422b1ec80054bd79dddb1a68b5777f3",
            "addf963e369c4c8f80cefc2bc0a7e9eb"
          ]
        },
        "id": "1rRqxk2I-UYP",
        "outputId": "ffcdb55f-fade-4270-a59f-6edd5215b6b1"
      },
      "outputs": [
        {
          "output_type": "display_data",
          "data": {
            "text/plain": [
              "Downloading (…)lve/main/config.json:   0%|          | 0.00/69.7k [00:00<?, ?B/s]"
            ],
            "application/vnd.jupyter.widget-view+json": {
              "version_major": 2,
              "version_minor": 0,
              "model_id": "a384d61e845a41519dfd4d6fb1169e6d"
            }
          },
          "metadata": {}
        },
        {
          "output_type": "display_data",
          "data": {
            "text/plain": [
              "Downloading pytorch_model.bin:   0%|          | 0.00/346M [00:00<?, ?B/s]"
            ],
            "application/vnd.jupyter.widget-view+json": {
              "version_major": 2,
              "version_minor": 0,
              "model_id": "4d053411b3a844b8b1d296eacbf9402f"
            }
          },
          "metadata": {}
        },
        {
          "output_type": "stream",
          "name": "stderr",
          "text": [
            "Some weights of the model checkpoint at google/vit-base-patch16-224 were not used when initializing ViTModel: ['classifier.bias', 'classifier.weight']\n",
            "- This IS expected if you are initializing ViTModel from the checkpoint of a model trained on another task or with another architecture (e.g. initializing a BertForSequenceClassification model from a BertForPreTraining model).\n",
            "- This IS NOT expected if you are initializing ViTModel from the checkpoint of a model that you expect to be exactly identical (initializing a BertForSequenceClassification model from a BertForSequenceClassification model).\n",
            "Some weights of ViTModel were not initialized from the model checkpoint at google/vit-base-patch16-224 and are newly initialized: ['vit.pooler.dense.weight', 'vit.pooler.dense.bias']\n",
            "You should probably TRAIN this model on a down-stream task to be able to use it for predictions and inference.\n"
          ]
        }
      ],
      "source": [
        "from transformers import MT5ForConditionalGeneration\n",
        "image_encoder = ViTModel.from_pretrained(img_checkpoint)"
      ]
    },
    {
      "cell_type": "code",
      "source": [
        "from typing import Optional, Tuple, Union\n",
        "from transformers.modeling_outputs import Seq2SeqLMOutput, BaseModelOutput\n",
        "\n",
        "class VQA_Model(MT5ForConditionalGeneration):\n",
        "  \"\"\"\n",
        "  The VQAModel should consist of a image encoder and a multilingual language transformer (encoder, decoder, encoder-decoder).\n",
        "\n",
        "  The visual_text_block is a module that integrates the encodings from the images and text.\n",
        "  \"\"\"\n",
        "\n",
        "  def __init__(self, config, visualEncoder, img_hidden_dim = 768):\n",
        "    super().__init__(config)\n",
        "    self.visualEncoder = visualEncoder\n",
        "    if img_hidden_dim != config.d_model:\n",
        "      self.needConvert = True\n",
        "      self.dim_change = nn.Linear(img_hidden_dim, config.d_model)\n",
        "\n",
        "  def forward(\n",
        "        self,\n",
        "        input_ids: Optional[torch.LongTensor] = None,\n",
        "        pixel_values: torch.FloatTensor = None,\n",
        "        attention_mask: Optional[torch.FloatTensor] = None,\n",
        "        decoder_input_ids: Optional[torch.LongTensor] = None,\n",
        "        decoder_attention_mask: Optional[torch.BoolTensor] = None,\n",
        "        head_mask: Optional[torch.FloatTensor] = None,\n",
        "        decoder_head_mask: Optional[torch.FloatTensor] = None,\n",
        "        cross_attn_head_mask: Optional[torch.Tensor] = None,\n",
        "        encoder_outputs: Optional[Tuple[Tuple[torch.Tensor]]] = None,\n",
        "        past_key_values: Optional[Tuple[Tuple[torch.Tensor]]] = None,\n",
        "        inputs_embeds: Optional[torch.FloatTensor] = None,\n",
        "        decoder_inputs_embeds: Optional[torch.FloatTensor] = None,\n",
        "        labels: Optional[torch.LongTensor] = None,\n",
        "        use_cache: Optional[bool] = None,\n",
        "        output_attentions: Optional[bool] = None,\n",
        "        output_hidden_states: Optional[bool] = None,\n",
        "        return_dict: Optional[bool] = None,\n",
        "    ):\n",
        "\n",
        "\n",
        "    use_cache = use_cache if use_cache is not None else self.config.use_cache\n",
        "    return_dict = return_dict if return_dict is not None else self.config.use_return_dict\n",
        "\n",
        "    # FutureWarning: head_mask was separated into two input args - head_mask, decoder_head_mask\n",
        "    if head_mask is not None and decoder_head_mask is None:\n",
        "        if self.config.num_layers == self.config.num_decoder_layers:\n",
        "            warnings.warn(__HEAD_MASK_WARNING_MSG, FutureWarning)\n",
        "            decoder_head_mask = head_mask\n",
        "\n",
        "    # Encode if needed (training, first prediction pass)\n",
        "    if encoder_outputs is None:\n",
        "        # Convert encoder inputs in embeddings if needed\n",
        "        text_encoder_outputs = self.encoder(\n",
        "            input_ids=input_ids,\n",
        "            attention_mask=attention_mask,\n",
        "            inputs_embeds=inputs_embeds,\n",
        "            head_mask=head_mask,\n",
        "            output_attentions=output_attentions,\n",
        "            output_hidden_states=output_hidden_states,\n",
        "            return_dict=return_dict,\n",
        "        )\n",
        "        image_encoder_outputs = self.visualEncoder(pixel_values = pixel_values)\n",
        "        if self.needConvert:\n",
        "          image_state = self.dim_change(image_encoder_outputs['last_hidden_state'])\n",
        "        else:\n",
        "          image_state = image_encoder_outputs['last_hidden_state']\n",
        "        img_mask = torch.ones((image_state.shape[0], image_state.shape[1])).to(image_state.device)\n",
        "        hidden_states = torch.cat([image_state, text_encoder_outputs[0]], dim = 1)\n",
        "        attention_mask = torch.cat([img_mask, attention_mask,], dim = 1)\n",
        "\n",
        "        encoder_outputs = BaseModelOutput(\n",
        "            last_hidden_state=hidden_states,\n",
        "            hidden_states=text_encoder_outputs[1] if len(text_encoder_outputs) > 1 else None,\n",
        "            attentions=text_encoder_outputs[2] if len(text_encoder_outputs) > 2 else None,\n",
        "        )\n",
        "    elif return_dict and not isinstance(encoder_outputs, BaseModelOutput):\n",
        "        encoder_outputs = BaseModelOutput(\n",
        "            last_hidden_state=encoder_outputs[0],\n",
        "            hidden_states=encoder_outputs[1] if len(encoder_outputs) > 1 else None,\n",
        "            attentions=encoder_outputs[2] if len(encoder_outputs) > 2 else None,\n",
        "        )\n",
        "\n",
        "    if self.model_parallel:\n",
        "        torch.cuda.set_device(self.decoder.first_device)\n",
        "\n",
        "    if labels is not None and decoder_input_ids is None and decoder_inputs_embeds is None:\n",
        "        # get decoder inputs from shifting lm labels to the right\n",
        "        decoder_input_ids = self._shift_right(labels)\n",
        "\n",
        "    # Set device for model parallelism\n",
        "    if self.model_parallel:\n",
        "        torch.cuda.set_device(self.decoder.first_device)\n",
        "        hidden_states = hidden_states.to(self.decoder.first_device)\n",
        "        if decoder_input_ids is not None:\n",
        "            decoder_input_ids = decoder_input_ids.to(self.decoder.first_device)\n",
        "        if attention_mask is not None:\n",
        "            attention_mask = attention_mask.to(self.decoder.first_device)\n",
        "        if decoder_attention_mask is not None:\n",
        "            decoder_attention_mask = decoder_attention_mask.to(self.decoder.first_device)\n",
        "\n",
        "    hidden_states = encoder_outputs[0]\n",
        "\n",
        "\n",
        "    # Decode\n",
        "    decoder_outputs = self.decoder(\n",
        "        input_ids=decoder_input_ids,\n",
        "        attention_mask=decoder_attention_mask,\n",
        "        inputs_embeds=decoder_inputs_embeds,\n",
        "        past_key_values=past_key_values,\n",
        "        encoder_hidden_states=hidden_states,\n",
        "        encoder_attention_mask=attention_mask,\n",
        "        head_mask=decoder_head_mask,\n",
        "        cross_attn_head_mask=cross_attn_head_mask,\n",
        "        use_cache=use_cache,\n",
        "        output_attentions=output_attentions,\n",
        "        output_hidden_states=output_hidden_states,\n",
        "        return_dict=return_dict,\n",
        "    )\n",
        "\n",
        "    sequence_output = decoder_outputs[0]\n",
        "\n",
        "    # Set device for model parallelism\n",
        "    if self.model_parallel:\n",
        "        torch.cuda.set_device(self.encoder.first_device)\n",
        "        self.lm_head = self.lm_head.to(self.encoder.first_device)\n",
        "        sequence_output = sequence_output.to(self.lm_head.weight.device)\n",
        "\n",
        "    if self.config.tie_word_embeddings:\n",
        "        # Rescale output before projecting on vocab\n",
        "        # See https://github.com/tensorflow/mesh/blob/fa19d69eafc9a482aff0b59ddd96b025c0cb207d/mesh_tensorflow/transformer/transformer.py#L586\n",
        "        sequence_output = sequence_output * (self.model_dim**-0.5)\n",
        "\n",
        "    lm_logits = self.lm_head(sequence_output)\n",
        "\n",
        "    loss = None\n",
        "    if labels is not None:\n",
        "        loss_fct = nn.CrossEntropyLoss(ignore_index=0)\n",
        "        # move labels to correct device to enable PP\n",
        "        labels = labels.to(lm_logits.device)\n",
        "        loss = loss_fct(lm_logits.view(-1, lm_logits.size(-1)), labels.view(-1))\n",
        "        # TODO(thom): Add z_loss https://github.com/tensorflow/mesh/blob/fa19d69eafc9a482aff0b59ddd96b025c0cb207d/mesh_tensorflow/layers.py#L666\n",
        "\n",
        "    if not return_dict:\n",
        "        output = (lm_logits,) + decoder_outputs[1:] + encoder_outputs\n",
        "        return ((loss,) + output) if loss is not None else output\n",
        "\n",
        "    return Seq2SeqLMOutput(\n",
        "        loss=loss,\n",
        "        logits=lm_logits,\n",
        "        past_key_values=decoder_outputs.past_key_values,\n",
        "        decoder_hidden_states=decoder_outputs.hidden_states,\n",
        "        decoder_attentions=decoder_outputs.attentions,\n",
        "        cross_attentions=decoder_outputs.cross_attentions,\n",
        "        encoder_last_hidden_state=encoder_outputs.last_hidden_state,\n",
        "        encoder_hidden_states=encoder_outputs.hidden_states,\n",
        "        encoder_attentions=encoder_outputs.attentions,\n",
        "    )\n"
      ],
      "metadata": {
        "id": "sL77ANAOOojh"
      },
      "execution_count": null,
      "outputs": []
    },
    {
      "cell_type": "code",
      "source": [
        "from transformers import MT5Config\n",
        "model = VQA_Model.from_pretrained(txt_checkpoint, image_encoder)"
      ],
      "metadata": {
        "colab": {
          "base_uri": "https://localhost:8080/",
          "height": 136,
          "referenced_widgets": [
            "a9a57d8121cb4837b56e68d8f528220a",
            "30f33061627741f2bc72732eeb05d179",
            "a311c45586f142c1b95b575250c97036",
            "844ecd12fcf946f6be186061c2666948",
            "beed4d30b93b4d498a5166c12ca8d1b2",
            "83cce8c5ed45415fbe59f9dfe41da411",
            "0647bf1cc6834dea9b4f13b88efdf7ee",
            "bef19c7c3f9c4089871c5b454dd2adbd",
            "a8284bf4ba6f46bd9947d57f208836dd",
            "25b23a779d9f4902b88c0565eff2cdca",
            "c9099381886449b690cd7fb592356d2b",
            "1885c0f53d4744b6a207d0916cd2b743",
            "fc7b242a1b684cf9bf83e78163287996",
            "28aa8026ba9048ebb90110690ceffcb7",
            "dab90297ac374af4882351deb49ff18d",
            "254e5a097ecf4494b9a134739bc8e14f",
            "da58e9c656654698adaf4b1f97ee83f9",
            "613a20cebfc84335949426c99bfc156f",
            "dcc01827399a422b8b6f54472f48e9fb",
            "35d31f9249274ff7bcf6ea598ffe0716",
            "d2f3b43fc0fd43bb8f3cbea61d498334",
            "f716dd6eb31543d6af6652a8a59819c5"
          ]
        },
        "id": "mSfl8CZvUCQS",
        "outputId": "ff96a1e8-e7a7-4bee-fbe2-da3d97c70bf0"
      },
      "execution_count": null,
      "outputs": [
        {
          "output_type": "display_data",
          "data": {
            "text/plain": [
              "Downloading pytorch_model.bin:   0%|          | 0.00/1.20G [00:00<?, ?B/s]"
            ],
            "application/vnd.jupyter.widget-view+json": {
              "version_major": 2,
              "version_minor": 0,
              "model_id": "a9a57d8121cb4837b56e68d8f528220a"
            }
          },
          "metadata": {}
        },
        {
          "output_type": "stream",
          "name": "stderr",
          "text": [
            "Some weights of VQA_Model were not initialized from the model checkpoint at google/mt5-small and are newly initialized: ['visualEncoder.encoder.layer.5.attention.attention.value.bias', 'visualEncoder.encoder.layer.2.attention.attention.query.weight', 'visualEncoder.encoder.layer.0.layernorm_before.bias', 'visualEncoder.encoder.layer.4.intermediate.dense.weight', 'visualEncoder.encoder.layer.8.attention.attention.query.bias', 'visualEncoder.encoder.layer.10.layernorm_before.weight', 'visualEncoder.encoder.layer.8.intermediate.dense.bias', 'visualEncoder.encoder.layer.7.output.dense.bias', 'visualEncoder.encoder.layer.11.layernorm_after.weight', 'visualEncoder.encoder.layer.9.attention.attention.query.bias', 'visualEncoder.encoder.layer.0.attention.attention.value.weight', 'visualEncoder.encoder.layer.6.output.dense.bias', 'visualEncoder.encoder.layer.8.layernorm_after.bias', 'visualEncoder.encoder.layer.3.attention.attention.query.weight', 'visualEncoder.encoder.layer.3.layernorm_after.bias', 'visualEncoder.encoder.layer.10.attention.output.dense.bias', 'visualEncoder.encoder.layer.1.intermediate.dense.bias', 'visualEncoder.encoder.layer.6.layernorm_before.bias', 'visualEncoder.encoder.layer.5.intermediate.dense.weight', 'visualEncoder.encoder.layer.10.attention.attention.query.weight', 'visualEncoder.encoder.layer.5.attention.attention.value.weight', 'visualEncoder.encoder.layer.10.attention.attention.key.bias', 'visualEncoder.encoder.layer.4.layernorm_before.bias', 'visualEncoder.encoder.layer.11.attention.attention.query.bias', 'visualEncoder.encoder.layer.5.attention.output.dense.weight', 'visualEncoder.encoder.layer.5.attention.attention.key.bias', 'visualEncoder.encoder.layer.11.intermediate.dense.bias', 'visualEncoder.encoder.layer.0.intermediate.dense.bias', 'visualEncoder.encoder.layer.11.output.dense.weight', 'visualEncoder.encoder.layer.1.attention.output.dense.bias', 'visualEncoder.encoder.layer.9.layernorm_after.bias', 'visualEncoder.encoder.layer.11.output.dense.bias', 'visualEncoder.encoder.layer.6.attention.attention.query.bias', 'visualEncoder.encoder.layer.9.attention.attention.key.bias', 'visualEncoder.encoder.layer.5.layernorm_before.weight', 'visualEncoder.encoder.layer.2.attention.output.dense.bias', 'visualEncoder.encoder.layer.4.intermediate.dense.bias', 'visualEncoder.encoder.layer.3.layernorm_after.weight', 'visualEncoder.encoder.layer.2.attention.attention.key.bias', 'visualEncoder.encoder.layer.11.attention.attention.key.weight', 'visualEncoder.encoder.layer.2.attention.attention.key.weight', 'visualEncoder.embeddings.position_embeddings', 'visualEncoder.encoder.layer.4.attention.attention.query.bias', 'visualEncoder.encoder.layer.8.attention.attention.key.weight', 'visualEncoder.encoder.layer.8.attention.output.dense.bias', 'visualEncoder.encoder.layer.10.layernorm_before.bias', 'visualEncoder.encoder.layer.5.output.dense.weight', 'visualEncoder.encoder.layer.5.intermediate.dense.bias', 'visualEncoder.encoder.layer.4.layernorm_before.weight', 'visualEncoder.encoder.layer.10.intermediate.dense.weight', 'visualEncoder.encoder.layer.11.attention.attention.value.bias', 'visualEncoder.encoder.layer.6.attention.output.dense.bias', 'visualEncoder.encoder.layer.7.attention.attention.value.bias', 'visualEncoder.embeddings.cls_token', 'visualEncoder.encoder.layer.11.attention.attention.key.bias', 'visualEncoder.encoder.layer.6.attention.attention.key.bias', 'visualEncoder.encoder.layer.8.output.dense.bias', 'visualEncoder.encoder.layer.10.attention.attention.key.weight', 'visualEncoder.encoder.layer.7.intermediate.dense.weight', 'visualEncoder.encoder.layer.0.attention.attention.query.bias', 'visualEncoder.encoder.layer.0.layernorm_after.weight', 'visualEncoder.embeddings.patch_embeddings.projection.bias', 'visualEncoder.encoder.layer.2.layernorm_before.weight', 'visualEncoder.encoder.layer.7.attention.output.dense.bias', 'visualEncoder.encoder.layer.1.layernorm_before.bias', 'visualEncoder.encoder.layer.1.attention.attention.query.weight', 'visualEncoder.encoder.layer.11.attention.output.dense.weight', 'visualEncoder.pooler.dense.weight', 'visualEncoder.encoder.layer.1.attention.attention.value.bias', 'visualEncoder.encoder.layer.7.layernorm_before.bias', 'visualEncoder.encoder.layer.10.layernorm_after.bias', 'visualEncoder.encoder.layer.1.attention.attention.key.weight', 'visualEncoder.encoder.layer.4.attention.attention.query.weight', 'visualEncoder.encoder.layer.0.attention.attention.value.bias', 'visualEncoder.encoder.layer.3.attention.attention.query.bias', 'dim_change.bias', 'visualEncoder.encoder.layer.4.layernorm_after.weight', 'visualEncoder.encoder.layer.8.intermediate.dense.weight', 'visualEncoder.encoder.layer.4.attention.attention.value.bias', 'visualEncoder.encoder.layer.7.output.dense.weight', 'visualEncoder.encoder.layer.10.attention.output.dense.weight', 'visualEncoder.encoder.layer.4.output.dense.weight', 'visualEncoder.encoder.layer.0.layernorm_before.weight', 'visualEncoder.encoder.layer.11.layernorm_after.bias', 'visualEncoder.encoder.layer.3.attention.output.dense.weight', 'visualEncoder.encoder.layer.6.output.dense.weight', 'visualEncoder.encoder.layer.4.output.dense.bias', 'visualEncoder.encoder.layer.0.attention.attention.key.weight', 'visualEncoder.encoder.layer.5.attention.output.dense.bias', 'visualEncoder.encoder.layer.0.attention.output.dense.bias', 'visualEncoder.encoder.layer.6.intermediate.dense.weight', 'visualEncoder.encoder.layer.8.attention.attention.value.bias', 'visualEncoder.encoder.layer.9.intermediate.dense.bias', 'visualEncoder.encoder.layer.4.attention.attention.key.weight', 'visualEncoder.encoder.layer.2.intermediate.dense.bias', 'visualEncoder.encoder.layer.10.attention.attention.value.weight', 'visualEncoder.encoder.layer.9.attention.output.dense.bias', 'visualEncoder.encoder.layer.8.output.dense.weight', 'visualEncoder.encoder.layer.11.attention.attention.query.weight', 'visualEncoder.encoder.layer.8.layernorm_before.bias', 'dim_change.weight', 'visualEncoder.encoder.layer.0.attention.output.dense.weight', 'visualEncoder.pooler.dense.bias', 'visualEncoder.encoder.layer.8.layernorm_after.weight', 'visualEncoder.encoder.layer.5.layernorm_before.bias', 'visualEncoder.encoder.layer.11.attention.output.dense.bias', 'visualEncoder.encoder.layer.1.layernorm_after.weight', 'visualEncoder.encoder.layer.2.layernorm_after.weight', 'visualEncoder.encoder.layer.0.layernorm_after.bias', 'visualEncoder.encoder.layer.8.attention.attention.value.weight', 'visualEncoder.encoder.layer.7.attention.attention.key.bias', 'visualEncoder.encoder.layer.3.attention.attention.key.bias', 'visualEncoder.encoder.layer.0.intermediate.dense.weight', 'visualEncoder.encoder.layer.7.intermediate.dense.bias', 'visualEncoder.encoder.layer.2.layernorm_before.bias', 'visualEncoder.encoder.layer.3.output.dense.bias', 'visualEncoder.encoder.layer.9.layernorm_before.bias', 'visualEncoder.layernorm.bias', 'visualEncoder.encoder.layer.3.intermediate.dense.weight', 'visualEncoder.encoder.layer.9.attention.attention.value.weight', 'visualEncoder.encoder.layer.10.output.dense.bias', 'visualEncoder.encoder.layer.7.attention.attention.query.bias', 'visualEncoder.encoder.layer.7.attention.attention.key.weight', 'visualEncoder.encoder.layer.6.intermediate.dense.bias', 'visualEncoder.encoder.layer.1.attention.output.dense.weight', 'visualEncoder.encoder.layer.10.layernorm_after.weight', 'visualEncoder.encoder.layer.11.intermediate.dense.weight', 'visualEncoder.encoder.layer.9.attention.attention.value.bias', 'visualEncoder.encoder.layer.3.attention.attention.value.weight', 'visualEncoder.encoder.layer.3.layernorm_before.bias', 'visualEncoder.encoder.layer.2.attention.attention.value.bias', 'visualEncoder.encoder.layer.6.attention.output.dense.weight', 'visualEncoder.encoder.layer.1.layernorm_before.weight', 'visualEncoder.encoder.layer.4.attention.attention.key.bias', 'visualEncoder.encoder.layer.3.attention.attention.value.bias', 'visualEncoder.encoder.layer.9.attention.output.dense.weight', 'visualEncoder.layernorm.weight', 'visualEncoder.encoder.layer.3.layernorm_before.weight', 'visualEncoder.encoder.layer.2.attention.attention.query.bias', 'visualEncoder.encoder.layer.7.attention.output.dense.weight', 'visualEncoder.encoder.layer.0.output.dense.weight', 'visualEncoder.encoder.layer.5.attention.attention.query.weight', 'visualEncoder.encoder.layer.1.output.dense.bias', 'visualEncoder.encoder.layer.4.layernorm_after.bias', 'visualEncoder.encoder.layer.6.layernorm_after.weight', 'visualEncoder.embeddings.patch_embeddings.projection.weight', 'visualEncoder.encoder.layer.2.intermediate.dense.weight', 'visualEncoder.encoder.layer.3.attention.output.dense.bias', 'visualEncoder.encoder.layer.5.layernorm_after.weight', 'visualEncoder.encoder.layer.1.output.dense.weight', 'visualEncoder.encoder.layer.4.attention.output.dense.weight', 'visualEncoder.encoder.layer.6.attention.attention.query.weight', 'visualEncoder.encoder.layer.1.attention.attention.key.bias', 'visualEncoder.encoder.layer.1.attention.attention.query.bias', 'visualEncoder.encoder.layer.0.attention.attention.key.bias', 'visualEncoder.encoder.layer.0.attention.attention.query.weight', 'visualEncoder.encoder.layer.3.attention.attention.key.weight', 'visualEncoder.encoder.layer.2.attention.output.dense.weight', 'visualEncoder.encoder.layer.10.attention.attention.value.bias', 'visualEncoder.encoder.layer.11.layernorm_before.weight', 'visualEncoder.encoder.layer.5.output.dense.bias', 'visualEncoder.encoder.layer.6.layernorm_before.weight', 'visualEncoder.encoder.layer.5.attention.attention.key.weight', 'visualEncoder.encoder.layer.5.attention.attention.query.bias', 'visualEncoder.encoder.layer.9.output.dense.weight', 'visualEncoder.encoder.layer.2.attention.attention.value.weight', 'visualEncoder.encoder.layer.7.attention.attention.value.weight', 'visualEncoder.encoder.layer.7.attention.attention.query.weight', 'visualEncoder.encoder.layer.9.attention.attention.query.weight', 'visualEncoder.encoder.layer.9.layernorm_before.weight', 'visualEncoder.encoder.layer.0.output.dense.bias', 'visualEncoder.encoder.layer.10.attention.attention.query.bias', 'visualEncoder.encoder.layer.4.attention.output.dense.bias', 'visualEncoder.encoder.layer.11.layernorm_before.bias', 'visualEncoder.encoder.layer.7.layernorm_after.weight', 'visualEncoder.encoder.layer.4.attention.attention.value.weight', 'visualEncoder.encoder.layer.9.layernorm_after.weight', 'visualEncoder.encoder.layer.6.attention.attention.key.weight', 'visualEncoder.encoder.layer.1.intermediate.dense.weight', 'visualEncoder.encoder.layer.3.output.dense.weight', 'visualEncoder.encoder.layer.5.layernorm_after.bias', 'visualEncoder.encoder.layer.2.output.dense.bias', 'visualEncoder.encoder.layer.8.layernorm_before.weight', 'visualEncoder.encoder.layer.1.attention.attention.value.weight', 'visualEncoder.encoder.layer.7.layernorm_after.bias', 'visualEncoder.encoder.layer.9.attention.attention.key.weight', 'visualEncoder.encoder.layer.8.attention.attention.key.bias', 'visualEncoder.encoder.layer.8.attention.attention.query.weight', 'visualEncoder.encoder.layer.6.layernorm_after.bias', 'visualEncoder.encoder.layer.8.attention.output.dense.weight', 'visualEncoder.encoder.layer.9.output.dense.bias', 'visualEncoder.encoder.layer.3.intermediate.dense.bias', 'visualEncoder.encoder.layer.10.intermediate.dense.bias', 'visualEncoder.encoder.layer.6.attention.attention.value.bias', 'visualEncoder.encoder.layer.10.output.dense.weight', 'visualEncoder.encoder.layer.6.attention.attention.value.weight', 'visualEncoder.encoder.layer.2.layernorm_after.bias', 'visualEncoder.encoder.layer.1.layernorm_after.bias', 'visualEncoder.encoder.layer.7.layernorm_before.weight', 'visualEncoder.encoder.layer.11.attention.attention.value.weight', 'visualEncoder.encoder.layer.9.intermediate.dense.weight', 'visualEncoder.encoder.layer.2.output.dense.weight']\n",
            "You should probably TRAIN this model on a down-stream task to be able to use it for predictions and inference.\n"
          ]
        },
        {
          "output_type": "display_data",
          "data": {
            "text/plain": [
              "Downloading (…)neration_config.json:   0%|          | 0.00/147 [00:00<?, ?B/s]"
            ],
            "application/vnd.jupyter.widget-view+json": {
              "version_major": 2,
              "version_minor": 0,
              "model_id": "1885c0f53d4744b6a207d0916cd2b743"
            }
          },
          "metadata": {}
        }
      ]
    },
    {
      "cell_type": "code",
      "source": [
        "# Freeze the image and text encoders\n",
        "for param in model.shared.parameters():\n",
        "  param.requires_grad = False\n",
        "\n",
        "for param in model.encoder.parameters():\n",
        "  param.requires_grad = False\n",
        "\n",
        "for param in model.visualEncoder.parameters():\n",
        "  param.requires_grad = False\n"
      ],
      "metadata": {
        "id": "f67wtm5FPjUI"
      },
      "execution_count": null,
      "outputs": []
    },
    {
      "cell_type": "code",
      "source": [
        "from transformers import Seq2SeqTrainer, Seq2SeqTrainingArguments, GenerationConfig\n",
        "!pip install evaluate[template]\n",
        "\n",
        "if os.getcwd() == '/content':\n",
        "  save_location = '/content/drive/Shareddrives/CS263_final/models/ViT_mt5_adjusted_dataset/'\n",
        "else:\n",
        "  save_location = 'G:/Shared drives/CS263_final/models/ViT_mt5_adjusted_dataset/'\n",
        "\n",
        "learning_rate = 3e-4\n",
        "\n",
        "train_args = Seq2SeqTrainingArguments(\n",
        "    output_dir = save_location,\n",
        "    overwrite_output_dir = True,\n",
        "    per_device_train_batch_size = 16,\n",
        "    per_device_eval_batch_size = 16,\n",
        "    evaluation_strategy = \"epoch\",\n",
        "    learning_rate = learning_rate,\n",
        "    num_train_epochs = 4,\n",
        "    logging_strategy = \"epoch\",\n",
        "    save_strategy = \"epoch\",\n",
        "    seed = 2023,\n",
        "    fp16 = False,\n",
        "    bf16 = False,\n",
        "    load_best_model_at_end = True,\n",
        "    generation_config = GenerationConfig.from_pretrained(txt_checkpoint)\n",
        ")\n",
        "\n",
        "optimizer = torch.optim.Adam(model.parameters(), lr=learning_rate, betas=(0.9, 0.999), eps=1e-8)\n",
        "scheduler = torch.optim.lr_scheduler.StepLR(optimizer,\n",
        "                                               step_size=100,\n",
        "                                               gamma=0.9)\n",
        "\n",
        "\n",
        "\n",
        "class CustomSeq2SeqTrainer(Seq2SeqTrainer):\n",
        "  def get_train_dataloader(self):\n",
        "    # build train dataloader\n",
        "    train_loader = DataLoader(self.train_dataset, batch_size=16, shuffle = True, num_workers = 0, collate_fn = collator)\n",
        "    return train_loader\n",
        "  def get_eval_dataloader(self, eval_dataset):\n",
        "    eval_dataset = eval_dataset if eval_dataset is not None else self.eval_dataset\n",
        "    eval_loader = DataLoader(eval_dataset, batch_size=8, shuffle = False, num_workers = 0, collate_fn = collator)\n",
        "    return eval_loader\n",
        "  def get_test_dataloader(self, test_dataset):\n",
        "    test_dataset = test_dataset if test_dataset is not None else self.test_dataset\n",
        "    test_loader = DataLoader(test_dataset, batch_size=8, shuffle = False, num_workers = 0, collate_fn = collator)\n",
        "    return test_loader\n",
        "\n",
        "f1_metric = evaluate.load(\"f1\")\n",
        "\n",
        "def compute_metrics(eval_pred):\n",
        "  preds, labels = eval_pred\n",
        "  labels = np.where(labels != -100, labels, tokenizer.pad_token_id)\n",
        "  decoded_preds = tokenizer.batch_decode(preds, skip_special_tokens=True)\n",
        "  decoded_labels = tokenizer.batch_decode(labels, skip_special_tokens=True)\n",
        "  result = f1_metric.compute(predictions = decoded_preds, references=decoded_labels)\n",
        "  return result"
      ],
      "metadata": {
        "colab": {
          "base_uri": "https://localhost:8080/",
          "height": 1000,
          "referenced_widgets": [
            "5caf22001b1b49e0854365b0254cf7c1",
            "53a856e29d284e159af4dd1ee0504072",
            "86a6596a3538482d8eace780b39e2a09",
            "ece1633964794ceab93e2dc12270eea6",
            "fd3c0d4e5e954d5c9562f916424b9f15",
            "d89856b0061341f9832888c66c0df725",
            "50b2f56859574260b0695e1ce954245e",
            "aa2a6c2517cf46e6839221f20a6aeef6",
            "757f7b7211ff4fb1b5c69823fc68d7de",
            "5a281900853645af97d117d1557a5b1d",
            "bbe136d092b54c5990bb69bbde03d85a"
          ]
        },
        "id": "f_XLRwEnTxgB",
        "outputId": "34897194-c46c-44f7-c662-6797d5160075"
      },
      "execution_count": null,
      "outputs": [
        {
          "output_type": "stream",
          "name": "stdout",
          "text": [
            "Looking in indexes: https://pypi.org/simple, https://us-python.pkg.dev/colab-wheels/public/simple/\n",
            "Requirement already satisfied: evaluate[template] in /usr/local/lib/python3.10/dist-packages (0.4.0)\n",
            "Requirement already satisfied: datasets>=2.0.0 in /usr/local/lib/python3.10/dist-packages (from evaluate[template]) (2.13.0)\n",
            "Requirement already satisfied: numpy>=1.17 in /usr/local/lib/python3.10/dist-packages (from evaluate[template]) (1.22.4)\n",
            "Requirement already satisfied: dill in /usr/local/lib/python3.10/dist-packages (from evaluate[template]) (0.3.6)\n",
            "Requirement already satisfied: pandas in /usr/local/lib/python3.10/dist-packages (from evaluate[template]) (1.5.3)\n",
            "Requirement already satisfied: requests>=2.19.0 in /usr/local/lib/python3.10/dist-packages (from evaluate[template]) (2.27.1)\n",
            "Requirement already satisfied: tqdm>=4.62.1 in /usr/local/lib/python3.10/dist-packages (from evaluate[template]) (4.65.0)\n",
            "Requirement already satisfied: xxhash in /usr/local/lib/python3.10/dist-packages (from evaluate[template]) (3.2.0)\n",
            "Requirement already satisfied: multiprocess in /usr/local/lib/python3.10/dist-packages (from evaluate[template]) (0.70.14)\n",
            "Requirement already satisfied: fsspec[http]>=2021.05.0 in /usr/local/lib/python3.10/dist-packages (from evaluate[template]) (2023.4.0)\n",
            "Requirement already satisfied: huggingface-hub>=0.7.0 in /usr/local/lib/python3.10/dist-packages (from evaluate[template]) (0.15.1)\n",
            "Requirement already satisfied: packaging in /usr/local/lib/python3.10/dist-packages (from evaluate[template]) (23.1)\n",
            "Requirement already satisfied: responses<0.19 in /usr/local/lib/python3.10/dist-packages (from evaluate[template]) (0.18.0)\n",
            "Collecting cookiecutter (from evaluate[template])\n",
            "  Downloading cookiecutter-2.1.1-py2.py3-none-any.whl (36 kB)\n",
            "Collecting gradio>=3.0.0 (from evaluate[template])\n",
            "  Downloading gradio-3.35.2-py3-none-any.whl (19.7 MB)\n",
            "\u001b[2K     \u001b[90m━━━━━━━━━━━━━━━━━━━━━━━━━━━━━━━━━━━━━━━━\u001b[0m \u001b[32m19.7/19.7 MB\u001b[0m \u001b[31m82.5 MB/s\u001b[0m eta \u001b[36m0:00:00\u001b[0m\n",
            "\u001b[?25hRequirement already satisfied: pyarrow>=8.0.0 in /usr/local/lib/python3.10/dist-packages (from datasets>=2.0.0->evaluate[template]) (9.0.0)\n",
            "Requirement already satisfied: aiohttp in /usr/local/lib/python3.10/dist-packages (from datasets>=2.0.0->evaluate[template]) (3.8.4)\n",
            "Requirement already satisfied: pyyaml>=5.1 in /usr/local/lib/python3.10/dist-packages (from datasets>=2.0.0->evaluate[template]) (6.0)\n",
            "Collecting aiofiles (from gradio>=3.0.0->evaluate[template])\n",
            "  Downloading aiofiles-23.1.0-py3-none-any.whl (14 kB)\n",
            "Requirement already satisfied: altair>=4.2.0 in /usr/local/lib/python3.10/dist-packages (from gradio>=3.0.0->evaluate[template]) (4.2.2)\n",
            "Collecting fastapi (from gradio>=3.0.0->evaluate[template])\n",
            "  Downloading fastapi-0.97.0-py3-none-any.whl (56 kB)\n",
            "\u001b[2K     \u001b[90m━━━━━━━━━━━━━━━━━━━━━━━━━━━━━━━━━━━━━━━━\u001b[0m \u001b[32m57.0/57.0 kB\u001b[0m \u001b[31m8.2 MB/s\u001b[0m eta \u001b[36m0:00:00\u001b[0m\n",
            "\u001b[?25hCollecting ffmpy (from gradio>=3.0.0->evaluate[template])\n",
            "  Downloading ffmpy-0.3.0.tar.gz (4.8 kB)\n",
            "  Preparing metadata (setup.py) ... \u001b[?25l\u001b[?25hdone\n",
            "Collecting gradio-client>=0.2.7 (from gradio>=3.0.0->evaluate[template])\n",
            "  Downloading gradio_client-0.2.7-py3-none-any.whl (288 kB)\n",
            "\u001b[2K     \u001b[90m━━━━━━━━━━━━━━━━━━━━━━━━━━━━━━━━━━━━━━\u001b[0m \u001b[32m288.4/288.4 kB\u001b[0m \u001b[31m32.5 MB/s\u001b[0m eta \u001b[36m0:00:00\u001b[0m\n",
            "\u001b[?25hCollecting httpx (from gradio>=3.0.0->evaluate[template])\n",
            "  Downloading httpx-0.24.1-py3-none-any.whl (75 kB)\n",
            "\u001b[2K     \u001b[90m━━━━━━━━━━━━━━━━━━━━━━━━━━━━━━━━━━━━━━━━\u001b[0m \u001b[32m75.4/75.4 kB\u001b[0m \u001b[31m11.2 MB/s\u001b[0m eta \u001b[36m0:00:00\u001b[0m\n",
            "\u001b[?25hRequirement already satisfied: jinja2 in /usr/local/lib/python3.10/dist-packages (from gradio>=3.0.0->evaluate[template]) (3.1.2)\n",
            "Requirement already satisfied: markdown-it-py[linkify]>=2.0.0 in /usr/local/lib/python3.10/dist-packages (from gradio>=3.0.0->evaluate[template]) (2.2.0)\n",
            "Requirement already satisfied: markupsafe in /usr/local/lib/python3.10/dist-packages (from gradio>=3.0.0->evaluate[template]) (2.1.2)\n",
            "Requirement already satisfied: matplotlib in /usr/local/lib/python3.10/dist-packages (from gradio>=3.0.0->evaluate[template]) (3.7.1)\n",
            "Collecting mdit-py-plugins<=0.3.3 (from gradio>=3.0.0->evaluate[template])\n",
            "  Downloading mdit_py_plugins-0.3.3-py3-none-any.whl (50 kB)\n",
            "\u001b[2K     \u001b[90m━━━━━━━━━━━━━━━━━━━━━━━━━━━━━━━━━━━━━━━━\u001b[0m \u001b[32m50.5/50.5 kB\u001b[0m \u001b[31m6.9 MB/s\u001b[0m eta \u001b[36m0:00:00\u001b[0m\n",
            "\u001b[?25hCollecting orjson (from gradio>=3.0.0->evaluate[template])\n",
            "  Downloading orjson-3.9.1-cp310-cp310-manylinux_2_17_x86_64.manylinux2014_x86_64.whl (136 kB)\n",
            "\u001b[2K     \u001b[90m━━━━━━━━━━━━━━━━━━━━━━━━━━━━━━━━━━━━━━\u001b[0m \u001b[32m137.0/137.0 kB\u001b[0m \u001b[31m18.9 MB/s\u001b[0m eta \u001b[36m0:00:00\u001b[0m\n",
            "\u001b[?25hRequirement already satisfied: pillow in /usr/local/lib/python3.10/dist-packages (from gradio>=3.0.0->evaluate[template]) (8.4.0)\n",
            "Requirement already satisfied: pydantic in /usr/local/lib/python3.10/dist-packages (from gradio>=3.0.0->evaluate[template]) (1.10.7)\n",
            "Collecting pydub (from gradio>=3.0.0->evaluate[template])\n",
            "  Downloading pydub-0.25.1-py2.py3-none-any.whl (32 kB)\n",
            "Requirement already satisfied: pygments>=2.12.0 in /usr/local/lib/python3.10/dist-packages (from gradio>=3.0.0->evaluate[template]) (2.14.0)\n",
            "Collecting python-multipart (from gradio>=3.0.0->evaluate[template])\n",
            "  Downloading python_multipart-0.0.6-py3-none-any.whl (45 kB)\n",
            "\u001b[2K     \u001b[90m━━━━━━━━━━━━━━━━━━━━━━━━━━━━━━━━━━━━━━━━\u001b[0m \u001b[32m45.7/45.7 kB\u001b[0m \u001b[31m3.5 MB/s\u001b[0m eta \u001b[36m0:00:00\u001b[0m\n",
            "\u001b[?25hCollecting semantic-version (from gradio>=3.0.0->evaluate[template])\n",
            "  Downloading semantic_version-2.10.0-py2.py3-none-any.whl (15 kB)\n",
            "Collecting uvicorn>=0.14.0 (from gradio>=3.0.0->evaluate[template])\n",
            "  Downloading uvicorn-0.22.0-py3-none-any.whl (58 kB)\n",
            "\u001b[2K     \u001b[90m━━━━━━━━━━━━━━━━━━━━━━━━━━━━━━━━━━━━━━━━\u001b[0m \u001b[32m58.3/58.3 kB\u001b[0m \u001b[31m6.4 MB/s\u001b[0m eta \u001b[36m0:00:00\u001b[0m\n",
            "\u001b[?25hCollecting websockets>=10.0 (from gradio>=3.0.0->evaluate[template])\n",
            "  Downloading websockets-11.0.3-cp310-cp310-manylinux_2_5_x86_64.manylinux1_x86_64.manylinux_2_17_x86_64.manylinux2014_x86_64.whl (129 kB)\n",
            "\u001b[2K     \u001b[90m━━━━━━━━━━━━━━━━━━━━━━━━━━━━━━━━━━━━━━\u001b[0m \u001b[32m129.9/129.9 kB\u001b[0m \u001b[31m15.4 MB/s\u001b[0m eta \u001b[36m0:00:00\u001b[0m\n",
            "\u001b[?25hRequirement already satisfied: filelock in /usr/local/lib/python3.10/dist-packages (from huggingface-hub>=0.7.0->evaluate[template]) (3.12.0)\n",
            "Requirement already satisfied: typing-extensions>=3.7.4.3 in /usr/local/lib/python3.10/dist-packages (from huggingface-hub>=0.7.0->evaluate[template]) (4.5.0)\n",
            "Requirement already satisfied: urllib3<1.27,>=1.21.1 in /usr/local/lib/python3.10/dist-packages (from requests>=2.19.0->evaluate[template]) (1.26.15)\n",
            "Requirement already satisfied: certifi>=2017.4.17 in /usr/local/lib/python3.10/dist-packages (from requests>=2.19.0->evaluate[template]) (2022.12.7)\n",
            "Requirement already satisfied: charset-normalizer~=2.0.0 in /usr/local/lib/python3.10/dist-packages (from requests>=2.19.0->evaluate[template]) (2.0.12)\n",
            "Requirement already satisfied: idna<4,>=2.5 in /usr/local/lib/python3.10/dist-packages (from requests>=2.19.0->evaluate[template]) (3.4)\n",
            "Collecting binaryornot>=0.4.4 (from cookiecutter->evaluate[template])\n",
            "  Downloading binaryornot-0.4.4-py2.py3-none-any.whl (9.0 kB)\n",
            "Requirement already satisfied: click<9.0.0,>=7.0 in /usr/local/lib/python3.10/dist-packages (from cookiecutter->evaluate[template]) (8.1.3)\n",
            "Collecting jinja2-time>=0.2.0 (from cookiecutter->evaluate[template])\n",
            "  Downloading jinja2_time-0.2.0-py2.py3-none-any.whl (6.4 kB)\n",
            "Requirement already satisfied: python-slugify>=4.0.0 in /usr/local/lib/python3.10/dist-packages (from cookiecutter->evaluate[template]) (8.0.1)\n",
            "Requirement already satisfied: python-dateutil>=2.8.1 in /usr/local/lib/python3.10/dist-packages (from pandas->evaluate[template]) (2.8.2)\n",
            "Requirement already satisfied: pytz>=2020.1 in /usr/local/lib/python3.10/dist-packages (from pandas->evaluate[template]) (2022.7.1)\n",
            "Requirement already satisfied: attrs>=17.3.0 in /usr/local/lib/python3.10/dist-packages (from aiohttp->datasets>=2.0.0->evaluate[template]) (23.1.0)\n",
            "Requirement already satisfied: multidict<7.0,>=4.5 in /usr/local/lib/python3.10/dist-packages (from aiohttp->datasets>=2.0.0->evaluate[template]) (6.0.4)\n",
            "Requirement already satisfied: async-timeout<5.0,>=4.0.0a3 in /usr/local/lib/python3.10/dist-packages (from aiohttp->datasets>=2.0.0->evaluate[template]) (4.0.2)\n",
            "Requirement already satisfied: yarl<2.0,>=1.0 in /usr/local/lib/python3.10/dist-packages (from aiohttp->datasets>=2.0.0->evaluate[template]) (1.9.2)\n",
            "Requirement already satisfied: frozenlist>=1.1.1 in /usr/local/lib/python3.10/dist-packages (from aiohttp->datasets>=2.0.0->evaluate[template]) (1.3.3)\n",
            "Requirement already satisfied: aiosignal>=1.1.2 in /usr/local/lib/python3.10/dist-packages (from aiohttp->datasets>=2.0.0->evaluate[template]) (1.3.1)\n",
            "Requirement already satisfied: entrypoints in /usr/local/lib/python3.10/dist-packages (from altair>=4.2.0->gradio>=3.0.0->evaluate[template]) (0.4)\n",
            "Requirement already satisfied: jsonschema>=3.0 in /usr/local/lib/python3.10/dist-packages (from altair>=4.2.0->gradio>=3.0.0->evaluate[template]) (4.3.3)\n",
            "Requirement already satisfied: toolz in /usr/local/lib/python3.10/dist-packages (from altair>=4.2.0->gradio>=3.0.0->evaluate[template]) (0.12.0)\n",
            "Requirement already satisfied: chardet>=3.0.2 in /usr/local/lib/python3.10/dist-packages (from binaryornot>=0.4.4->cookiecutter->evaluate[template]) (4.0.0)\n",
            "Collecting arrow (from jinja2-time>=0.2.0->cookiecutter->evaluate[template])\n",
            "  Downloading arrow-1.2.3-py3-none-any.whl (66 kB)\n",
            "\u001b[2K     \u001b[90m━━━━━━━━━━━━━━━━━━━━━━━━━━━━━━━━━━━━━━━━\u001b[0m \u001b[32m66.4/66.4 kB\u001b[0m \u001b[31m9.1 MB/s\u001b[0m eta \u001b[36m0:00:00\u001b[0m\n",
            "\u001b[?25hRequirement already satisfied: mdurl~=0.1 in /usr/local/lib/python3.10/dist-packages (from markdown-it-py[linkify]>=2.0.0->gradio>=3.0.0->evaluate[template]) (0.1.2)\n",
            "Collecting linkify-it-py<3,>=1 (from markdown-it-py[linkify]>=2.0.0->gradio>=3.0.0->evaluate[template])\n",
            "  Downloading linkify_it_py-2.0.2-py3-none-any.whl (19 kB)\n",
            "Requirement already satisfied: six>=1.5 in /usr/local/lib/python3.10/dist-packages (from python-dateutil>=2.8.1->pandas->evaluate[template]) (1.16.0)\n",
            "Requirement already satisfied: text-unidecode>=1.3 in /usr/local/lib/python3.10/dist-packages (from python-slugify>=4.0.0->cookiecutter->evaluate[template]) (1.3)\n",
            "Collecting h11>=0.8 (from uvicorn>=0.14.0->gradio>=3.0.0->evaluate[template])\n",
            "  Downloading h11-0.14.0-py3-none-any.whl (58 kB)\n",
            "\u001b[2K     \u001b[90m━━━━━━━━━━━━━━━━━━━━━━━━━━━━━━━━━━━━━━━━\u001b[0m \u001b[32m58.3/58.3 kB\u001b[0m \u001b[31m8.6 MB/s\u001b[0m eta \u001b[36m0:00:00\u001b[0m\n",
            "\u001b[?25hCollecting starlette<0.28.0,>=0.27.0 (from fastapi->gradio>=3.0.0->evaluate[template])\n",
            "  Downloading starlette-0.27.0-py3-none-any.whl (66 kB)\n",
            "\u001b[2K     \u001b[90m━━━━━━━━━━━━━━━━━━━━━━━━━━━━━━━━━━━━━━━━\u001b[0m \u001b[32m67.0/67.0 kB\u001b[0m \u001b[31m9.2 MB/s\u001b[0m eta \u001b[36m0:00:00\u001b[0m\n",
            "\u001b[?25hCollecting httpcore<0.18.0,>=0.15.0 (from httpx->gradio>=3.0.0->evaluate[template])\n",
            "  Downloading httpcore-0.17.2-py3-none-any.whl (72 kB)\n",
            "\u001b[2K     \u001b[90m━━━━━━━━━━━━━━━━━━━━━━━━━━━━━━━━━━━━━━━━\u001b[0m \u001b[32m72.5/72.5 kB\u001b[0m \u001b[31m9.9 MB/s\u001b[0m eta \u001b[36m0:00:00\u001b[0m\n",
            "\u001b[?25hRequirement already satisfied: sniffio in /usr/local/lib/python3.10/dist-packages (from httpx->gradio>=3.0.0->evaluate[template]) (1.3.0)\n",
            "Requirement already satisfied: contourpy>=1.0.1 in /usr/local/lib/python3.10/dist-packages (from matplotlib->gradio>=3.0.0->evaluate[template]) (1.0.7)\n",
            "Requirement already satisfied: cycler>=0.10 in /usr/local/lib/python3.10/dist-packages (from matplotlib->gradio>=3.0.0->evaluate[template]) (0.11.0)\n",
            "Requirement already satisfied: fonttools>=4.22.0 in /usr/local/lib/python3.10/dist-packages (from matplotlib->gradio>=3.0.0->evaluate[template]) (4.39.3)\n",
            "Requirement already satisfied: kiwisolver>=1.0.1 in /usr/local/lib/python3.10/dist-packages (from matplotlib->gradio>=3.0.0->evaluate[template]) (1.4.4)\n",
            "Requirement already satisfied: pyparsing>=2.3.1 in /usr/local/lib/python3.10/dist-packages (from matplotlib->gradio>=3.0.0->evaluate[template]) (3.0.9)\n",
            "Requirement already satisfied: anyio<5.0,>=3.0 in /usr/local/lib/python3.10/dist-packages (from httpcore<0.18.0,>=0.15.0->httpx->gradio>=3.0.0->evaluate[template]) (3.6.2)\n",
            "Requirement already satisfied: pyrsistent!=0.17.0,!=0.17.1,!=0.17.2,>=0.14.0 in /usr/local/lib/python3.10/dist-packages (from jsonschema>=3.0->altair>=4.2.0->gradio>=3.0.0->evaluate[template]) (0.19.3)\n",
            "Collecting uc-micro-py (from linkify-it-py<3,>=1->markdown-it-py[linkify]>=2.0.0->gradio>=3.0.0->evaluate[template])\n",
            "  Downloading uc_micro_py-1.0.2-py3-none-any.whl (6.2 kB)\n",
            "Building wheels for collected packages: ffmpy\n",
            "  Building wheel for ffmpy (setup.py) ... \u001b[?25l\u001b[?25hdone\n",
            "  Created wheel for ffmpy: filename=ffmpy-0.3.0-py3-none-any.whl size=4694 sha256=29278457e7324b0d6bc02e7c25bcde662db63f420e90ba4ab8cb4864f7aafe88\n",
            "  Stored in directory: /root/.cache/pip/wheels/0c/c2/0e/3b9c6845c6a4e35beb90910cc70d9ac9ab5d47402bd62af0df\n",
            "Successfully built ffmpy\n",
            "Installing collected packages: pydub, ffmpy, websockets, uc-micro-py, semantic-version, python-multipart, orjson, h11, binaryornot, aiofiles, uvicorn, starlette, mdit-py-plugins, linkify-it-py, httpcore, arrow, jinja2-time, httpx, fastapi, gradio-client, cookiecutter, gradio\n",
            "Successfully installed aiofiles-23.1.0 arrow-1.2.3 binaryornot-0.4.4 cookiecutter-2.1.1 fastapi-0.97.0 ffmpy-0.3.0 gradio-3.35.2 gradio-client-0.2.7 h11-0.14.0 httpcore-0.17.2 httpx-0.24.1 jinja2-time-0.2.0 linkify-it-py-2.0.2 mdit-py-plugins-0.3.3 orjson-3.9.1 pydub-0.25.1 python-multipart-0.0.6 semantic-version-2.10.0 starlette-0.27.0 uc-micro-py-1.0.2 uvicorn-0.22.0 websockets-11.0.3\n"
          ]
        },
        {
          "output_type": "display_data",
          "data": {
            "text/plain": [
              "Downloading builder script:   0%|          | 0.00/6.77k [00:00<?, ?B/s]"
            ],
            "application/vnd.jupyter.widget-view+json": {
              "version_major": 2,
              "version_minor": 0,
              "model_id": "5caf22001b1b49e0854365b0254cf7c1"
            }
          },
          "metadata": {}
        }
      ]
    },
    {
      "cell_type": "code",
      "source": [
        "trainer = CustomSeq2SeqTrainer(\n",
        "                  model,\n",
        "                  args = train_args,\n",
        "                 # compute_metrics = compute_metrics,\n",
        "                  data_collator = collator,\n",
        "                  train_dataset = train_dataset,\n",
        "                  eval_dataset = val_dataset,\n",
        "                  optimizers = (optimizer, scheduler)\n",
        "                 )\n",
        "device = torch.device('cuda' if torch.cuda.is_available() else 'cpu')\n",
        "model.to(device)\n",
        "torch.cuda.empty_cache()"
      ],
      "metadata": {
        "id": "Pc2nb0kJ5238"
      },
      "execution_count": null,
      "outputs": []
    },
    {
      "cell_type": "code",
      "source": [
        "trainer.train()"
      ],
      "metadata": {
        "colab": {
          "base_uri": "https://localhost:8080/",
          "height": 218
        },
        "id": "EFqlNkducyRG",
        "outputId": "6747abcd-9e55-4c42-e525-ad1f2356c29e"
      },
      "execution_count": null,
      "outputs": [
        {
          "output_type": "display_data",
          "data": {
            "text/plain": [
              "<IPython.core.display.HTML object>"
            ],
            "text/html": [
              "\n",
              "    <div>\n",
              "      \n",
              "      <progress value='3672' max='3672' style='width:300px; height:20px; vertical-align: middle;'></progress>\n",
              "      [3672/3672 1:24:21, Epoch 4/4]\n",
              "    </div>\n",
              "    <table border=\"1\" class=\"dataframe\">\n",
              "  <thead>\n",
              " <tr style=\"text-align: left;\">\n",
              "      <th>Epoch</th>\n",
              "      <th>Training Loss</th>\n",
              "      <th>Validation Loss</th>\n",
              "    </tr>\n",
              "  </thead>\n",
              "  <tbody>\n",
              "    <tr>\n",
              "      <td>1</td>\n",
              "      <td>3.934700</td>\n",
              "      <td>1.960869</td>\n",
              "    </tr>\n",
              "    <tr>\n",
              "      <td>2</td>\n",
              "      <td>2.414800</td>\n",
              "      <td>1.873964</td>\n",
              "    </tr>\n",
              "    <tr>\n",
              "      <td>3</td>\n",
              "      <td>2.283100</td>\n",
              "      <td>1.838284</td>\n",
              "    </tr>\n",
              "    <tr>\n",
              "      <td>4</td>\n",
              "      <td>2.244800</td>\n",
              "      <td>1.826722</td>\n",
              "    </tr>\n",
              "  </tbody>\n",
              "</table><p>"
            ]
          },
          "metadata": {}
        },
        {
          "output_type": "execute_result",
          "data": {
            "text/plain": [
              "TrainOutput(global_step=3672, training_loss=2.7193325599554057, metrics={'train_runtime': 5077.0898, 'train_samples_per_second': 11.565, 'train_steps_per_second': 0.723, 'total_flos': 7296811570298880.0, 'train_loss': 2.7193325599554057, 'epoch': 4.0})"
            ]
          },
          "metadata": {},
          "execution_count": 22
        }
      ]
    },
    {
      "cell_type": "code",
      "source": [
        "save_location"
      ],
      "metadata": {
        "colab": {
          "base_uri": "https://localhost:8080/"
        },
        "id": "7DXBsXLP0yOL",
        "outputId": "dec5398c-0bfc-4db4-f347-13f92a94027c"
      },
      "execution_count": null,
      "outputs": [
        {
          "output_type": "execute_result",
          "data": {
            "text/plain": [
              "'G:/Shared drives/CS263_final/models/ViT_mt5_adjusted_dataset/'"
            ]
          },
          "metadata": {},
          "execution_count": 25
        }
      ]
    },
    {
      "cell_type": "code",
      "source": [
        "trainer.train(resume_from_checkpoint = '/content/drive/Shareddrives/CS263_final/models/ViT_mt5_adjusted_dataset/checkpoint-3672')"
      ],
      "metadata": {
        "colab": {
          "base_uri": "https://localhost:8080/",
          "height": 93
        },
        "id": "NdW6Y2RF8gFJ",
        "outputId": "b5be0b8d-9e1d-49bc-c199-f86f98b2d0bf"
      },
      "execution_count": null,
      "outputs": [
        {
          "output_type": "display_data",
          "data": {
            "text/plain": [
              "<IPython.core.display.HTML object>"
            ],
            "text/html": [
              "\n",
              "    <div>\n",
              "      \n",
              "      <progress value='3672' max='3672' style='width:300px; height:20px; vertical-align: middle;'></progress>\n",
              "      [3672/3672 : < :, Epoch 4/4]\n",
              "    </div>\n",
              "    <table border=\"1\" class=\"dataframe\">\n",
              "  <thead>\n",
              " <tr style=\"text-align: left;\">\n",
              "      <th>Epoch</th>\n",
              "      <th>Training Loss</th>\n",
              "      <th>Validation Loss</th>\n",
              "    </tr>\n",
              "  </thead>\n",
              "  <tbody>\n",
              "  </tbody>\n",
              "</table><p>"
            ]
          },
          "metadata": {}
        },
        {
          "output_type": "execute_result",
          "data": {
            "text/plain": [
              "TrainOutput(global_step=3672, training_loss=0.0, metrics={'train_runtime': 11.6028, 'train_samples_per_second': 5060.51, 'train_steps_per_second': 316.476, 'total_flos': 7296811570298880.0, 'train_loss': 0.0, 'epoch': 4.0})"
            ]
          },
          "metadata": {},
          "execution_count": 23
        }
      ]
    },
    {
      "cell_type": "code",
      "source": [
        "!pip install torchmetrics\n",
        "from torchmetrics import F1Score\n",
        "f1 = F1Score(task = 'multiclass', num_classes = 250112, top_k=1, ignore_index=0)"
      ],
      "metadata": {
        "id": "lv8OwYiiwITG",
        "colab": {
          "base_uri": "https://localhost:8080/"
        },
        "outputId": "fe1e0f04-b533-477b-9b7d-5d9d90101e45"
      },
      "execution_count": null,
      "outputs": [
        {
          "output_type": "stream",
          "name": "stdout",
          "text": [
            "Looking in indexes: https://pypi.org/simple, https://us-python.pkg.dev/colab-wheels/public/simple/\n",
            "Collecting torchmetrics\n",
            "  Downloading torchmetrics-0.11.4-py3-none-any.whl (519 kB)\n",
            "\u001b[2K     \u001b[90m━━━━━━━━━━━━━━━━━━━━━━━━━━━━━━━━━━━━━━\u001b[0m \u001b[32m519.2/519.2 kB\u001b[0m \u001b[31m13.7 MB/s\u001b[0m eta \u001b[36m0:00:00\u001b[0m\n",
            "\u001b[?25hRequirement already satisfied: numpy>=1.17.2 in /usr/local/lib/python3.10/dist-packages (from torchmetrics) (1.22.4)\n",
            "Requirement already satisfied: torch>=1.8.1 in /usr/local/lib/python3.10/dist-packages (from torchmetrics) (2.0.1+cu118)\n",
            "Requirement already satisfied: packaging in /usr/local/lib/python3.10/dist-packages (from torchmetrics) (23.1)\n",
            "Requirement already satisfied: filelock in /usr/local/lib/python3.10/dist-packages (from torch>=1.8.1->torchmetrics) (3.12.0)\n",
            "Requirement already satisfied: typing-extensions in /usr/local/lib/python3.10/dist-packages (from torch>=1.8.1->torchmetrics) (4.5.0)\n",
            "Requirement already satisfied: sympy in /usr/local/lib/python3.10/dist-packages (from torch>=1.8.1->torchmetrics) (1.11.1)\n",
            "Requirement already satisfied: networkx in /usr/local/lib/python3.10/dist-packages (from torch>=1.8.1->torchmetrics) (3.1)\n",
            "Requirement already satisfied: jinja2 in /usr/local/lib/python3.10/dist-packages (from torch>=1.8.1->torchmetrics) (3.1.2)\n",
            "Requirement already satisfied: triton==2.0.0 in /usr/local/lib/python3.10/dist-packages (from torch>=1.8.1->torchmetrics) (2.0.0)\n",
            "Requirement already satisfied: cmake in /usr/local/lib/python3.10/dist-packages (from triton==2.0.0->torch>=1.8.1->torchmetrics) (3.25.2)\n",
            "Requirement already satisfied: lit in /usr/local/lib/python3.10/dist-packages (from triton==2.0.0->torch>=1.8.1->torchmetrics) (16.0.5)\n",
            "Requirement already satisfied: MarkupSafe>=2.0 in /usr/local/lib/python3.10/dist-packages (from jinja2->torch>=1.8.1->torchmetrics) (2.1.2)\n",
            "Requirement already satisfied: mpmath>=0.19 in /usr/local/lib/python3.10/dist-packages (from sympy->torch>=1.8.1->torchmetrics) (1.3.0)\n",
            "Installing collected packages: torchmetrics\n",
            "Successfully installed torchmetrics-0.11.4\n"
          ]
        }
      ]
    },
    {
      "cell_type": "code",
      "source": [
        "config = GenerationConfig.from_pretrained(txt_checkpoint, max_length = 80)\n",
        "greedy_F1_scores = []\n",
        "shuffled_set = test_dataset.shuffle(seed = 2023).select(list(range(1000)))\n",
        "for data in shuffled_set:\n",
        "  inputs = collator(data)\n",
        "  for k, v in inputs.items():\n",
        "    inputs[k] = v.to(device)\n",
        "  labels = inputs.pop('labels' )\n",
        "  inputs.pop(\"decoder_attention_mask\")\n",
        "  generation_output = model.generate(**inputs, generation_config = config , return_dict_in_generate = True, output_scores = True, num_beams = 1)\n",
        "  pred_str = tokenizer.batch_decode(generation_output['sequences'], skip_special_tokens = True)\n",
        "  padded_str = tokenizer(pred_str +  [data['answer']], padding = 'longest', return_attention_mask = False, return_tensors='pt')\n",
        "  padded_pred_token = padded_str['input_ids'][0]\n",
        "  padded_label_token = padded_str['input_ids'][1]\n",
        "  score = f1(padded_pred_token, padded_label_token)\n",
        "  greedy_F1_scores.append(score)\n",
        "  gc.collect()\n",
        "  torch.cuda.empty_cache()\n",
        "greedy_f1_score_avg = np.mean(greedy_F1_scores)"
      ],
      "metadata": {
        "colab": {
          "base_uri": "https://localhost:8080/"
        },
        "id": "kR6QchrwN5kr",
        "outputId": "029a4239-a6ed-4552-877f-356847830e53"
      },
      "execution_count": null,
      "outputs": [
        {
          "output_type": "stream",
          "name": "stderr",
          "text": [
            "WARNING:datasets.arrow_dataset:Loading cached shuffled indices for dataset at /content/drive/Shareddrives/CS263_final/models/data/evjvqa_train_PIL_image/cache-ccdcb774d819f7c1.arrow\n",
            "/usr/local/lib/python3.10/dist-packages/transformers/generation/utils.py:1353: UserWarning: Using `max_length`'s default (80) to control the generation length. This behaviour is deprecated and will be removed from the config in v5 of Transformers -- we recommend using `max_new_tokens` to control the maximum length of the generation.\n",
            "  warnings.warn(\n"
          ]
        }
      ]
    },
    {
      "cell_type": "code",
      "source": [
        "greedy_f1_score_avg"
      ],
      "metadata": {
        "colab": {
          "base_uri": "https://localhost:8080/"
        },
        "id": "5EoNzOyKAvPe",
        "outputId": "def9296a-aaec-4ad6-e21a-becf97921eef"
      },
      "execution_count": null,
      "outputs": [
        {
          "output_type": "execute_result",
          "data": {
            "text/plain": [
              "0.11457736"
            ]
          },
          "metadata": {},
          "execution_count": 47
        }
      ]
    },
    {
      "cell_type": "code",
      "source": [
        "beam4_F1_scores = []\n",
        "for data in shuffled_set:\n",
        "  inputs = collator(data)\n",
        "  for k, v in inputs.items():\n",
        "    inputs[k] = v.to(device)\n",
        "  labels = inputs.pop('labels' )\n",
        "  inputs.pop(\"decoder_attention_mask\")\n",
        "  generation_output = model.generate(**inputs, generation_config = config, return_dict_in_generate = True, output_scores = True, num_beams = 4)\n",
        "  pred_str = tokenizer.batch_decode(generation_output['sequences'], skip_special_tokens = True)\n",
        "  padded_str = tokenizer(pred_str +  [data['answer']], padding = 'longest', return_attention_mask = False, return_tensors='pt')\n",
        "  padded_pred_token = padded_str['input_ids'][0]\n",
        "  padded_label_token = padded_str['input_ids'][1]\n",
        "  score = f1(padded_pred_token, padded_label_token)\n",
        "  beam4_F1_scores.append(score)\n",
        "  gc.collect()\n",
        "  torch.cuda.empty_cache()\n",
        "beam4_f1_score_avg = np.mean(beam4_F1_scores)"
      ],
      "metadata": {
        "colab": {
          "base_uri": "https://localhost:8080/"
        },
        "id": "wGz9K6FF8n8w",
        "outputId": "b25e8ecf-ae37-4ca3-dbc9-7fe6d129f09f"
      },
      "execution_count": null,
      "outputs": [
        {
          "output_type": "stream",
          "name": "stderr",
          "text": [
            "/usr/local/lib/python3.10/dist-packages/transformers/generation/utils.py:1353: UserWarning: Using `max_length`'s default (80) to control the generation length. This behaviour is deprecated and will be removed from the config in v5 of Transformers -- we recommend using `max_new_tokens` to control the maximum length of the generation.\n",
            "  warnings.warn(\n"
          ]
        }
      ]
    },
    {
      "cell_type": "code",
      "source": [
        "beam4_f1_score_avg"
      ],
      "metadata": {
        "colab": {
          "base_uri": "https://localhost:8080/"
        },
        "id": "WHck4dZDGdbG",
        "outputId": "6147f824-1ab8-485e-fe5e-6201b964778a"
      },
      "execution_count": null,
      "outputs": [
        {
          "output_type": "execute_result",
          "data": {
            "text/plain": [
              "0.11874576"
            ]
          },
          "metadata": {},
          "execution_count": 51
        }
      ]
    },
    {
      "cell_type": "markdown",
      "source": [],
      "metadata": {
        "id": "J4C-fupC78g9"
      }
    },
    {
      "cell_type": "code",
      "source": [
        "trainer.evaluate()"
      ],
      "metadata": {
        "colab": {
          "base_uri": "https://localhost:8080/",
          "height": 124
        },
        "id": "HJUCIOtE6Z1a",
        "outputId": "9215da01-6fe7-4b7c-8526-ca5ea181b75d"
      },
      "execution_count": null,
      "outputs": [
        {
          "output_type": "display_data",
          "data": {
            "text/plain": [
              "<IPython.core.display.HTML object>"
            ],
            "text/html": [
              "\n",
              "    <div>\n",
              "      \n",
              "      <progress value='564' max='564' style='width:300px; height:20px; vertical-align: middle;'></progress>\n",
              "      [564/564 03:24]\n",
              "    </div>\n",
              "    "
            ]
          },
          "metadata": {}
        },
        {
          "output_type": "execute_result",
          "data": {
            "text/plain": [
              "{'eval_loss': 1.8267217874526978,\n",
              " 'eval_runtime': 209.9235,\n",
              " 'eval_samples_per_second': 21.46,\n",
              " 'eval_steps_per_second': 1.343,\n",
              " 'epoch': 4.0}"
            ]
          },
          "metadata": {},
          "execution_count": 52
        }
      ]
    },
    {
      "cell_type": "code",
      "source": [
        "import locale\n",
        "locale.getpreferredencoding = lambda: \"UTF-8\""
      ],
      "metadata": {
        "id": "e8p94QuQMveu"
      },
      "execution_count": null,
      "outputs": []
    },
    {
      "cell_type": "code",
      "source": [
        "!pip install langdetect\n",
        "from nltk.translate import bleu\n",
        "from nltk.translate.bleu_score import SmoothingFunction\n",
        "from langdetect import detect"
      ],
      "metadata": {
        "id": "o9NhNuZy3TYb",
        "colab": {
          "base_uri": "https://localhost:8080/"
        },
        "outputId": "1776f052-38dc-40a7-d30f-ba274aed15b9"
      },
      "execution_count": null,
      "outputs": [
        {
          "output_type": "stream",
          "name": "stdout",
          "text": [
            "Looking in indexes: https://pypi.org/simple, https://us-python.pkg.dev/colab-wheels/public/simple/\n",
            "Collecting langdetect\n",
            "  Downloading langdetect-1.0.9.tar.gz (981 kB)\n",
            "\u001b[2K     \u001b[90m━━━━━━━━━━━━━━━━━━━━━━━━━━━━━━━━━━━━━━\u001b[0m \u001b[32m981.5/981.5 kB\u001b[0m \u001b[31m24.7 MB/s\u001b[0m eta \u001b[36m0:00:00\u001b[0m\n",
            "\u001b[?25h  Preparing metadata (setup.py) ... \u001b[?25l\u001b[?25hdone\n",
            "Requirement already satisfied: six in /usr/local/lib/python3.10/dist-packages (from langdetect) (1.16.0)\n",
            "Building wheels for collected packages: langdetect\n",
            "  Building wheel for langdetect (setup.py) ... \u001b[?25l\u001b[?25hdone\n",
            "  Created wheel for langdetect: filename=langdetect-1.0.9-py3-none-any.whl size=993224 sha256=0dbc1e89b111f7229fceae7a552f5be579898e3ad7a1182fd62569c90a5e5897\n",
            "  Stored in directory: /root/.cache/pip/wheels/95/03/7d/59ea870c70ce4e5a370638b5462a7711ab78fba2f655d05106\n",
            "Successfully built langdetect\n",
            "Installing collected packages: langdetect\n",
            "Successfully installed langdetect-1.0.9\n"
          ]
        }
      ]
    },
    {
      "cell_type": "code",
      "source": [
        "import string\n",
        "smoothie = SmoothingFunction().method4\n",
        "config = GenerationConfig.from_pretrained(txt_checkpoint, max_length = 80)\n",
        "shuffled_set = test_dataset.shuffle(seed = 2023).select(list(range(1000)))\n",
        "def bleu_score(reference, candidate):\n",
        "  # ignore punctuations\n",
        "  reference = reference.translate(str.maketrans('', '', string.punctuation))\n",
        "  candidate = candidate.translate(str.maketrans('', '', string.punctuation))\n",
        "  ref_list, can_list = [],[]\n",
        "  # convert string to list of words\n",
        "  try:\n",
        "      lang = detect(reference)\n",
        "  except:\n",
        "      lang = \"error\"\n",
        "      print(\"error for detecting: \", reference)\n",
        "  # Detect if the language is Japanese, whose words in answers are not split by space.\n",
        "  # Need to make it a list of characters for bleu score calculation.\n",
        "  if lang != \"en\" or lang != \"vi\":\n",
        "    # ignore possible spaces in Japanese sentences\n",
        "    reference = reference.replace(\" \", \"\")\n",
        "    candidate = candidate.replace(\" \", \"\")\n",
        "    for ch in reference:\n",
        "      ref_list.append(ch)\n",
        "    for ch in candidate:\n",
        "      can_list.append(ch)\n",
        "  else:\n",
        "    ref_list = reference.split()\n",
        "    can_list = candidate.split()\n",
        "\n",
        "  score = bleu([ref_list], can_list,smoothing_function=smoothie, weights = [0.25,0.25,0.25,0.25])\n",
        "  return score\n",
        "\n",
        "# Evaluate model performance on test dataset\n",
        "def test_eval(test_data, model):\n",
        "  f1_torchmetric, bleu_l, pred_token_l, pred_word_l = [],[],[],[]\n",
        "  f1_en, f1_ja, f1_vi = [],[],[]\n",
        "  bleu_en, bleu_ja, bleu_vi = [],[],[]\n",
        "  f1 = F1Score(task=\"multiclass\", num_classes=250, topk = 1, ignore_index = 0)\n",
        "  for data in test_data:\n",
        "    inputs = collator(data)\n",
        "    for k, v in inputs.items():\n",
        "      inputs[k] = v.to(device)\n",
        "\n",
        "    labels = inputs.pop('labels' )\n",
        "    inputs.pop(\"decoder_attention_mask\")\n",
        "    generation_output = model.generate(**inputs, generation_config = config, return_dict_in_generate = True, output_scores = True, num_beams = 4)\n",
        "    pred_str = tokenizer.batch_decode(generation_output['sequences'], skip_special_tokens = True)\n",
        "    padded_str = tokenizer(pred_str +  [data['answer']], padding = 'longest', return_attention_mask = False, return_tensors='pt')\n",
        "    padded_pred_token = padded_str['input_ids'][0]\n",
        "    padded_label_token = padded_str['input_ids'][1]\n",
        "\n",
        "    # F1 score from torch.metric\n",
        "\n",
        "    s3 = f1(padded_pred_token, padded_label_token)\n",
        "    f1_torchmetric.append(s3)\n",
        "\n",
        "    # Compute bleu score\n",
        "    s2 = bleu_score(data['answer'], pred_str[0])\n",
        "    bleu_l.append(s2)\n",
        "\n",
        "    try:\n",
        "      lang = detect(data['answer'])\n",
        "    except:\n",
        "      lang = \"error\"\n",
        "      #print(\"error for detecting: \", answer)\n",
        "    if lang == \"en\":\n",
        "      f1_en.append(s3)\n",
        "      bleu_en.append(s2)\n",
        "    elif lang == \"vi\":\n",
        "      f1_vi.append(s3)\n",
        "      bleu_vi.append(s2)\n",
        "    else:\n",
        "      f1_ja.append(s3)\n",
        "      bleu_ja.append(s2)\n",
        "\n",
        "\n",
        "  return f1_torchmetric, bleu_l, pred_token_l, pred_word_l, f1_en, f1_ja, f1_vi, bleu_en, bleu_ja, bleu_vi"
      ],
      "metadata": {
        "colab": {
          "base_uri": "https://localhost:8080/"
        },
        "id": "n2nIkxOW4Mov",
        "outputId": "42da91b0-b926-41de-acac-d0cee69ee8ca"
      },
      "execution_count": null,
      "outputs": [
        {
          "output_type": "stream",
          "name": "stderr",
          "text": [
            "WARNING:datasets.arrow_dataset:Loading cached shuffled indices for dataset at /content/drive/Shareddrives/CS263_final/models/data/evjvqa_train_PIL_image/cache-ccdcb774d819f7c1.arrow\n"
          ]
        }
      ]
    },
    {
      "cell_type": "code",
      "source": [
        "f1_torchmetric, bleu_l, pred_token_l, pred_word_l, f1_en, f1_ja, f1_vi, bleu_en, bleu_ja, bleu_vi = test_eval(shuffled_set,model)"
      ],
      "metadata": {
        "colab": {
          "base_uri": "https://localhost:8080/"
        },
        "id": "IbO47WG73Zx3",
        "outputId": "935fb8b4-bb43-4d32-f9b0-eabde1aaf2f5"
      },
      "execution_count": null,
      "outputs": [
        {
          "output_type": "stream",
          "name": "stderr",
          "text": [
            "/usr/local/lib/python3.10/dist-packages/transformers/generation/utils.py:1353: UserWarning: Using `max_length`'s default (80) to control the generation length. This behaviour is deprecated and will be removed from the config in v5 of Transformers -- we recommend using `max_new_tokens` to control the maximum length of the generation.\n",
            "  warnings.warn(\n"
          ]
        }
      ]
    },
    {
      "cell_type": "code",
      "source": [
        "print(\"average f1 score: \", sum(f1_torchmetric)/len(f1_torchmetric))\n",
        "print(\"average f1 score in en: \", sum(f1_en)/len(f1_en))\n",
        "print(\"average f1 score in ja: \", sum(f1_ja)/len(f1_ja))\n",
        "print(\"average f1 score in vi: \", sum(f1_vi)/len(f1_vi))\n",
        "print(\"average bleu score: \", sum(bleu_l)/len(bleu_l))\n",
        "print(\"average bleu score in en: \", sum(bleu_en)/len(bleu_en))\n",
        "print(\"average bleu score in ja: \", sum(bleu_ja)/len(bleu_ja))\n",
        "print(\"average bleu score in vi: \", sum(bleu_vi)/len(bleu_vi))"
      ],
      "metadata": {
        "id": "CuAX6PMn314Q",
        "colab": {
          "base_uri": "https://localhost:8080/"
        },
        "outputId": "b1f3769b-32e2-49b3-cfe6-1598baf63ba7"
      },
      "execution_count": null,
      "outputs": [
        {
          "output_type": "stream",
          "name": "stdout",
          "text": [
            "average f1 score:  tensor(0.1187)\n",
            "average f1 score in en:  tensor(0.1293)\n",
            "average f1 score in ja:  tensor(0.1804)\n",
            "average f1 score in vi:  tensor(0.0720)\n",
            "average bleu score:  0.19329738470769095\n",
            "average bleu score in en:  0.21615040545746905\n",
            "average bleu score in ja:  0.16883627278173355\n",
            "average bleu score in vi:  0.19905563350710032\n"
          ]
        }
      ]
    },
    {
      "cell_type": "code",
      "source": [
        "generation_output = model.generate(**data, max_length = 80)"
      ],
      "metadata": {
        "id": "pwfe2xJX3m9b"
      },
      "execution_count": null,
      "outputs": []
    },
    {
      "cell_type": "code",
      "source": [
        "torch.cuda.empty_cache()\n",
        "generation_output"
      ],
      "metadata": {
        "colab": {
          "base_uri": "https://localhost:8080/"
        },
        "id": "0m9Y9LLw39zh",
        "outputId": "381ea4e5-6fbf-4033-a537-57ac16e322bb"
      },
      "execution_count": null,
      "outputs": [
        {
          "output_type": "execute_result",
          "data": {
            "text/plain": [
              "tensor([[0, 0, 0, 0, 0, 0, 0, 0, 0, 0, 0, 0, 0, 0, 0, 0, 0, 0, 0, 0, 0, 0, 0, 0,\n",
              "         0, 0, 0, 0, 0, 0, 0, 0, 0, 0, 0, 0, 0, 0, 0, 0, 0, 0, 0, 0, 0, 0, 0, 0,\n",
              "         0, 0, 0, 0, 0, 0, 0, 0, 0, 0, 0, 0, 0, 0, 0, 0, 0, 0, 0, 0, 0, 0, 0, 0,\n",
              "         0, 0, 0, 0, 0, 0, 0, 0],\n",
              "        [0, 0, 0, 0, 0, 0, 0, 0, 0, 0, 0, 0, 0, 0, 0, 0, 0, 0, 0, 0, 0, 0, 0, 0,\n",
              "         0, 0, 0, 0, 0, 0, 0, 0, 0, 0, 0, 0, 0, 0, 0, 0, 0, 0, 0, 0, 0, 0, 0, 0,\n",
              "         0, 0, 0, 0, 0, 0, 0, 0, 0, 0, 0, 0, 0, 0, 0, 0, 0, 0, 0, 0, 0, 0, 0, 0,\n",
              "         0, 0, 0, 0, 0, 0, 0, 0]], device='cuda:0')"
            ]
          },
          "metadata": {},
          "execution_count": 46
        }
      ]
    },
    {
      "cell_type": "code",
      "source": [
        "class EVJVQA_Dataset(torch.utils.data.Dataset):\n",
        "  \"\"\"\n",
        "  Dataset class for the EVJVQA dataset.\n",
        "  \"\"\"\n",
        "  def __init__(self, annotation_file, img_dir, zip_subpath):\n",
        "    \"\"\"\n",
        "    Inputs:\n",
        "      annotation_file - file path for the annotation json file\n",
        "      img_dir - file path for the image zip file\n",
        "      zip_subpath - subfolder in the zip folder\n",
        "    \"\"\"\n",
        "    with open(annotation_file, encoding = 'utf-8') as f:\n",
        "      json_file = json.load(f)\n",
        "    self.annotations = pd.DataFrame(json_file['annotations'])\n",
        "    self.img_reference = pd.DataFrame(json_file['images']).set_index('id')\n",
        "    self.img_dir = img_dir\n",
        "    self.transform = ToTensor()\n",
        "    self.subpath = zip_subpath + '/'\n",
        "\n",
        "  def __len__(self):\n",
        "    return len(self.annotations)\n",
        "\n",
        "  def __getitem__(self, idx):\n",
        "    annot_id = self.annotations.loc[idx, 'id']\n",
        "    image_id = self.annotations.loc[idx , 'image_id']\n",
        "    question = self.annotations.loc[idx , 'question']\n",
        "    answer = self.annotations.loc[idx , 'answer']\n",
        "    img_file = self.img_reference.loc[image_id, 'filename']\n",
        "    with zipfile.ZipFile(self.img_dir, 'r') as zip_ref:\n",
        "       imgdata = zip_ref.open(self.subpath + img_file)\n",
        "       img = Image.open(imgdata).convert('RGB')\n",
        "    img = self.transform(img)\n",
        "    return {\n",
        "        'id': annot_id,\n",
        "        'question': question,\n",
        "        'answer': answer,\n",
        "        'image': img,\n",
        "    }"
      ],
      "metadata": {
        "id": "IqK0ecMvkhc3"
      },
      "execution_count": null,
      "outputs": []
    },
    {
      "cell_type": "code",
      "source": [
        "annot_path = '/content/drive/Shareddrives/CS263_final/models/data/official_evjvqa_public_test.json'\n",
        "img_zip_path = '/content/drive/Shareddrives/CS263_final/models/data/public-test-images.zip'\n",
        "dataset = EVJVQA_Dataset(annot_path, img_zip_path, 'public-test-images')"
      ],
      "metadata": {
        "id": "1oEfi0NxodZL"
      },
      "execution_count": null,
      "outputs": []
    },
    {
      "cell_type": "code",
      "source": [
        "loader = DataLoader(dataset, collate_fn = collator)"
      ],
      "metadata": {
        "id": "cFPnNVbQ_wT_"
      },
      "execution_count": null,
      "outputs": []
    },
    {
      "cell_type": "code",
      "source": [
        "config = GenerationConfig.from_pretrained(txt_checkpoint, max_length = 80)\n",
        "results = {}\n",
        "for i in dataset:\n",
        "  id = i['id']\n",
        "  inputs = collator(i)\n",
        "  for k, v in inputs.items():\n",
        "    inputs[k] = v.to(device)\n",
        "  labels = inputs.pop('labels' )\n",
        "  inputs.pop(\"decoder_attention_mask\")\n",
        "  generation_output = model.generate(**inputs, generation_config = config, return_dict_in_generate = True, output_scores = True, num_beams = 4)\n",
        "  pred_str = tokenizer.batch_decode(generation_output['sequences'], skip_special_tokens = True)\n",
        "  results[str(id)] = pred_str[0]\n",
        "\n",
        "\n"
      ],
      "metadata": {
        "colab": {
          "base_uri": "https://localhost:8080/",
          "height": 930
        },
        "id": "J06Syxlyi635",
        "outputId": "45318837-aab9-4e1a-e4d7-137ea6a5e483"
      },
      "execution_count": null,
      "outputs": [
        {
          "output_type": "stream",
          "name": "stderr",
          "text": [
            "/usr/local/lib/python3.10/dist-packages/transformers/generation/utils.py:1353: UserWarning: Using `max_length`'s default (80) to control the generation length. This behaviour is deprecated and will be removed from the config in v5 of Transformers -- we recommend using `max_new_tokens` to control the maximum length of the generation.\n",
            "  warnings.warn(\n"
          ]
        },
        {
          "output_type": "display_data",
          "data": {
            "text/plain": [
              "\u001b[31m╭─\u001b[0m\u001b[31m──────────────────────────────\u001b[0m\u001b[31m \u001b[0m\u001b[1;31mTraceback \u001b[0m\u001b[1;2;31m(most recent call last)\u001b[0m\u001b[31m \u001b[0m\u001b[31m───────────────────────────────\u001b[0m\u001b[31m─╮\u001b[0m\n",
              "\u001b[31m│\u001b[0m \u001b[2;33m/usr/local/lib/python3.10/dist-packages/pandas/core/indexes/\u001b[0m\u001b[1;33mrange.py\u001b[0m:\u001b[94m391\u001b[0m in \u001b[92mget_loc\u001b[0m              \u001b[31m│\u001b[0m\n",
              "\u001b[31m│\u001b[0m                                                                                                  \u001b[31m│\u001b[0m\n",
              "\u001b[31m│\u001b[0m   \u001b[2m 388 \u001b[0m\u001b[2m│   │   │   \u001b[0m\u001b[94mif\u001b[0m is_integer(key) \u001b[95mor\u001b[0m (is_float(key) \u001b[95mand\u001b[0m key.is_integer()):                   \u001b[31m│\u001b[0m\n",
              "\u001b[31m│\u001b[0m   \u001b[2m 389 \u001b[0m\u001b[2m│   │   │   │   \u001b[0mnew_key = \u001b[96mint\u001b[0m(key)                                                        \u001b[31m│\u001b[0m\n",
              "\u001b[31m│\u001b[0m   \u001b[2m 390 \u001b[0m\u001b[2m│   │   │   │   \u001b[0m\u001b[94mtry\u001b[0m:                                                                      \u001b[31m│\u001b[0m\n",
              "\u001b[31m│\u001b[0m \u001b[31m❱ \u001b[0m 391 \u001b[2m│   │   │   │   │   \u001b[0m\u001b[94mreturn\u001b[0m \u001b[96mself\u001b[0m._range.index(new_key)                                     \u001b[31m│\u001b[0m\n",
              "\u001b[31m│\u001b[0m   \u001b[2m 392 \u001b[0m\u001b[2m│   │   │   │   \u001b[0m\u001b[94mexcept\u001b[0m \u001b[96mValueError\u001b[0m \u001b[94mas\u001b[0m err:                                                 \u001b[31m│\u001b[0m\n",
              "\u001b[31m│\u001b[0m   \u001b[2m 393 \u001b[0m\u001b[2m│   │   │   │   │   \u001b[0m\u001b[94mraise\u001b[0m \u001b[96mKeyError\u001b[0m(key) \u001b[94mfrom\u001b[0m \u001b[4;96merr\u001b[0m                                          \u001b[31m│\u001b[0m\n",
              "\u001b[31m│\u001b[0m   \u001b[2m 394 \u001b[0m\u001b[2m│   │   │   \u001b[0m\u001b[96mself\u001b[0m._check_indexing_error(key)                                               \u001b[31m│\u001b[0m\n",
              "\u001b[31m╰──────────────────────────────────────────────────────────────────────────────────────────────────╯\u001b[0m\n",
              "\u001b[1;91mValueError: \u001b[0m\u001b[1;36m5015\u001b[0m is not in range\n",
              "\n",
              "\u001b[3mThe above exception was the direct cause of the following exception:\u001b[0m\n",
              "\n",
              "\u001b[31m╭─\u001b[0m\u001b[31m──────────────────────────────\u001b[0m\u001b[31m \u001b[0m\u001b[1;31mTraceback \u001b[0m\u001b[1;2;31m(most recent call last)\u001b[0m\u001b[31m \u001b[0m\u001b[31m───────────────────────────────\u001b[0m\u001b[31m─╮\u001b[0m\n",
              "\u001b[31m│\u001b[0m in \u001b[92m<cell line: 3>\u001b[0m:\u001b[94m3\u001b[0m                                                                              \u001b[31m│\u001b[0m\n",
              "\u001b[31m│\u001b[0m in \u001b[92m__getitem__\u001b[0m:\u001b[94m24\u001b[0m                                                                                \u001b[31m│\u001b[0m\n",
              "\u001b[31m│\u001b[0m                                                                                                  \u001b[31m│\u001b[0m\n",
              "\u001b[31m│\u001b[0m \u001b[2;33m/usr/local/lib/python3.10/dist-packages/pandas/core/\u001b[0m\u001b[1;33mindexing.py\u001b[0m:\u001b[94m1066\u001b[0m in \u001b[92m__getitem__\u001b[0m              \u001b[31m│\u001b[0m\n",
              "\u001b[31m│\u001b[0m                                                                                                  \u001b[31m│\u001b[0m\n",
              "\u001b[31m│\u001b[0m   \u001b[2m1063 \u001b[0m\u001b[2m│   │   │   \u001b[0mkey = \u001b[96mtuple\u001b[0m(\u001b[96mlist\u001b[0m(x) \u001b[94mif\u001b[0m is_iterator(x) \u001b[94melse\u001b[0m x \u001b[94mfor\u001b[0m x \u001b[95min\u001b[0m key)                    \u001b[31m│\u001b[0m\n",
              "\u001b[31m│\u001b[0m   \u001b[2m1064 \u001b[0m\u001b[2m│   │   │   \u001b[0mkey = \u001b[96mtuple\u001b[0m(com.apply_if_callable(x, \u001b[96mself\u001b[0m.obj) \u001b[94mfor\u001b[0m x \u001b[95min\u001b[0m key)                  \u001b[31m│\u001b[0m\n",
              "\u001b[31m│\u001b[0m   \u001b[2m1065 \u001b[0m\u001b[2m│   │   │   \u001b[0m\u001b[94mif\u001b[0m \u001b[96mself\u001b[0m._is_scalar_access(key):                                               \u001b[31m│\u001b[0m\n",
              "\u001b[31m│\u001b[0m \u001b[31m❱ \u001b[0m1066 \u001b[2m│   │   │   │   \u001b[0m\u001b[94mreturn\u001b[0m \u001b[96mself\u001b[0m.obj._get_value(*key, takeable=\u001b[96mself\u001b[0m._takeable)                 \u001b[31m│\u001b[0m\n",
              "\u001b[31m│\u001b[0m   \u001b[2m1067 \u001b[0m\u001b[2m│   │   │   \u001b[0m\u001b[94mreturn\u001b[0m \u001b[96mself\u001b[0m._getitem_tuple(key)                                               \u001b[31m│\u001b[0m\n",
              "\u001b[31m│\u001b[0m   \u001b[2m1068 \u001b[0m\u001b[2m│   │   \u001b[0m\u001b[94melse\u001b[0m:                                                                             \u001b[31m│\u001b[0m\n",
              "\u001b[31m│\u001b[0m   \u001b[2m1069 \u001b[0m\u001b[2m│   │   │   \u001b[0m\u001b[2m# we by definition only have the 0th axis\u001b[0m                                     \u001b[31m│\u001b[0m\n",
              "\u001b[31m│\u001b[0m                                                                                                  \u001b[31m│\u001b[0m\n",
              "\u001b[31m│\u001b[0m \u001b[2;33m/usr/local/lib/python3.10/dist-packages/pandas/core/\u001b[0m\u001b[1;33mframe.py\u001b[0m:\u001b[94m3924\u001b[0m in \u001b[92m_get_value\u001b[0m                  \u001b[31m│\u001b[0m\n",
              "\u001b[31m│\u001b[0m                                                                                                  \u001b[31m│\u001b[0m\n",
              "\u001b[31m│\u001b[0m   \u001b[2m 3921 \u001b[0m\u001b[2m│   │   │   \u001b[0m\u001b[2m# CategoricalIndex: Trying to use the engine fastpath may give incorrect\u001b[0m     \u001b[31m│\u001b[0m\n",
              "\u001b[31m│\u001b[0m   \u001b[2m 3922 \u001b[0m\u001b[2m│   │   │   \u001b[0m\u001b[2m#  results if our categories are integers that dont match our codes\u001b[0m          \u001b[31m│\u001b[0m\n",
              "\u001b[31m│\u001b[0m   \u001b[2m 3923 \u001b[0m\u001b[2m│   │   │   \u001b[0m\u001b[2m# IntervalIndex: IntervalTree has no get_loc\u001b[0m                                 \u001b[31m│\u001b[0m\n",
              "\u001b[31m│\u001b[0m \u001b[31m❱ \u001b[0m 3924 \u001b[2m│   │   │   \u001b[0mrow = \u001b[96mself\u001b[0m.index.get_loc(index)                                              \u001b[31m│\u001b[0m\n",
              "\u001b[31m│\u001b[0m   \u001b[2m 3925 \u001b[0m\u001b[2m│   │   │   \u001b[0m\u001b[94mreturn\u001b[0m series._values[row]                                                   \u001b[31m│\u001b[0m\n",
              "\u001b[31m│\u001b[0m   \u001b[2m 3926 \u001b[0m\u001b[2m│   │   \u001b[0m                                                                                 \u001b[31m│\u001b[0m\n",
              "\u001b[31m│\u001b[0m   \u001b[2m 3927 \u001b[0m\u001b[2m│   │   \u001b[0m\u001b[2m# For MultiIndex going through engine effectively restricts us to\u001b[0m                \u001b[31m│\u001b[0m\n",
              "\u001b[31m│\u001b[0m                                                                                                  \u001b[31m│\u001b[0m\n",
              "\u001b[31m│\u001b[0m \u001b[2;33m/usr/local/lib/python3.10/dist-packages/pandas/core/indexes/\u001b[0m\u001b[1;33mrange.py\u001b[0m:\u001b[94m393\u001b[0m in \u001b[92mget_loc\u001b[0m              \u001b[31m│\u001b[0m\n",
              "\u001b[31m│\u001b[0m                                                                                                  \u001b[31m│\u001b[0m\n",
              "\u001b[31m│\u001b[0m   \u001b[2m 390 \u001b[0m\u001b[2m│   │   │   │   \u001b[0m\u001b[94mtry\u001b[0m:                                                                      \u001b[31m│\u001b[0m\n",
              "\u001b[31m│\u001b[0m   \u001b[2m 391 \u001b[0m\u001b[2m│   │   │   │   │   \u001b[0m\u001b[94mreturn\u001b[0m \u001b[96mself\u001b[0m._range.index(new_key)                                     \u001b[31m│\u001b[0m\n",
              "\u001b[31m│\u001b[0m   \u001b[2m 392 \u001b[0m\u001b[2m│   │   │   │   \u001b[0m\u001b[94mexcept\u001b[0m \u001b[96mValueError\u001b[0m \u001b[94mas\u001b[0m err:                                                 \u001b[31m│\u001b[0m\n",
              "\u001b[31m│\u001b[0m \u001b[31m❱ \u001b[0m 393 \u001b[2m│   │   │   │   │   \u001b[0m\u001b[94mraise\u001b[0m \u001b[96mKeyError\u001b[0m(key) \u001b[94mfrom\u001b[0m \u001b[4;96merr\u001b[0m                                          \u001b[31m│\u001b[0m\n",
              "\u001b[31m│\u001b[0m   \u001b[2m 394 \u001b[0m\u001b[2m│   │   │   \u001b[0m\u001b[96mself\u001b[0m._check_indexing_error(key)                                               \u001b[31m│\u001b[0m\n",
              "\u001b[31m│\u001b[0m   \u001b[2m 395 \u001b[0m\u001b[2m│   │   │   \u001b[0m\u001b[94mraise\u001b[0m \u001b[96mKeyError\u001b[0m(key)                                                           \u001b[31m│\u001b[0m\n",
              "\u001b[31m│\u001b[0m   \u001b[2m 396 \u001b[0m\u001b[2m│   │   \u001b[0m\u001b[94mreturn\u001b[0m \u001b[96msuper\u001b[0m().get_loc(key, method=method, tolerance=tolerance)                   \u001b[31m│\u001b[0m\n",
              "\u001b[31m╰──────────────────────────────────────────────────────────────────────────────────────────────────╯\u001b[0m\n",
              "\u001b[1;91mKeyError: \u001b[0m\u001b[1;36m5015\u001b[0m\n"
            ],
            "text/html": [
              "<pre style=\"white-space:pre;overflow-x:auto;line-height:normal;font-family:Menlo,'DejaVu Sans Mono',consolas,'Courier New',monospace\"><span style=\"color: #800000; text-decoration-color: #800000\">╭─────────────────────────────── </span><span style=\"color: #800000; text-decoration-color: #800000; font-weight: bold\">Traceback </span><span style=\"color: #bf7f7f; text-decoration-color: #bf7f7f; font-weight: bold\">(most recent call last)</span><span style=\"color: #800000; text-decoration-color: #800000\"> ────────────────────────────────╮</span>\n",
              "<span style=\"color: #800000; text-decoration-color: #800000\">│</span> <span style=\"color: #bfbf7f; text-decoration-color: #bfbf7f\">/usr/local/lib/python3.10/dist-packages/pandas/core/indexes/</span><span style=\"color: #808000; text-decoration-color: #808000; font-weight: bold\">range.py</span>:<span style=\"color: #0000ff; text-decoration-color: #0000ff\">391</span> in <span style=\"color: #00ff00; text-decoration-color: #00ff00\">get_loc</span>              <span style=\"color: #800000; text-decoration-color: #800000\">│</span>\n",
              "<span style=\"color: #800000; text-decoration-color: #800000\">│</span>                                                                                                  <span style=\"color: #800000; text-decoration-color: #800000\">│</span>\n",
              "<span style=\"color: #800000; text-decoration-color: #800000\">│</span>   <span style=\"color: #7f7f7f; text-decoration-color: #7f7f7f\"> 388 │   │   │   </span><span style=\"color: #0000ff; text-decoration-color: #0000ff\">if</span> is_integer(key) <span style=\"color: #ff00ff; text-decoration-color: #ff00ff\">or</span> (is_float(key) <span style=\"color: #ff00ff; text-decoration-color: #ff00ff\">and</span> key.is_integer()):                   <span style=\"color: #800000; text-decoration-color: #800000\">│</span>\n",
              "<span style=\"color: #800000; text-decoration-color: #800000\">│</span>   <span style=\"color: #7f7f7f; text-decoration-color: #7f7f7f\"> 389 │   │   │   │   </span>new_key = <span style=\"color: #00ffff; text-decoration-color: #00ffff\">int</span>(key)                                                        <span style=\"color: #800000; text-decoration-color: #800000\">│</span>\n",
              "<span style=\"color: #800000; text-decoration-color: #800000\">│</span>   <span style=\"color: #7f7f7f; text-decoration-color: #7f7f7f\"> 390 │   │   │   │   </span><span style=\"color: #0000ff; text-decoration-color: #0000ff\">try</span>:                                                                      <span style=\"color: #800000; text-decoration-color: #800000\">│</span>\n",
              "<span style=\"color: #800000; text-decoration-color: #800000\">│</span> <span style=\"color: #800000; text-decoration-color: #800000\">❱ </span> 391 <span style=\"color: #7f7f7f; text-decoration-color: #7f7f7f\">│   │   │   │   │   </span><span style=\"color: #0000ff; text-decoration-color: #0000ff\">return</span> <span style=\"color: #00ffff; text-decoration-color: #00ffff\">self</span>._range.index(new_key)                                     <span style=\"color: #800000; text-decoration-color: #800000\">│</span>\n",
              "<span style=\"color: #800000; text-decoration-color: #800000\">│</span>   <span style=\"color: #7f7f7f; text-decoration-color: #7f7f7f\"> 392 │   │   │   │   </span><span style=\"color: #0000ff; text-decoration-color: #0000ff\">except</span> <span style=\"color: #00ffff; text-decoration-color: #00ffff\">ValueError</span> <span style=\"color: #0000ff; text-decoration-color: #0000ff\">as</span> err:                                                 <span style=\"color: #800000; text-decoration-color: #800000\">│</span>\n",
              "<span style=\"color: #800000; text-decoration-color: #800000\">│</span>   <span style=\"color: #7f7f7f; text-decoration-color: #7f7f7f\"> 393 │   │   │   │   │   </span><span style=\"color: #0000ff; text-decoration-color: #0000ff\">raise</span> <span style=\"color: #00ffff; text-decoration-color: #00ffff\">KeyError</span>(key) <span style=\"color: #0000ff; text-decoration-color: #0000ff\">from</span> <span style=\"color: #00ffff; text-decoration-color: #00ffff; text-decoration: underline\">err</span>                                          <span style=\"color: #800000; text-decoration-color: #800000\">│</span>\n",
              "<span style=\"color: #800000; text-decoration-color: #800000\">│</span>   <span style=\"color: #7f7f7f; text-decoration-color: #7f7f7f\"> 394 │   │   │   </span><span style=\"color: #00ffff; text-decoration-color: #00ffff\">self</span>._check_indexing_error(key)                                               <span style=\"color: #800000; text-decoration-color: #800000\">│</span>\n",
              "<span style=\"color: #800000; text-decoration-color: #800000\">╰──────────────────────────────────────────────────────────────────────────────────────────────────╯</span>\n",
              "<span style=\"color: #ff0000; text-decoration-color: #ff0000; font-weight: bold\">ValueError: </span><span style=\"color: #008080; text-decoration-color: #008080; font-weight: bold\">5015</span> is not in range\n",
              "\n",
              "<span style=\"font-style: italic\">The above exception was the direct cause of the following exception:</span>\n",
              "\n",
              "<span style=\"color: #800000; text-decoration-color: #800000\">╭─────────────────────────────── </span><span style=\"color: #800000; text-decoration-color: #800000; font-weight: bold\">Traceback </span><span style=\"color: #bf7f7f; text-decoration-color: #bf7f7f; font-weight: bold\">(most recent call last)</span><span style=\"color: #800000; text-decoration-color: #800000\"> ────────────────────────────────╮</span>\n",
              "<span style=\"color: #800000; text-decoration-color: #800000\">│</span> in <span style=\"color: #00ff00; text-decoration-color: #00ff00\">&lt;cell line: 3&gt;</span>:<span style=\"color: #0000ff; text-decoration-color: #0000ff\">3</span>                                                                              <span style=\"color: #800000; text-decoration-color: #800000\">│</span>\n",
              "<span style=\"color: #800000; text-decoration-color: #800000\">│</span> in <span style=\"color: #00ff00; text-decoration-color: #00ff00\">__getitem__</span>:<span style=\"color: #0000ff; text-decoration-color: #0000ff\">24</span>                                                                                <span style=\"color: #800000; text-decoration-color: #800000\">│</span>\n",
              "<span style=\"color: #800000; text-decoration-color: #800000\">│</span>                                                                                                  <span style=\"color: #800000; text-decoration-color: #800000\">│</span>\n",
              "<span style=\"color: #800000; text-decoration-color: #800000\">│</span> <span style=\"color: #bfbf7f; text-decoration-color: #bfbf7f\">/usr/local/lib/python3.10/dist-packages/pandas/core/</span><span style=\"color: #808000; text-decoration-color: #808000; font-weight: bold\">indexing.py</span>:<span style=\"color: #0000ff; text-decoration-color: #0000ff\">1066</span> in <span style=\"color: #00ff00; text-decoration-color: #00ff00\">__getitem__</span>              <span style=\"color: #800000; text-decoration-color: #800000\">│</span>\n",
              "<span style=\"color: #800000; text-decoration-color: #800000\">│</span>                                                                                                  <span style=\"color: #800000; text-decoration-color: #800000\">│</span>\n",
              "<span style=\"color: #800000; text-decoration-color: #800000\">│</span>   <span style=\"color: #7f7f7f; text-decoration-color: #7f7f7f\">1063 │   │   │   </span>key = <span style=\"color: #00ffff; text-decoration-color: #00ffff\">tuple</span>(<span style=\"color: #00ffff; text-decoration-color: #00ffff\">list</span>(x) <span style=\"color: #0000ff; text-decoration-color: #0000ff\">if</span> is_iterator(x) <span style=\"color: #0000ff; text-decoration-color: #0000ff\">else</span> x <span style=\"color: #0000ff; text-decoration-color: #0000ff\">for</span> x <span style=\"color: #ff00ff; text-decoration-color: #ff00ff\">in</span> key)                    <span style=\"color: #800000; text-decoration-color: #800000\">│</span>\n",
              "<span style=\"color: #800000; text-decoration-color: #800000\">│</span>   <span style=\"color: #7f7f7f; text-decoration-color: #7f7f7f\">1064 │   │   │   </span>key = <span style=\"color: #00ffff; text-decoration-color: #00ffff\">tuple</span>(com.apply_if_callable(x, <span style=\"color: #00ffff; text-decoration-color: #00ffff\">self</span>.obj) <span style=\"color: #0000ff; text-decoration-color: #0000ff\">for</span> x <span style=\"color: #ff00ff; text-decoration-color: #ff00ff\">in</span> key)                  <span style=\"color: #800000; text-decoration-color: #800000\">│</span>\n",
              "<span style=\"color: #800000; text-decoration-color: #800000\">│</span>   <span style=\"color: #7f7f7f; text-decoration-color: #7f7f7f\">1065 │   │   │   </span><span style=\"color: #0000ff; text-decoration-color: #0000ff\">if</span> <span style=\"color: #00ffff; text-decoration-color: #00ffff\">self</span>._is_scalar_access(key):                                               <span style=\"color: #800000; text-decoration-color: #800000\">│</span>\n",
              "<span style=\"color: #800000; text-decoration-color: #800000\">│</span> <span style=\"color: #800000; text-decoration-color: #800000\">❱ </span>1066 <span style=\"color: #7f7f7f; text-decoration-color: #7f7f7f\">│   │   │   │   </span><span style=\"color: #0000ff; text-decoration-color: #0000ff\">return</span> <span style=\"color: #00ffff; text-decoration-color: #00ffff\">self</span>.obj._get_value(*key, takeable=<span style=\"color: #00ffff; text-decoration-color: #00ffff\">self</span>._takeable)                 <span style=\"color: #800000; text-decoration-color: #800000\">│</span>\n",
              "<span style=\"color: #800000; text-decoration-color: #800000\">│</span>   <span style=\"color: #7f7f7f; text-decoration-color: #7f7f7f\">1067 │   │   │   </span><span style=\"color: #0000ff; text-decoration-color: #0000ff\">return</span> <span style=\"color: #00ffff; text-decoration-color: #00ffff\">self</span>._getitem_tuple(key)                                               <span style=\"color: #800000; text-decoration-color: #800000\">│</span>\n",
              "<span style=\"color: #800000; text-decoration-color: #800000\">│</span>   <span style=\"color: #7f7f7f; text-decoration-color: #7f7f7f\">1068 │   │   </span><span style=\"color: #0000ff; text-decoration-color: #0000ff\">else</span>:                                                                             <span style=\"color: #800000; text-decoration-color: #800000\">│</span>\n",
              "<span style=\"color: #800000; text-decoration-color: #800000\">│</span>   <span style=\"color: #7f7f7f; text-decoration-color: #7f7f7f\">1069 │   │   │   # we by definition only have the 0th axis</span>                                     <span style=\"color: #800000; text-decoration-color: #800000\">│</span>\n",
              "<span style=\"color: #800000; text-decoration-color: #800000\">│</span>                                                                                                  <span style=\"color: #800000; text-decoration-color: #800000\">│</span>\n",
              "<span style=\"color: #800000; text-decoration-color: #800000\">│</span> <span style=\"color: #bfbf7f; text-decoration-color: #bfbf7f\">/usr/local/lib/python3.10/dist-packages/pandas/core/</span><span style=\"color: #808000; text-decoration-color: #808000; font-weight: bold\">frame.py</span>:<span style=\"color: #0000ff; text-decoration-color: #0000ff\">3924</span> in <span style=\"color: #00ff00; text-decoration-color: #00ff00\">_get_value</span>                  <span style=\"color: #800000; text-decoration-color: #800000\">│</span>\n",
              "<span style=\"color: #800000; text-decoration-color: #800000\">│</span>                                                                                                  <span style=\"color: #800000; text-decoration-color: #800000\">│</span>\n",
              "<span style=\"color: #800000; text-decoration-color: #800000\">│</span>   <span style=\"color: #7f7f7f; text-decoration-color: #7f7f7f\"> 3921 │   │   │   # CategoricalIndex: Trying to use the engine fastpath may give incorrect</span>     <span style=\"color: #800000; text-decoration-color: #800000\">│</span>\n",
              "<span style=\"color: #800000; text-decoration-color: #800000\">│</span>   <span style=\"color: #7f7f7f; text-decoration-color: #7f7f7f\"> 3922 │   │   │   #  results if our categories are integers that dont match our codes</span>          <span style=\"color: #800000; text-decoration-color: #800000\">│</span>\n",
              "<span style=\"color: #800000; text-decoration-color: #800000\">│</span>   <span style=\"color: #7f7f7f; text-decoration-color: #7f7f7f\"> 3923 │   │   │   # IntervalIndex: IntervalTree has no get_loc</span>                                 <span style=\"color: #800000; text-decoration-color: #800000\">│</span>\n",
              "<span style=\"color: #800000; text-decoration-color: #800000\">│</span> <span style=\"color: #800000; text-decoration-color: #800000\">❱ </span> 3924 <span style=\"color: #7f7f7f; text-decoration-color: #7f7f7f\">│   │   │   </span>row = <span style=\"color: #00ffff; text-decoration-color: #00ffff\">self</span>.index.get_loc(index)                                              <span style=\"color: #800000; text-decoration-color: #800000\">│</span>\n",
              "<span style=\"color: #800000; text-decoration-color: #800000\">│</span>   <span style=\"color: #7f7f7f; text-decoration-color: #7f7f7f\"> 3925 │   │   │   </span><span style=\"color: #0000ff; text-decoration-color: #0000ff\">return</span> series._values[row]                                                   <span style=\"color: #800000; text-decoration-color: #800000\">│</span>\n",
              "<span style=\"color: #800000; text-decoration-color: #800000\">│</span>   <span style=\"color: #7f7f7f; text-decoration-color: #7f7f7f\"> 3926 │   │   </span>                                                                                 <span style=\"color: #800000; text-decoration-color: #800000\">│</span>\n",
              "<span style=\"color: #800000; text-decoration-color: #800000\">│</span>   <span style=\"color: #7f7f7f; text-decoration-color: #7f7f7f\"> 3927 │   │   # For MultiIndex going through engine effectively restricts us to</span>                <span style=\"color: #800000; text-decoration-color: #800000\">│</span>\n",
              "<span style=\"color: #800000; text-decoration-color: #800000\">│</span>                                                                                                  <span style=\"color: #800000; text-decoration-color: #800000\">│</span>\n",
              "<span style=\"color: #800000; text-decoration-color: #800000\">│</span> <span style=\"color: #bfbf7f; text-decoration-color: #bfbf7f\">/usr/local/lib/python3.10/dist-packages/pandas/core/indexes/</span><span style=\"color: #808000; text-decoration-color: #808000; font-weight: bold\">range.py</span>:<span style=\"color: #0000ff; text-decoration-color: #0000ff\">393</span> in <span style=\"color: #00ff00; text-decoration-color: #00ff00\">get_loc</span>              <span style=\"color: #800000; text-decoration-color: #800000\">│</span>\n",
              "<span style=\"color: #800000; text-decoration-color: #800000\">│</span>                                                                                                  <span style=\"color: #800000; text-decoration-color: #800000\">│</span>\n",
              "<span style=\"color: #800000; text-decoration-color: #800000\">│</span>   <span style=\"color: #7f7f7f; text-decoration-color: #7f7f7f\"> 390 │   │   │   │   </span><span style=\"color: #0000ff; text-decoration-color: #0000ff\">try</span>:                                                                      <span style=\"color: #800000; text-decoration-color: #800000\">│</span>\n",
              "<span style=\"color: #800000; text-decoration-color: #800000\">│</span>   <span style=\"color: #7f7f7f; text-decoration-color: #7f7f7f\"> 391 │   │   │   │   │   </span><span style=\"color: #0000ff; text-decoration-color: #0000ff\">return</span> <span style=\"color: #00ffff; text-decoration-color: #00ffff\">self</span>._range.index(new_key)                                     <span style=\"color: #800000; text-decoration-color: #800000\">│</span>\n",
              "<span style=\"color: #800000; text-decoration-color: #800000\">│</span>   <span style=\"color: #7f7f7f; text-decoration-color: #7f7f7f\"> 392 │   │   │   │   </span><span style=\"color: #0000ff; text-decoration-color: #0000ff\">except</span> <span style=\"color: #00ffff; text-decoration-color: #00ffff\">ValueError</span> <span style=\"color: #0000ff; text-decoration-color: #0000ff\">as</span> err:                                                 <span style=\"color: #800000; text-decoration-color: #800000\">│</span>\n",
              "<span style=\"color: #800000; text-decoration-color: #800000\">│</span> <span style=\"color: #800000; text-decoration-color: #800000\">❱ </span> 393 <span style=\"color: #7f7f7f; text-decoration-color: #7f7f7f\">│   │   │   │   │   </span><span style=\"color: #0000ff; text-decoration-color: #0000ff\">raise</span> <span style=\"color: #00ffff; text-decoration-color: #00ffff\">KeyError</span>(key) <span style=\"color: #0000ff; text-decoration-color: #0000ff\">from</span> <span style=\"color: #00ffff; text-decoration-color: #00ffff; text-decoration: underline\">err</span>                                          <span style=\"color: #800000; text-decoration-color: #800000\">│</span>\n",
              "<span style=\"color: #800000; text-decoration-color: #800000\">│</span>   <span style=\"color: #7f7f7f; text-decoration-color: #7f7f7f\"> 394 │   │   │   </span><span style=\"color: #00ffff; text-decoration-color: #00ffff\">self</span>._check_indexing_error(key)                                               <span style=\"color: #800000; text-decoration-color: #800000\">│</span>\n",
              "<span style=\"color: #800000; text-decoration-color: #800000\">│</span>   <span style=\"color: #7f7f7f; text-decoration-color: #7f7f7f\"> 395 │   │   │   </span><span style=\"color: #0000ff; text-decoration-color: #0000ff\">raise</span> <span style=\"color: #00ffff; text-decoration-color: #00ffff\">KeyError</span>(key)                                                           <span style=\"color: #800000; text-decoration-color: #800000\">│</span>\n",
              "<span style=\"color: #800000; text-decoration-color: #800000\">│</span>   <span style=\"color: #7f7f7f; text-decoration-color: #7f7f7f\"> 396 │   │   </span><span style=\"color: #0000ff; text-decoration-color: #0000ff\">return</span> <span style=\"color: #00ffff; text-decoration-color: #00ffff\">super</span>().get_loc(key, method=method, tolerance=tolerance)                   <span style=\"color: #800000; text-decoration-color: #800000\">│</span>\n",
              "<span style=\"color: #800000; text-decoration-color: #800000\">╰──────────────────────────────────────────────────────────────────────────────────────────────────╯</span>\n",
              "<span style=\"color: #ff0000; text-decoration-color: #ff0000; font-weight: bold\">KeyError: </span><span style=\"color: #008080; text-decoration-color: #008080; font-weight: bold\">5015</span>\n",
              "</pre>\n"
            ]
          },
          "metadata": {}
        }
      ]
    },
    {
      "cell_type": "code",
      "source": [
        "with open('/content/drive/Shareddrives/CS263_final/models/data/public_results.json', 'w') as f:\n",
        "  json.dump(results, f)"
      ],
      "metadata": {
        "id": "rpFhM5RHi955"
      },
      "execution_count": null,
      "outputs": []
    },
    {
      "cell_type": "code",
      "source": [
        "tokenizer.batch_decode(torch.argmin(outputs['logits'], dim = 2))"
      ],
      "metadata": {
        "colab": {
          "base_uri": "https://localhost:8080/"
        },
        "id": "_xdUV7t1A9v1",
        "outputId": "c292f525-611a-4021-a813-dc9bc16a9da6"
      },
      "execution_count": null,
      "outputs": [
        {
          "output_type": "execute_result",
          "data": {
            "text/plain": [
              "['<extra_id_71>痞㲟 <extra_id_98> <extra_id_98> <extra_id_13>\\u2b74 <extra_id_71> <extra_id_71> <extra_id_71> <extra_id_71> <extra_id_71> <extra_id_71> <extra_id_71> <extra_id_71> <extra_id_71> <extra_id_71> <extra_id_71> <extra_id_71> <extra_id_71> <extra_id_71> <extra_id_71> <extra_id_71> <extra_id_71> <extra_id_71> <extra_id_71> <extra_id_71> <extra_id_71> <extra_id_71> <extra_id_71> <extra_id_71> <extra_id_71> <extra_id_71> <extra_id_71> <extra_id_71> <extra_id_71> <extra_id_71> <extra_id_71> <extra_id_71> <extra_id_71> <extra_id_71> <extra_id_71> <extra_id_71> <extra_id_71> <extra_id_71> <extra_id_71> <extra_id_71> <extra_id_71> <extra_id_71> <extra_id_71> <extra_id_71> <extra_id_71> <extra_id_71> <extra_id_71> <extra_id_71> <extra_id_71> <extra_id_71> <extra_id_71> <extra_id_71> <extra_id_71> <extra_id_71> <extra_id_71> <extra_id_71> <extra_id_71> <extra_id_71> <extra_id_71> <extra_id_71> <extra_id_71> <extra_id_71> <extra_id_71> <extra_id_71> <extra_id_71> <extra_id_71> <extra_id_71> <extra_id_71> <extra_id_71> <extra_id_71> <extra_id_71> <extra_id_71> <extra_id_71>',\n",
              " '<extra_id_71>\\u2b74 <extra_id_38> <extra_id_98> <extra_id_98>\\u2b74<extra_id_-12>㘐ැලි\\u2b74പം <extra_id_78>\\u2b74<extra_id_-12>പം\\u2b74\\u2b74\\u2b74പം㽇\\u2b74\\u2b74 <extra_id_71> <extra_id_71> <extra_id_71> <extra_id_71> <extra_id_71> <extra_id_71> <extra_id_71> <extra_id_71> <extra_id_71> <extra_id_71> <extra_id_71> <extra_id_71> <extra_id_71> <extra_id_71> <extra_id_71> <extra_id_71> <extra_id_71> <extra_id_71> <extra_id_71> <extra_id_71> <extra_id_71> <extra_id_71> <extra_id_71> <extra_id_71> <extra_id_71> <extra_id_71> <extra_id_71> <extra_id_71> <extra_id_71> <extra_id_71> <extra_id_71> <extra_id_71> <extra_id_71> <extra_id_71> <extra_id_71> <extra_id_71> <extra_id_71> <extra_id_71> <extra_id_71> <extra_id_71> <extra_id_71> <extra_id_71> <extra_id_71> <extra_id_71> <extra_id_71> <extra_id_71> <extra_id_71> <extra_id_71> <extra_id_71> <extra_id_71> <extra_id_71> <extra_id_71> <extra_id_71> <extra_id_71> <extra_id_71> <extra_id_71> <extra_id_71> <extra_id_71>']"
            ]
          },
          "metadata": {},
          "execution_count": 19
        }
      ]
    }
  ],
  "metadata": {
    "accelerator": "GPU",
    "colab": {
      "provenance": []
    },
    "kernelspec": {
      "display_name": "Python 3",
      "name": "python3"
    },
    "language_info": {
      "name": "python"
    },
    "widgets": {
      "application/vnd.jupyter.widget-state+json": {
        "a135cb5c2b654ebc9815a6c67936e777": {
          "model_module": "@jupyter-widgets/controls",
          "model_name": "HBoxModel",
          "model_module_version": "1.5.0",
          "state": {
            "_dom_classes": [],
            "_model_module": "@jupyter-widgets/controls",
            "_model_module_version": "1.5.0",
            "_model_name": "HBoxModel",
            "_view_count": null,
            "_view_module": "@jupyter-widgets/controls",
            "_view_module_version": "1.5.0",
            "_view_name": "HBoxView",
            "box_style": "",
            "children": [
              "IPY_MODEL_f42e6367b9734b40b4fe6c9dfbcacfca",
              "IPY_MODEL_a4d0280648144cac95f17f3054fdf68f",
              "IPY_MODEL_36d6608d88214714b2739ac632843ed9"
            ],
            "layout": "IPY_MODEL_f38945af6b0b4f67b88a05d26068e16b"
          }
        },
        "f42e6367b9734b40b4fe6c9dfbcacfca": {
          "model_module": "@jupyter-widgets/controls",
          "model_name": "HTMLModel",
          "model_module_version": "1.5.0",
          "state": {
            "_dom_classes": [],
            "_model_module": "@jupyter-widgets/controls",
            "_model_module_version": "1.5.0",
            "_model_name": "HTMLModel",
            "_view_count": null,
            "_view_module": "@jupyter-widgets/controls",
            "_view_module_version": "1.5.0",
            "_view_name": "HTMLView",
            "description": "",
            "description_tooltip": null,
            "layout": "IPY_MODEL_0030fd9ee5c64f04b1040ec5422f1ccd",
            "placeholder": "​",
            "style": "IPY_MODEL_4e011b9b328a41cfaee98bab88ad4f53",
            "value": "Downloading (…)ve/main/spiece.model: 100%"
          }
        },
        "a4d0280648144cac95f17f3054fdf68f": {
          "model_module": "@jupyter-widgets/controls",
          "model_name": "FloatProgressModel",
          "model_module_version": "1.5.0",
          "state": {
            "_dom_classes": [],
            "_model_module": "@jupyter-widgets/controls",
            "_model_module_version": "1.5.0",
            "_model_name": "FloatProgressModel",
            "_view_count": null,
            "_view_module": "@jupyter-widgets/controls",
            "_view_module_version": "1.5.0",
            "_view_name": "ProgressView",
            "bar_style": "success",
            "description": "",
            "description_tooltip": null,
            "layout": "IPY_MODEL_d02c2b3c33fc44d08993c4d231b45594",
            "max": 4309802,
            "min": 0,
            "orientation": "horizontal",
            "style": "IPY_MODEL_240335368f8741c3865fc554e4ccef12",
            "value": 4309802
          }
        },
        "36d6608d88214714b2739ac632843ed9": {
          "model_module": "@jupyter-widgets/controls",
          "model_name": "HTMLModel",
          "model_module_version": "1.5.0",
          "state": {
            "_dom_classes": [],
            "_model_module": "@jupyter-widgets/controls",
            "_model_module_version": "1.5.0",
            "_model_name": "HTMLModel",
            "_view_count": null,
            "_view_module": "@jupyter-widgets/controls",
            "_view_module_version": "1.5.0",
            "_view_name": "HTMLView",
            "description": "",
            "description_tooltip": null,
            "layout": "IPY_MODEL_ab2d5084112d4d1ca57a21e6f4906dd0",
            "placeholder": "​",
            "style": "IPY_MODEL_cf618914b8bc4b889db923515e6d84dd",
            "value": " 4.31M/4.31M [00:01&lt;00:00, 4.14MB/s]"
          }
        },
        "f38945af6b0b4f67b88a05d26068e16b": {
          "model_module": "@jupyter-widgets/base",
          "model_name": "LayoutModel",
          "model_module_version": "1.2.0",
          "state": {
            "_model_module": "@jupyter-widgets/base",
            "_model_module_version": "1.2.0",
            "_model_name": "LayoutModel",
            "_view_count": null,
            "_view_module": "@jupyter-widgets/base",
            "_view_module_version": "1.2.0",
            "_view_name": "LayoutView",
            "align_content": null,
            "align_items": null,
            "align_self": null,
            "border": null,
            "bottom": null,
            "display": null,
            "flex": null,
            "flex_flow": null,
            "grid_area": null,
            "grid_auto_columns": null,
            "grid_auto_flow": null,
            "grid_auto_rows": null,
            "grid_column": null,
            "grid_gap": null,
            "grid_row": null,
            "grid_template_areas": null,
            "grid_template_columns": null,
            "grid_template_rows": null,
            "height": null,
            "justify_content": null,
            "justify_items": null,
            "left": null,
            "margin": null,
            "max_height": null,
            "max_width": null,
            "min_height": null,
            "min_width": null,
            "object_fit": null,
            "object_position": null,
            "order": null,
            "overflow": null,
            "overflow_x": null,
            "overflow_y": null,
            "padding": null,
            "right": null,
            "top": null,
            "visibility": null,
            "width": null
          }
        },
        "0030fd9ee5c64f04b1040ec5422f1ccd": {
          "model_module": "@jupyter-widgets/base",
          "model_name": "LayoutModel",
          "model_module_version": "1.2.0",
          "state": {
            "_model_module": "@jupyter-widgets/base",
            "_model_module_version": "1.2.0",
            "_model_name": "LayoutModel",
            "_view_count": null,
            "_view_module": "@jupyter-widgets/base",
            "_view_module_version": "1.2.0",
            "_view_name": "LayoutView",
            "align_content": null,
            "align_items": null,
            "align_self": null,
            "border": null,
            "bottom": null,
            "display": null,
            "flex": null,
            "flex_flow": null,
            "grid_area": null,
            "grid_auto_columns": null,
            "grid_auto_flow": null,
            "grid_auto_rows": null,
            "grid_column": null,
            "grid_gap": null,
            "grid_row": null,
            "grid_template_areas": null,
            "grid_template_columns": null,
            "grid_template_rows": null,
            "height": null,
            "justify_content": null,
            "justify_items": null,
            "left": null,
            "margin": null,
            "max_height": null,
            "max_width": null,
            "min_height": null,
            "min_width": null,
            "object_fit": null,
            "object_position": null,
            "order": null,
            "overflow": null,
            "overflow_x": null,
            "overflow_y": null,
            "padding": null,
            "right": null,
            "top": null,
            "visibility": null,
            "width": null
          }
        },
        "4e011b9b328a41cfaee98bab88ad4f53": {
          "model_module": "@jupyter-widgets/controls",
          "model_name": "DescriptionStyleModel",
          "model_module_version": "1.5.0",
          "state": {
            "_model_module": "@jupyter-widgets/controls",
            "_model_module_version": "1.5.0",
            "_model_name": "DescriptionStyleModel",
            "_view_count": null,
            "_view_module": "@jupyter-widgets/base",
            "_view_module_version": "1.2.0",
            "_view_name": "StyleView",
            "description_width": ""
          }
        },
        "d02c2b3c33fc44d08993c4d231b45594": {
          "model_module": "@jupyter-widgets/base",
          "model_name": "LayoutModel",
          "model_module_version": "1.2.0",
          "state": {
            "_model_module": "@jupyter-widgets/base",
            "_model_module_version": "1.2.0",
            "_model_name": "LayoutModel",
            "_view_count": null,
            "_view_module": "@jupyter-widgets/base",
            "_view_module_version": "1.2.0",
            "_view_name": "LayoutView",
            "align_content": null,
            "align_items": null,
            "align_self": null,
            "border": null,
            "bottom": null,
            "display": null,
            "flex": null,
            "flex_flow": null,
            "grid_area": null,
            "grid_auto_columns": null,
            "grid_auto_flow": null,
            "grid_auto_rows": null,
            "grid_column": null,
            "grid_gap": null,
            "grid_row": null,
            "grid_template_areas": null,
            "grid_template_columns": null,
            "grid_template_rows": null,
            "height": null,
            "justify_content": null,
            "justify_items": null,
            "left": null,
            "margin": null,
            "max_height": null,
            "max_width": null,
            "min_height": null,
            "min_width": null,
            "object_fit": null,
            "object_position": null,
            "order": null,
            "overflow": null,
            "overflow_x": null,
            "overflow_y": null,
            "padding": null,
            "right": null,
            "top": null,
            "visibility": null,
            "width": null
          }
        },
        "240335368f8741c3865fc554e4ccef12": {
          "model_module": "@jupyter-widgets/controls",
          "model_name": "ProgressStyleModel",
          "model_module_version": "1.5.0",
          "state": {
            "_model_module": "@jupyter-widgets/controls",
            "_model_module_version": "1.5.0",
            "_model_name": "ProgressStyleModel",
            "_view_count": null,
            "_view_module": "@jupyter-widgets/base",
            "_view_module_version": "1.2.0",
            "_view_name": "StyleView",
            "bar_color": null,
            "description_width": ""
          }
        },
        "ab2d5084112d4d1ca57a21e6f4906dd0": {
          "model_module": "@jupyter-widgets/base",
          "model_name": "LayoutModel",
          "model_module_version": "1.2.0",
          "state": {
            "_model_module": "@jupyter-widgets/base",
            "_model_module_version": "1.2.0",
            "_model_name": "LayoutModel",
            "_view_count": null,
            "_view_module": "@jupyter-widgets/base",
            "_view_module_version": "1.2.0",
            "_view_name": "LayoutView",
            "align_content": null,
            "align_items": null,
            "align_self": null,
            "border": null,
            "bottom": null,
            "display": null,
            "flex": null,
            "flex_flow": null,
            "grid_area": null,
            "grid_auto_columns": null,
            "grid_auto_flow": null,
            "grid_auto_rows": null,
            "grid_column": null,
            "grid_gap": null,
            "grid_row": null,
            "grid_template_areas": null,
            "grid_template_columns": null,
            "grid_template_rows": null,
            "height": null,
            "justify_content": null,
            "justify_items": null,
            "left": null,
            "margin": null,
            "max_height": null,
            "max_width": null,
            "min_height": null,
            "min_width": null,
            "object_fit": null,
            "object_position": null,
            "order": null,
            "overflow": null,
            "overflow_x": null,
            "overflow_y": null,
            "padding": null,
            "right": null,
            "top": null,
            "visibility": null,
            "width": null
          }
        },
        "cf618914b8bc4b889db923515e6d84dd": {
          "model_module": "@jupyter-widgets/controls",
          "model_name": "DescriptionStyleModel",
          "model_module_version": "1.5.0",
          "state": {
            "_model_module": "@jupyter-widgets/controls",
            "_model_module_version": "1.5.0",
            "_model_name": "DescriptionStyleModel",
            "_view_count": null,
            "_view_module": "@jupyter-widgets/base",
            "_view_module_version": "1.2.0",
            "_view_name": "StyleView",
            "description_width": ""
          }
        },
        "f5ddcc9563234d949b0b2fca0e1c8e76": {
          "model_module": "@jupyter-widgets/controls",
          "model_name": "HBoxModel",
          "model_module_version": "1.5.0",
          "state": {
            "_dom_classes": [],
            "_model_module": "@jupyter-widgets/controls",
            "_model_module_version": "1.5.0",
            "_model_name": "HBoxModel",
            "_view_count": null,
            "_view_module": "@jupyter-widgets/controls",
            "_view_module_version": "1.5.0",
            "_view_name": "HBoxView",
            "box_style": "",
            "children": [
              "IPY_MODEL_f7e8d9e16d124206925678dfb0a9b44f",
              "IPY_MODEL_a03268e73e584aa29efaf95de447c20d",
              "IPY_MODEL_9d791b2939a647bf9681bf533c609e5d"
            ],
            "layout": "IPY_MODEL_dace09b9fd11431397e34c2e45918ac1"
          }
        },
        "f7e8d9e16d124206925678dfb0a9b44f": {
          "model_module": "@jupyter-widgets/controls",
          "model_name": "HTMLModel",
          "model_module_version": "1.5.0",
          "state": {
            "_dom_classes": [],
            "_model_module": "@jupyter-widgets/controls",
            "_model_module_version": "1.5.0",
            "_model_name": "HTMLModel",
            "_view_count": null,
            "_view_module": "@jupyter-widgets/controls",
            "_view_module_version": "1.5.0",
            "_view_name": "HTMLView",
            "description": "",
            "description_tooltip": null,
            "layout": "IPY_MODEL_73702c1fe9734e8ead1572f7d887d8f4",
            "placeholder": "​",
            "style": "IPY_MODEL_10055225e6344447b5abf5b242974a7b",
            "value": "Downloading (…)cial_tokens_map.json: 100%"
          }
        },
        "a03268e73e584aa29efaf95de447c20d": {
          "model_module": "@jupyter-widgets/controls",
          "model_name": "FloatProgressModel",
          "model_module_version": "1.5.0",
          "state": {
            "_dom_classes": [],
            "_model_module": "@jupyter-widgets/controls",
            "_model_module_version": "1.5.0",
            "_model_name": "FloatProgressModel",
            "_view_count": null,
            "_view_module": "@jupyter-widgets/controls",
            "_view_module_version": "1.5.0",
            "_view_name": "ProgressView",
            "bar_style": "success",
            "description": "",
            "description_tooltip": null,
            "layout": "IPY_MODEL_2ed6bc208d3545109222679b3f9defef",
            "max": 99,
            "min": 0,
            "orientation": "horizontal",
            "style": "IPY_MODEL_79c63d104d164a8da51df38124f84185",
            "value": 99
          }
        },
        "9d791b2939a647bf9681bf533c609e5d": {
          "model_module": "@jupyter-widgets/controls",
          "model_name": "HTMLModel",
          "model_module_version": "1.5.0",
          "state": {
            "_dom_classes": [],
            "_model_module": "@jupyter-widgets/controls",
            "_model_module_version": "1.5.0",
            "_model_name": "HTMLModel",
            "_view_count": null,
            "_view_module": "@jupyter-widgets/controls",
            "_view_module_version": "1.5.0",
            "_view_name": "HTMLView",
            "description": "",
            "description_tooltip": null,
            "layout": "IPY_MODEL_7d21c321c40a4ec3a8f07285fde9e1d2",
            "placeholder": "​",
            "style": "IPY_MODEL_5ba4028c368a4edca4b70c78fbbb19c8",
            "value": " 99.0/99.0 [00:00&lt;00:00, 3.94kB/s]"
          }
        },
        "dace09b9fd11431397e34c2e45918ac1": {
          "model_module": "@jupyter-widgets/base",
          "model_name": "LayoutModel",
          "model_module_version": "1.2.0",
          "state": {
            "_model_module": "@jupyter-widgets/base",
            "_model_module_version": "1.2.0",
            "_model_name": "LayoutModel",
            "_view_count": null,
            "_view_module": "@jupyter-widgets/base",
            "_view_module_version": "1.2.0",
            "_view_name": "LayoutView",
            "align_content": null,
            "align_items": null,
            "align_self": null,
            "border": null,
            "bottom": null,
            "display": null,
            "flex": null,
            "flex_flow": null,
            "grid_area": null,
            "grid_auto_columns": null,
            "grid_auto_flow": null,
            "grid_auto_rows": null,
            "grid_column": null,
            "grid_gap": null,
            "grid_row": null,
            "grid_template_areas": null,
            "grid_template_columns": null,
            "grid_template_rows": null,
            "height": null,
            "justify_content": null,
            "justify_items": null,
            "left": null,
            "margin": null,
            "max_height": null,
            "max_width": null,
            "min_height": null,
            "min_width": null,
            "object_fit": null,
            "object_position": null,
            "order": null,
            "overflow": null,
            "overflow_x": null,
            "overflow_y": null,
            "padding": null,
            "right": null,
            "top": null,
            "visibility": null,
            "width": null
          }
        },
        "73702c1fe9734e8ead1572f7d887d8f4": {
          "model_module": "@jupyter-widgets/base",
          "model_name": "LayoutModel",
          "model_module_version": "1.2.0",
          "state": {
            "_model_module": "@jupyter-widgets/base",
            "_model_module_version": "1.2.0",
            "_model_name": "LayoutModel",
            "_view_count": null,
            "_view_module": "@jupyter-widgets/base",
            "_view_module_version": "1.2.0",
            "_view_name": "LayoutView",
            "align_content": null,
            "align_items": null,
            "align_self": null,
            "border": null,
            "bottom": null,
            "display": null,
            "flex": null,
            "flex_flow": null,
            "grid_area": null,
            "grid_auto_columns": null,
            "grid_auto_flow": null,
            "grid_auto_rows": null,
            "grid_column": null,
            "grid_gap": null,
            "grid_row": null,
            "grid_template_areas": null,
            "grid_template_columns": null,
            "grid_template_rows": null,
            "height": null,
            "justify_content": null,
            "justify_items": null,
            "left": null,
            "margin": null,
            "max_height": null,
            "max_width": null,
            "min_height": null,
            "min_width": null,
            "object_fit": null,
            "object_position": null,
            "order": null,
            "overflow": null,
            "overflow_x": null,
            "overflow_y": null,
            "padding": null,
            "right": null,
            "top": null,
            "visibility": null,
            "width": null
          }
        },
        "10055225e6344447b5abf5b242974a7b": {
          "model_module": "@jupyter-widgets/controls",
          "model_name": "DescriptionStyleModel",
          "model_module_version": "1.5.0",
          "state": {
            "_model_module": "@jupyter-widgets/controls",
            "_model_module_version": "1.5.0",
            "_model_name": "DescriptionStyleModel",
            "_view_count": null,
            "_view_module": "@jupyter-widgets/base",
            "_view_module_version": "1.2.0",
            "_view_name": "StyleView",
            "description_width": ""
          }
        },
        "2ed6bc208d3545109222679b3f9defef": {
          "model_module": "@jupyter-widgets/base",
          "model_name": "LayoutModel",
          "model_module_version": "1.2.0",
          "state": {
            "_model_module": "@jupyter-widgets/base",
            "_model_module_version": "1.2.0",
            "_model_name": "LayoutModel",
            "_view_count": null,
            "_view_module": "@jupyter-widgets/base",
            "_view_module_version": "1.2.0",
            "_view_name": "LayoutView",
            "align_content": null,
            "align_items": null,
            "align_self": null,
            "border": null,
            "bottom": null,
            "display": null,
            "flex": null,
            "flex_flow": null,
            "grid_area": null,
            "grid_auto_columns": null,
            "grid_auto_flow": null,
            "grid_auto_rows": null,
            "grid_column": null,
            "grid_gap": null,
            "grid_row": null,
            "grid_template_areas": null,
            "grid_template_columns": null,
            "grid_template_rows": null,
            "height": null,
            "justify_content": null,
            "justify_items": null,
            "left": null,
            "margin": null,
            "max_height": null,
            "max_width": null,
            "min_height": null,
            "min_width": null,
            "object_fit": null,
            "object_position": null,
            "order": null,
            "overflow": null,
            "overflow_x": null,
            "overflow_y": null,
            "padding": null,
            "right": null,
            "top": null,
            "visibility": null,
            "width": null
          }
        },
        "79c63d104d164a8da51df38124f84185": {
          "model_module": "@jupyter-widgets/controls",
          "model_name": "ProgressStyleModel",
          "model_module_version": "1.5.0",
          "state": {
            "_model_module": "@jupyter-widgets/controls",
            "_model_module_version": "1.5.0",
            "_model_name": "ProgressStyleModel",
            "_view_count": null,
            "_view_module": "@jupyter-widgets/base",
            "_view_module_version": "1.2.0",
            "_view_name": "StyleView",
            "bar_color": null,
            "description_width": ""
          }
        },
        "7d21c321c40a4ec3a8f07285fde9e1d2": {
          "model_module": "@jupyter-widgets/base",
          "model_name": "LayoutModel",
          "model_module_version": "1.2.0",
          "state": {
            "_model_module": "@jupyter-widgets/base",
            "_model_module_version": "1.2.0",
            "_model_name": "LayoutModel",
            "_view_count": null,
            "_view_module": "@jupyter-widgets/base",
            "_view_module_version": "1.2.0",
            "_view_name": "LayoutView",
            "align_content": null,
            "align_items": null,
            "align_self": null,
            "border": null,
            "bottom": null,
            "display": null,
            "flex": null,
            "flex_flow": null,
            "grid_area": null,
            "grid_auto_columns": null,
            "grid_auto_flow": null,
            "grid_auto_rows": null,
            "grid_column": null,
            "grid_gap": null,
            "grid_row": null,
            "grid_template_areas": null,
            "grid_template_columns": null,
            "grid_template_rows": null,
            "height": null,
            "justify_content": null,
            "justify_items": null,
            "left": null,
            "margin": null,
            "max_height": null,
            "max_width": null,
            "min_height": null,
            "min_width": null,
            "object_fit": null,
            "object_position": null,
            "order": null,
            "overflow": null,
            "overflow_x": null,
            "overflow_y": null,
            "padding": null,
            "right": null,
            "top": null,
            "visibility": null,
            "width": null
          }
        },
        "5ba4028c368a4edca4b70c78fbbb19c8": {
          "model_module": "@jupyter-widgets/controls",
          "model_name": "DescriptionStyleModel",
          "model_module_version": "1.5.0",
          "state": {
            "_model_module": "@jupyter-widgets/controls",
            "_model_module_version": "1.5.0",
            "_model_name": "DescriptionStyleModel",
            "_view_count": null,
            "_view_module": "@jupyter-widgets/base",
            "_view_module_version": "1.2.0",
            "_view_name": "StyleView",
            "description_width": ""
          }
        },
        "42f5e7138b634ba68d0f21b36fdc0de6": {
          "model_module": "@jupyter-widgets/controls",
          "model_name": "HBoxModel",
          "model_module_version": "1.5.0",
          "state": {
            "_dom_classes": [],
            "_model_module": "@jupyter-widgets/controls",
            "_model_module_version": "1.5.0",
            "_model_name": "HBoxModel",
            "_view_count": null,
            "_view_module": "@jupyter-widgets/controls",
            "_view_module_version": "1.5.0",
            "_view_name": "HBoxView",
            "box_style": "",
            "children": [
              "IPY_MODEL_0178931740ea4b768d8412ecbd1fe6d2",
              "IPY_MODEL_7a063b60a6cd4d37bb8573c846673109",
              "IPY_MODEL_17486fbdd95442e7aabf19f57c2165b9"
            ],
            "layout": "IPY_MODEL_53405d554357463bb8ed498c0f2ca756"
          }
        },
        "0178931740ea4b768d8412ecbd1fe6d2": {
          "model_module": "@jupyter-widgets/controls",
          "model_name": "HTMLModel",
          "model_module_version": "1.5.0",
          "state": {
            "_dom_classes": [],
            "_model_module": "@jupyter-widgets/controls",
            "_model_module_version": "1.5.0",
            "_model_name": "HTMLModel",
            "_view_count": null,
            "_view_module": "@jupyter-widgets/controls",
            "_view_module_version": "1.5.0",
            "_view_name": "HTMLView",
            "description": "",
            "description_tooltip": null,
            "layout": "IPY_MODEL_bd40b9bb5efb40aab1522c834e356d62",
            "placeholder": "​",
            "style": "IPY_MODEL_067f71388ed447cbac8b899b3f08c10c",
            "value": "Downloading (…)okenizer_config.json: 100%"
          }
        },
        "7a063b60a6cd4d37bb8573c846673109": {
          "model_module": "@jupyter-widgets/controls",
          "model_name": "FloatProgressModel",
          "model_module_version": "1.5.0",
          "state": {
            "_dom_classes": [],
            "_model_module": "@jupyter-widgets/controls",
            "_model_module_version": "1.5.0",
            "_model_name": "FloatProgressModel",
            "_view_count": null,
            "_view_module": "@jupyter-widgets/controls",
            "_view_module_version": "1.5.0",
            "_view_name": "ProgressView",
            "bar_style": "success",
            "description": "",
            "description_tooltip": null,
            "layout": "IPY_MODEL_73d0dcda216b4468bedc78600b936507",
            "max": 82,
            "min": 0,
            "orientation": "horizontal",
            "style": "IPY_MODEL_9589cdf81f62448a90cab8b89a4e6529",
            "value": 82
          }
        },
        "17486fbdd95442e7aabf19f57c2165b9": {
          "model_module": "@jupyter-widgets/controls",
          "model_name": "HTMLModel",
          "model_module_version": "1.5.0",
          "state": {
            "_dom_classes": [],
            "_model_module": "@jupyter-widgets/controls",
            "_model_module_version": "1.5.0",
            "_model_name": "HTMLModel",
            "_view_count": null,
            "_view_module": "@jupyter-widgets/controls",
            "_view_module_version": "1.5.0",
            "_view_name": "HTMLView",
            "description": "",
            "description_tooltip": null,
            "layout": "IPY_MODEL_8ec3ff35fb0a4f348314b7013d61ee5c",
            "placeholder": "​",
            "style": "IPY_MODEL_a33e6dbc7bec48e383497fbf5e5647c3",
            "value": " 82.0/82.0 [00:00&lt;00:00, 3.29kB/s]"
          }
        },
        "53405d554357463bb8ed498c0f2ca756": {
          "model_module": "@jupyter-widgets/base",
          "model_name": "LayoutModel",
          "model_module_version": "1.2.0",
          "state": {
            "_model_module": "@jupyter-widgets/base",
            "_model_module_version": "1.2.0",
            "_model_name": "LayoutModel",
            "_view_count": null,
            "_view_module": "@jupyter-widgets/base",
            "_view_module_version": "1.2.0",
            "_view_name": "LayoutView",
            "align_content": null,
            "align_items": null,
            "align_self": null,
            "border": null,
            "bottom": null,
            "display": null,
            "flex": null,
            "flex_flow": null,
            "grid_area": null,
            "grid_auto_columns": null,
            "grid_auto_flow": null,
            "grid_auto_rows": null,
            "grid_column": null,
            "grid_gap": null,
            "grid_row": null,
            "grid_template_areas": null,
            "grid_template_columns": null,
            "grid_template_rows": null,
            "height": null,
            "justify_content": null,
            "justify_items": null,
            "left": null,
            "margin": null,
            "max_height": null,
            "max_width": null,
            "min_height": null,
            "min_width": null,
            "object_fit": null,
            "object_position": null,
            "order": null,
            "overflow": null,
            "overflow_x": null,
            "overflow_y": null,
            "padding": null,
            "right": null,
            "top": null,
            "visibility": null,
            "width": null
          }
        },
        "bd40b9bb5efb40aab1522c834e356d62": {
          "model_module": "@jupyter-widgets/base",
          "model_name": "LayoutModel",
          "model_module_version": "1.2.0",
          "state": {
            "_model_module": "@jupyter-widgets/base",
            "_model_module_version": "1.2.0",
            "_model_name": "LayoutModel",
            "_view_count": null,
            "_view_module": "@jupyter-widgets/base",
            "_view_module_version": "1.2.0",
            "_view_name": "LayoutView",
            "align_content": null,
            "align_items": null,
            "align_self": null,
            "border": null,
            "bottom": null,
            "display": null,
            "flex": null,
            "flex_flow": null,
            "grid_area": null,
            "grid_auto_columns": null,
            "grid_auto_flow": null,
            "grid_auto_rows": null,
            "grid_column": null,
            "grid_gap": null,
            "grid_row": null,
            "grid_template_areas": null,
            "grid_template_columns": null,
            "grid_template_rows": null,
            "height": null,
            "justify_content": null,
            "justify_items": null,
            "left": null,
            "margin": null,
            "max_height": null,
            "max_width": null,
            "min_height": null,
            "min_width": null,
            "object_fit": null,
            "object_position": null,
            "order": null,
            "overflow": null,
            "overflow_x": null,
            "overflow_y": null,
            "padding": null,
            "right": null,
            "top": null,
            "visibility": null,
            "width": null
          }
        },
        "067f71388ed447cbac8b899b3f08c10c": {
          "model_module": "@jupyter-widgets/controls",
          "model_name": "DescriptionStyleModel",
          "model_module_version": "1.5.0",
          "state": {
            "_model_module": "@jupyter-widgets/controls",
            "_model_module_version": "1.5.0",
            "_model_name": "DescriptionStyleModel",
            "_view_count": null,
            "_view_module": "@jupyter-widgets/base",
            "_view_module_version": "1.2.0",
            "_view_name": "StyleView",
            "description_width": ""
          }
        },
        "73d0dcda216b4468bedc78600b936507": {
          "model_module": "@jupyter-widgets/base",
          "model_name": "LayoutModel",
          "model_module_version": "1.2.0",
          "state": {
            "_model_module": "@jupyter-widgets/base",
            "_model_module_version": "1.2.0",
            "_model_name": "LayoutModel",
            "_view_count": null,
            "_view_module": "@jupyter-widgets/base",
            "_view_module_version": "1.2.0",
            "_view_name": "LayoutView",
            "align_content": null,
            "align_items": null,
            "align_self": null,
            "border": null,
            "bottom": null,
            "display": null,
            "flex": null,
            "flex_flow": null,
            "grid_area": null,
            "grid_auto_columns": null,
            "grid_auto_flow": null,
            "grid_auto_rows": null,
            "grid_column": null,
            "grid_gap": null,
            "grid_row": null,
            "grid_template_areas": null,
            "grid_template_columns": null,
            "grid_template_rows": null,
            "height": null,
            "justify_content": null,
            "justify_items": null,
            "left": null,
            "margin": null,
            "max_height": null,
            "max_width": null,
            "min_height": null,
            "min_width": null,
            "object_fit": null,
            "object_position": null,
            "order": null,
            "overflow": null,
            "overflow_x": null,
            "overflow_y": null,
            "padding": null,
            "right": null,
            "top": null,
            "visibility": null,
            "width": null
          }
        },
        "9589cdf81f62448a90cab8b89a4e6529": {
          "model_module": "@jupyter-widgets/controls",
          "model_name": "ProgressStyleModel",
          "model_module_version": "1.5.0",
          "state": {
            "_model_module": "@jupyter-widgets/controls",
            "_model_module_version": "1.5.0",
            "_model_name": "ProgressStyleModel",
            "_view_count": null,
            "_view_module": "@jupyter-widgets/base",
            "_view_module_version": "1.2.0",
            "_view_name": "StyleView",
            "bar_color": null,
            "description_width": ""
          }
        },
        "8ec3ff35fb0a4f348314b7013d61ee5c": {
          "model_module": "@jupyter-widgets/base",
          "model_name": "LayoutModel",
          "model_module_version": "1.2.0",
          "state": {
            "_model_module": "@jupyter-widgets/base",
            "_model_module_version": "1.2.0",
            "_model_name": "LayoutModel",
            "_view_count": null,
            "_view_module": "@jupyter-widgets/base",
            "_view_module_version": "1.2.0",
            "_view_name": "LayoutView",
            "align_content": null,
            "align_items": null,
            "align_self": null,
            "border": null,
            "bottom": null,
            "display": null,
            "flex": null,
            "flex_flow": null,
            "grid_area": null,
            "grid_auto_columns": null,
            "grid_auto_flow": null,
            "grid_auto_rows": null,
            "grid_column": null,
            "grid_gap": null,
            "grid_row": null,
            "grid_template_areas": null,
            "grid_template_columns": null,
            "grid_template_rows": null,
            "height": null,
            "justify_content": null,
            "justify_items": null,
            "left": null,
            "margin": null,
            "max_height": null,
            "max_width": null,
            "min_height": null,
            "min_width": null,
            "object_fit": null,
            "object_position": null,
            "order": null,
            "overflow": null,
            "overflow_x": null,
            "overflow_y": null,
            "padding": null,
            "right": null,
            "top": null,
            "visibility": null,
            "width": null
          }
        },
        "a33e6dbc7bec48e383497fbf5e5647c3": {
          "model_module": "@jupyter-widgets/controls",
          "model_name": "DescriptionStyleModel",
          "model_module_version": "1.5.0",
          "state": {
            "_model_module": "@jupyter-widgets/controls",
            "_model_module_version": "1.5.0",
            "_model_name": "DescriptionStyleModel",
            "_view_count": null,
            "_view_module": "@jupyter-widgets/base",
            "_view_module_version": "1.2.0",
            "_view_name": "StyleView",
            "description_width": ""
          }
        },
        "8e0aaff07d9b46cc9477ebc53dcf2bac": {
          "model_module": "@jupyter-widgets/controls",
          "model_name": "HBoxModel",
          "model_module_version": "1.5.0",
          "state": {
            "_dom_classes": [],
            "_model_module": "@jupyter-widgets/controls",
            "_model_module_version": "1.5.0",
            "_model_name": "HBoxModel",
            "_view_count": null,
            "_view_module": "@jupyter-widgets/controls",
            "_view_module_version": "1.5.0",
            "_view_name": "HBoxView",
            "box_style": "",
            "children": [
              "IPY_MODEL_d238090373ca456f858a7f7a87b5e5cd",
              "IPY_MODEL_887350f18183445987af18c82191c76c",
              "IPY_MODEL_5d565141a24e461f934ce6097e4d4bba"
            ],
            "layout": "IPY_MODEL_71d6c0e1bc14424cbc249e24ddb3f40e"
          }
        },
        "d238090373ca456f858a7f7a87b5e5cd": {
          "model_module": "@jupyter-widgets/controls",
          "model_name": "HTMLModel",
          "model_module_version": "1.5.0",
          "state": {
            "_dom_classes": [],
            "_model_module": "@jupyter-widgets/controls",
            "_model_module_version": "1.5.0",
            "_model_name": "HTMLModel",
            "_view_count": null,
            "_view_module": "@jupyter-widgets/controls",
            "_view_module_version": "1.5.0",
            "_view_name": "HTMLView",
            "description": "",
            "description_tooltip": null,
            "layout": "IPY_MODEL_22a427f2a3194527a014abe3886ac3dd",
            "placeholder": "​",
            "style": "IPY_MODEL_d659ed8ebfb049d3b829b26c4d7a3940",
            "value": "Downloading (…)lve/main/config.json: 100%"
          }
        },
        "887350f18183445987af18c82191c76c": {
          "model_module": "@jupyter-widgets/controls",
          "model_name": "FloatProgressModel",
          "model_module_version": "1.5.0",
          "state": {
            "_dom_classes": [],
            "_model_module": "@jupyter-widgets/controls",
            "_model_module_version": "1.5.0",
            "_model_name": "FloatProgressModel",
            "_view_count": null,
            "_view_module": "@jupyter-widgets/controls",
            "_view_module_version": "1.5.0",
            "_view_name": "ProgressView",
            "bar_style": "success",
            "description": "",
            "description_tooltip": null,
            "layout": "IPY_MODEL_1d535c26562a4ddb99d92aa62967cb54",
            "max": 553,
            "min": 0,
            "orientation": "horizontal",
            "style": "IPY_MODEL_2aa82c05941e4ba88b2f3a9a3f880fc7",
            "value": 553
          }
        },
        "5d565141a24e461f934ce6097e4d4bba": {
          "model_module": "@jupyter-widgets/controls",
          "model_name": "HTMLModel",
          "model_module_version": "1.5.0",
          "state": {
            "_dom_classes": [],
            "_model_module": "@jupyter-widgets/controls",
            "_model_module_version": "1.5.0",
            "_model_name": "HTMLModel",
            "_view_count": null,
            "_view_module": "@jupyter-widgets/controls",
            "_view_module_version": "1.5.0",
            "_view_name": "HTMLView",
            "description": "",
            "description_tooltip": null,
            "layout": "IPY_MODEL_1d7014d33a044dc2baa5d167de710eeb",
            "placeholder": "​",
            "style": "IPY_MODEL_e9e60959d73244188220970e78191107",
            "value": " 553/553 [00:00&lt;00:00, 23.5kB/s]"
          }
        },
        "71d6c0e1bc14424cbc249e24ddb3f40e": {
          "model_module": "@jupyter-widgets/base",
          "model_name": "LayoutModel",
          "model_module_version": "1.2.0",
          "state": {
            "_model_module": "@jupyter-widgets/base",
            "_model_module_version": "1.2.0",
            "_model_name": "LayoutModel",
            "_view_count": null,
            "_view_module": "@jupyter-widgets/base",
            "_view_module_version": "1.2.0",
            "_view_name": "LayoutView",
            "align_content": null,
            "align_items": null,
            "align_self": null,
            "border": null,
            "bottom": null,
            "display": null,
            "flex": null,
            "flex_flow": null,
            "grid_area": null,
            "grid_auto_columns": null,
            "grid_auto_flow": null,
            "grid_auto_rows": null,
            "grid_column": null,
            "grid_gap": null,
            "grid_row": null,
            "grid_template_areas": null,
            "grid_template_columns": null,
            "grid_template_rows": null,
            "height": null,
            "justify_content": null,
            "justify_items": null,
            "left": null,
            "margin": null,
            "max_height": null,
            "max_width": null,
            "min_height": null,
            "min_width": null,
            "object_fit": null,
            "object_position": null,
            "order": null,
            "overflow": null,
            "overflow_x": null,
            "overflow_y": null,
            "padding": null,
            "right": null,
            "top": null,
            "visibility": null,
            "width": null
          }
        },
        "22a427f2a3194527a014abe3886ac3dd": {
          "model_module": "@jupyter-widgets/base",
          "model_name": "LayoutModel",
          "model_module_version": "1.2.0",
          "state": {
            "_model_module": "@jupyter-widgets/base",
            "_model_module_version": "1.2.0",
            "_model_name": "LayoutModel",
            "_view_count": null,
            "_view_module": "@jupyter-widgets/base",
            "_view_module_version": "1.2.0",
            "_view_name": "LayoutView",
            "align_content": null,
            "align_items": null,
            "align_self": null,
            "border": null,
            "bottom": null,
            "display": null,
            "flex": null,
            "flex_flow": null,
            "grid_area": null,
            "grid_auto_columns": null,
            "grid_auto_flow": null,
            "grid_auto_rows": null,
            "grid_column": null,
            "grid_gap": null,
            "grid_row": null,
            "grid_template_areas": null,
            "grid_template_columns": null,
            "grid_template_rows": null,
            "height": null,
            "justify_content": null,
            "justify_items": null,
            "left": null,
            "margin": null,
            "max_height": null,
            "max_width": null,
            "min_height": null,
            "min_width": null,
            "object_fit": null,
            "object_position": null,
            "order": null,
            "overflow": null,
            "overflow_x": null,
            "overflow_y": null,
            "padding": null,
            "right": null,
            "top": null,
            "visibility": null,
            "width": null
          }
        },
        "d659ed8ebfb049d3b829b26c4d7a3940": {
          "model_module": "@jupyter-widgets/controls",
          "model_name": "DescriptionStyleModel",
          "model_module_version": "1.5.0",
          "state": {
            "_model_module": "@jupyter-widgets/controls",
            "_model_module_version": "1.5.0",
            "_model_name": "DescriptionStyleModel",
            "_view_count": null,
            "_view_module": "@jupyter-widgets/base",
            "_view_module_version": "1.2.0",
            "_view_name": "StyleView",
            "description_width": ""
          }
        },
        "1d535c26562a4ddb99d92aa62967cb54": {
          "model_module": "@jupyter-widgets/base",
          "model_name": "LayoutModel",
          "model_module_version": "1.2.0",
          "state": {
            "_model_module": "@jupyter-widgets/base",
            "_model_module_version": "1.2.0",
            "_model_name": "LayoutModel",
            "_view_count": null,
            "_view_module": "@jupyter-widgets/base",
            "_view_module_version": "1.2.0",
            "_view_name": "LayoutView",
            "align_content": null,
            "align_items": null,
            "align_self": null,
            "border": null,
            "bottom": null,
            "display": null,
            "flex": null,
            "flex_flow": null,
            "grid_area": null,
            "grid_auto_columns": null,
            "grid_auto_flow": null,
            "grid_auto_rows": null,
            "grid_column": null,
            "grid_gap": null,
            "grid_row": null,
            "grid_template_areas": null,
            "grid_template_columns": null,
            "grid_template_rows": null,
            "height": null,
            "justify_content": null,
            "justify_items": null,
            "left": null,
            "margin": null,
            "max_height": null,
            "max_width": null,
            "min_height": null,
            "min_width": null,
            "object_fit": null,
            "object_position": null,
            "order": null,
            "overflow": null,
            "overflow_x": null,
            "overflow_y": null,
            "padding": null,
            "right": null,
            "top": null,
            "visibility": null,
            "width": null
          }
        },
        "2aa82c05941e4ba88b2f3a9a3f880fc7": {
          "model_module": "@jupyter-widgets/controls",
          "model_name": "ProgressStyleModel",
          "model_module_version": "1.5.0",
          "state": {
            "_model_module": "@jupyter-widgets/controls",
            "_model_module_version": "1.5.0",
            "_model_name": "ProgressStyleModel",
            "_view_count": null,
            "_view_module": "@jupyter-widgets/base",
            "_view_module_version": "1.2.0",
            "_view_name": "StyleView",
            "bar_color": null,
            "description_width": ""
          }
        },
        "1d7014d33a044dc2baa5d167de710eeb": {
          "model_module": "@jupyter-widgets/base",
          "model_name": "LayoutModel",
          "model_module_version": "1.2.0",
          "state": {
            "_model_module": "@jupyter-widgets/base",
            "_model_module_version": "1.2.0",
            "_model_name": "LayoutModel",
            "_view_count": null,
            "_view_module": "@jupyter-widgets/base",
            "_view_module_version": "1.2.0",
            "_view_name": "LayoutView",
            "align_content": null,
            "align_items": null,
            "align_self": null,
            "border": null,
            "bottom": null,
            "display": null,
            "flex": null,
            "flex_flow": null,
            "grid_area": null,
            "grid_auto_columns": null,
            "grid_auto_flow": null,
            "grid_auto_rows": null,
            "grid_column": null,
            "grid_gap": null,
            "grid_row": null,
            "grid_template_areas": null,
            "grid_template_columns": null,
            "grid_template_rows": null,
            "height": null,
            "justify_content": null,
            "justify_items": null,
            "left": null,
            "margin": null,
            "max_height": null,
            "max_width": null,
            "min_height": null,
            "min_width": null,
            "object_fit": null,
            "object_position": null,
            "order": null,
            "overflow": null,
            "overflow_x": null,
            "overflow_y": null,
            "padding": null,
            "right": null,
            "top": null,
            "visibility": null,
            "width": null
          }
        },
        "e9e60959d73244188220970e78191107": {
          "model_module": "@jupyter-widgets/controls",
          "model_name": "DescriptionStyleModel",
          "model_module_version": "1.5.0",
          "state": {
            "_model_module": "@jupyter-widgets/controls",
            "_model_module_version": "1.5.0",
            "_model_name": "DescriptionStyleModel",
            "_view_count": null,
            "_view_module": "@jupyter-widgets/base",
            "_view_module_version": "1.2.0",
            "_view_name": "StyleView",
            "description_width": ""
          }
        },
        "69c3fb4200ca4f2cb94f69d15c2a6e52": {
          "model_module": "@jupyter-widgets/controls",
          "model_name": "HBoxModel",
          "model_module_version": "1.5.0",
          "state": {
            "_dom_classes": [],
            "_model_module": "@jupyter-widgets/controls",
            "_model_module_version": "1.5.0",
            "_model_name": "HBoxModel",
            "_view_count": null,
            "_view_module": "@jupyter-widgets/controls",
            "_view_module_version": "1.5.0",
            "_view_name": "HBoxView",
            "box_style": "",
            "children": [
              "IPY_MODEL_636249e4e97c4b70ac9b809283e6e0f1",
              "IPY_MODEL_d49dbc0260da486e85312608a4c4211c",
              "IPY_MODEL_577efdeef7d54ec2a43d47ceb13144ca"
            ],
            "layout": "IPY_MODEL_2d9fa8a45f664729a1f2013b01fe6a6b"
          }
        },
        "636249e4e97c4b70ac9b809283e6e0f1": {
          "model_module": "@jupyter-widgets/controls",
          "model_name": "HTMLModel",
          "model_module_version": "1.5.0",
          "state": {
            "_dom_classes": [],
            "_model_module": "@jupyter-widgets/controls",
            "_model_module_version": "1.5.0",
            "_model_name": "HTMLModel",
            "_view_count": null,
            "_view_module": "@jupyter-widgets/controls",
            "_view_module_version": "1.5.0",
            "_view_name": "HTMLView",
            "description": "",
            "description_tooltip": null,
            "layout": "IPY_MODEL_cd6f8b62ddd2409a932825af1e87ee43",
            "placeholder": "​",
            "style": "IPY_MODEL_4801b22d0c1c44a38aea565de283e0bf",
            "value": "Downloading (…)rocessor_config.json: 100%"
          }
        },
        "d49dbc0260da486e85312608a4c4211c": {
          "model_module": "@jupyter-widgets/controls",
          "model_name": "FloatProgressModel",
          "model_module_version": "1.5.0",
          "state": {
            "_dom_classes": [],
            "_model_module": "@jupyter-widgets/controls",
            "_model_module_version": "1.5.0",
            "_model_name": "FloatProgressModel",
            "_view_count": null,
            "_view_module": "@jupyter-widgets/controls",
            "_view_module_version": "1.5.0",
            "_view_name": "ProgressView",
            "bar_style": "success",
            "description": "",
            "description_tooltip": null,
            "layout": "IPY_MODEL_4f5c3864f48f4739ad09470ac7c18647",
            "max": 160,
            "min": 0,
            "orientation": "horizontal",
            "style": "IPY_MODEL_75cf6ecee0544f8797bc36af01e53ede",
            "value": 160
          }
        },
        "577efdeef7d54ec2a43d47ceb13144ca": {
          "model_module": "@jupyter-widgets/controls",
          "model_name": "HTMLModel",
          "model_module_version": "1.5.0",
          "state": {
            "_dom_classes": [],
            "_model_module": "@jupyter-widgets/controls",
            "_model_module_version": "1.5.0",
            "_model_name": "HTMLModel",
            "_view_count": null,
            "_view_module": "@jupyter-widgets/controls",
            "_view_module_version": "1.5.0",
            "_view_name": "HTMLView",
            "description": "",
            "description_tooltip": null,
            "layout": "IPY_MODEL_a4824497a054434d844a9b4937ec43c5",
            "placeholder": "​",
            "style": "IPY_MODEL_fefcba4ee72d436683122fbab1492d80",
            "value": " 160/160 [00:00&lt;00:00, 9.27kB/s]"
          }
        },
        "2d9fa8a45f664729a1f2013b01fe6a6b": {
          "model_module": "@jupyter-widgets/base",
          "model_name": "LayoutModel",
          "model_module_version": "1.2.0",
          "state": {
            "_model_module": "@jupyter-widgets/base",
            "_model_module_version": "1.2.0",
            "_model_name": "LayoutModel",
            "_view_count": null,
            "_view_module": "@jupyter-widgets/base",
            "_view_module_version": "1.2.0",
            "_view_name": "LayoutView",
            "align_content": null,
            "align_items": null,
            "align_self": null,
            "border": null,
            "bottom": null,
            "display": null,
            "flex": null,
            "flex_flow": null,
            "grid_area": null,
            "grid_auto_columns": null,
            "grid_auto_flow": null,
            "grid_auto_rows": null,
            "grid_column": null,
            "grid_gap": null,
            "grid_row": null,
            "grid_template_areas": null,
            "grid_template_columns": null,
            "grid_template_rows": null,
            "height": null,
            "justify_content": null,
            "justify_items": null,
            "left": null,
            "margin": null,
            "max_height": null,
            "max_width": null,
            "min_height": null,
            "min_width": null,
            "object_fit": null,
            "object_position": null,
            "order": null,
            "overflow": null,
            "overflow_x": null,
            "overflow_y": null,
            "padding": null,
            "right": null,
            "top": null,
            "visibility": null,
            "width": null
          }
        },
        "cd6f8b62ddd2409a932825af1e87ee43": {
          "model_module": "@jupyter-widgets/base",
          "model_name": "LayoutModel",
          "model_module_version": "1.2.0",
          "state": {
            "_model_module": "@jupyter-widgets/base",
            "_model_module_version": "1.2.0",
            "_model_name": "LayoutModel",
            "_view_count": null,
            "_view_module": "@jupyter-widgets/base",
            "_view_module_version": "1.2.0",
            "_view_name": "LayoutView",
            "align_content": null,
            "align_items": null,
            "align_self": null,
            "border": null,
            "bottom": null,
            "display": null,
            "flex": null,
            "flex_flow": null,
            "grid_area": null,
            "grid_auto_columns": null,
            "grid_auto_flow": null,
            "grid_auto_rows": null,
            "grid_column": null,
            "grid_gap": null,
            "grid_row": null,
            "grid_template_areas": null,
            "grid_template_columns": null,
            "grid_template_rows": null,
            "height": null,
            "justify_content": null,
            "justify_items": null,
            "left": null,
            "margin": null,
            "max_height": null,
            "max_width": null,
            "min_height": null,
            "min_width": null,
            "object_fit": null,
            "object_position": null,
            "order": null,
            "overflow": null,
            "overflow_x": null,
            "overflow_y": null,
            "padding": null,
            "right": null,
            "top": null,
            "visibility": null,
            "width": null
          }
        },
        "4801b22d0c1c44a38aea565de283e0bf": {
          "model_module": "@jupyter-widgets/controls",
          "model_name": "DescriptionStyleModel",
          "model_module_version": "1.5.0",
          "state": {
            "_model_module": "@jupyter-widgets/controls",
            "_model_module_version": "1.5.0",
            "_model_name": "DescriptionStyleModel",
            "_view_count": null,
            "_view_module": "@jupyter-widgets/base",
            "_view_module_version": "1.2.0",
            "_view_name": "StyleView",
            "description_width": ""
          }
        },
        "4f5c3864f48f4739ad09470ac7c18647": {
          "model_module": "@jupyter-widgets/base",
          "model_name": "LayoutModel",
          "model_module_version": "1.2.0",
          "state": {
            "_model_module": "@jupyter-widgets/base",
            "_model_module_version": "1.2.0",
            "_model_name": "LayoutModel",
            "_view_count": null,
            "_view_module": "@jupyter-widgets/base",
            "_view_module_version": "1.2.0",
            "_view_name": "LayoutView",
            "align_content": null,
            "align_items": null,
            "align_self": null,
            "border": null,
            "bottom": null,
            "display": null,
            "flex": null,
            "flex_flow": null,
            "grid_area": null,
            "grid_auto_columns": null,
            "grid_auto_flow": null,
            "grid_auto_rows": null,
            "grid_column": null,
            "grid_gap": null,
            "grid_row": null,
            "grid_template_areas": null,
            "grid_template_columns": null,
            "grid_template_rows": null,
            "height": null,
            "justify_content": null,
            "justify_items": null,
            "left": null,
            "margin": null,
            "max_height": null,
            "max_width": null,
            "min_height": null,
            "min_width": null,
            "object_fit": null,
            "object_position": null,
            "order": null,
            "overflow": null,
            "overflow_x": null,
            "overflow_y": null,
            "padding": null,
            "right": null,
            "top": null,
            "visibility": null,
            "width": null
          }
        },
        "75cf6ecee0544f8797bc36af01e53ede": {
          "model_module": "@jupyter-widgets/controls",
          "model_name": "ProgressStyleModel",
          "model_module_version": "1.5.0",
          "state": {
            "_model_module": "@jupyter-widgets/controls",
            "_model_module_version": "1.5.0",
            "_model_name": "ProgressStyleModel",
            "_view_count": null,
            "_view_module": "@jupyter-widgets/base",
            "_view_module_version": "1.2.0",
            "_view_name": "StyleView",
            "bar_color": null,
            "description_width": ""
          }
        },
        "a4824497a054434d844a9b4937ec43c5": {
          "model_module": "@jupyter-widgets/base",
          "model_name": "LayoutModel",
          "model_module_version": "1.2.0",
          "state": {
            "_model_module": "@jupyter-widgets/base",
            "_model_module_version": "1.2.0",
            "_model_name": "LayoutModel",
            "_view_count": null,
            "_view_module": "@jupyter-widgets/base",
            "_view_module_version": "1.2.0",
            "_view_name": "LayoutView",
            "align_content": null,
            "align_items": null,
            "align_self": null,
            "border": null,
            "bottom": null,
            "display": null,
            "flex": null,
            "flex_flow": null,
            "grid_area": null,
            "grid_auto_columns": null,
            "grid_auto_flow": null,
            "grid_auto_rows": null,
            "grid_column": null,
            "grid_gap": null,
            "grid_row": null,
            "grid_template_areas": null,
            "grid_template_columns": null,
            "grid_template_rows": null,
            "height": null,
            "justify_content": null,
            "justify_items": null,
            "left": null,
            "margin": null,
            "max_height": null,
            "max_width": null,
            "min_height": null,
            "min_width": null,
            "object_fit": null,
            "object_position": null,
            "order": null,
            "overflow": null,
            "overflow_x": null,
            "overflow_y": null,
            "padding": null,
            "right": null,
            "top": null,
            "visibility": null,
            "width": null
          }
        },
        "fefcba4ee72d436683122fbab1492d80": {
          "model_module": "@jupyter-widgets/controls",
          "model_name": "DescriptionStyleModel",
          "model_module_version": "1.5.0",
          "state": {
            "_model_module": "@jupyter-widgets/controls",
            "_model_module_version": "1.5.0",
            "_model_name": "DescriptionStyleModel",
            "_view_count": null,
            "_view_module": "@jupyter-widgets/base",
            "_view_module_version": "1.2.0",
            "_view_name": "StyleView",
            "description_width": ""
          }
        },
        "a384d61e845a41519dfd4d6fb1169e6d": {
          "model_module": "@jupyter-widgets/controls",
          "model_name": "HBoxModel",
          "model_module_version": "1.5.0",
          "state": {
            "_dom_classes": [],
            "_model_module": "@jupyter-widgets/controls",
            "_model_module_version": "1.5.0",
            "_model_name": "HBoxModel",
            "_view_count": null,
            "_view_module": "@jupyter-widgets/controls",
            "_view_module_version": "1.5.0",
            "_view_name": "HBoxView",
            "box_style": "",
            "children": [
              "IPY_MODEL_3078221e30504ab4bf599c56d3ff7795",
              "IPY_MODEL_ac530f20f325409aa32d4d87535386c8",
              "IPY_MODEL_0c15c00e546d492fb1229415a53d8b02"
            ],
            "layout": "IPY_MODEL_1490d9ebbba04a898b4efba91ab75ce8"
          }
        },
        "3078221e30504ab4bf599c56d3ff7795": {
          "model_module": "@jupyter-widgets/controls",
          "model_name": "HTMLModel",
          "model_module_version": "1.5.0",
          "state": {
            "_dom_classes": [],
            "_model_module": "@jupyter-widgets/controls",
            "_model_module_version": "1.5.0",
            "_model_name": "HTMLModel",
            "_view_count": null,
            "_view_module": "@jupyter-widgets/controls",
            "_view_module_version": "1.5.0",
            "_view_name": "HTMLView",
            "description": "",
            "description_tooltip": null,
            "layout": "IPY_MODEL_3f26651d2d224e16b525265cf6a760be",
            "placeholder": "​",
            "style": "IPY_MODEL_3f1953e2223f4e1d862958d3432169ca",
            "value": "Downloading (…)lve/main/config.json: 100%"
          }
        },
        "ac530f20f325409aa32d4d87535386c8": {
          "model_module": "@jupyter-widgets/controls",
          "model_name": "FloatProgressModel",
          "model_module_version": "1.5.0",
          "state": {
            "_dom_classes": [],
            "_model_module": "@jupyter-widgets/controls",
            "_model_module_version": "1.5.0",
            "_model_name": "FloatProgressModel",
            "_view_count": null,
            "_view_module": "@jupyter-widgets/controls",
            "_view_module_version": "1.5.0",
            "_view_name": "ProgressView",
            "bar_style": "success",
            "description": "",
            "description_tooltip": null,
            "layout": "IPY_MODEL_cb2a9ad9a3634f2fa17a78b8633cf7bc",
            "max": 69665,
            "min": 0,
            "orientation": "horizontal",
            "style": "IPY_MODEL_65ae2bb62ff4485c918785a3ef2fbb57",
            "value": 69665
          }
        },
        "0c15c00e546d492fb1229415a53d8b02": {
          "model_module": "@jupyter-widgets/controls",
          "model_name": "HTMLModel",
          "model_module_version": "1.5.0",
          "state": {
            "_dom_classes": [],
            "_model_module": "@jupyter-widgets/controls",
            "_model_module_version": "1.5.0",
            "_model_name": "HTMLModel",
            "_view_count": null,
            "_view_module": "@jupyter-widgets/controls",
            "_view_module_version": "1.5.0",
            "_view_name": "HTMLView",
            "description": "",
            "description_tooltip": null,
            "layout": "IPY_MODEL_fa585250e4584a91904affc930c8e077",
            "placeholder": "​",
            "style": "IPY_MODEL_08b3df172bdb4bcb80e0d3f3a16db416",
            "value": " 69.7k/69.7k [00:00&lt;00:00, 407kB/s]"
          }
        },
        "1490d9ebbba04a898b4efba91ab75ce8": {
          "model_module": "@jupyter-widgets/base",
          "model_name": "LayoutModel",
          "model_module_version": "1.2.0",
          "state": {
            "_model_module": "@jupyter-widgets/base",
            "_model_module_version": "1.2.0",
            "_model_name": "LayoutModel",
            "_view_count": null,
            "_view_module": "@jupyter-widgets/base",
            "_view_module_version": "1.2.0",
            "_view_name": "LayoutView",
            "align_content": null,
            "align_items": null,
            "align_self": null,
            "border": null,
            "bottom": null,
            "display": null,
            "flex": null,
            "flex_flow": null,
            "grid_area": null,
            "grid_auto_columns": null,
            "grid_auto_flow": null,
            "grid_auto_rows": null,
            "grid_column": null,
            "grid_gap": null,
            "grid_row": null,
            "grid_template_areas": null,
            "grid_template_columns": null,
            "grid_template_rows": null,
            "height": null,
            "justify_content": null,
            "justify_items": null,
            "left": null,
            "margin": null,
            "max_height": null,
            "max_width": null,
            "min_height": null,
            "min_width": null,
            "object_fit": null,
            "object_position": null,
            "order": null,
            "overflow": null,
            "overflow_x": null,
            "overflow_y": null,
            "padding": null,
            "right": null,
            "top": null,
            "visibility": null,
            "width": null
          }
        },
        "3f26651d2d224e16b525265cf6a760be": {
          "model_module": "@jupyter-widgets/base",
          "model_name": "LayoutModel",
          "model_module_version": "1.2.0",
          "state": {
            "_model_module": "@jupyter-widgets/base",
            "_model_module_version": "1.2.0",
            "_model_name": "LayoutModel",
            "_view_count": null,
            "_view_module": "@jupyter-widgets/base",
            "_view_module_version": "1.2.0",
            "_view_name": "LayoutView",
            "align_content": null,
            "align_items": null,
            "align_self": null,
            "border": null,
            "bottom": null,
            "display": null,
            "flex": null,
            "flex_flow": null,
            "grid_area": null,
            "grid_auto_columns": null,
            "grid_auto_flow": null,
            "grid_auto_rows": null,
            "grid_column": null,
            "grid_gap": null,
            "grid_row": null,
            "grid_template_areas": null,
            "grid_template_columns": null,
            "grid_template_rows": null,
            "height": null,
            "justify_content": null,
            "justify_items": null,
            "left": null,
            "margin": null,
            "max_height": null,
            "max_width": null,
            "min_height": null,
            "min_width": null,
            "object_fit": null,
            "object_position": null,
            "order": null,
            "overflow": null,
            "overflow_x": null,
            "overflow_y": null,
            "padding": null,
            "right": null,
            "top": null,
            "visibility": null,
            "width": null
          }
        },
        "3f1953e2223f4e1d862958d3432169ca": {
          "model_module": "@jupyter-widgets/controls",
          "model_name": "DescriptionStyleModel",
          "model_module_version": "1.5.0",
          "state": {
            "_model_module": "@jupyter-widgets/controls",
            "_model_module_version": "1.5.0",
            "_model_name": "DescriptionStyleModel",
            "_view_count": null,
            "_view_module": "@jupyter-widgets/base",
            "_view_module_version": "1.2.0",
            "_view_name": "StyleView",
            "description_width": ""
          }
        },
        "cb2a9ad9a3634f2fa17a78b8633cf7bc": {
          "model_module": "@jupyter-widgets/base",
          "model_name": "LayoutModel",
          "model_module_version": "1.2.0",
          "state": {
            "_model_module": "@jupyter-widgets/base",
            "_model_module_version": "1.2.0",
            "_model_name": "LayoutModel",
            "_view_count": null,
            "_view_module": "@jupyter-widgets/base",
            "_view_module_version": "1.2.0",
            "_view_name": "LayoutView",
            "align_content": null,
            "align_items": null,
            "align_self": null,
            "border": null,
            "bottom": null,
            "display": null,
            "flex": null,
            "flex_flow": null,
            "grid_area": null,
            "grid_auto_columns": null,
            "grid_auto_flow": null,
            "grid_auto_rows": null,
            "grid_column": null,
            "grid_gap": null,
            "grid_row": null,
            "grid_template_areas": null,
            "grid_template_columns": null,
            "grid_template_rows": null,
            "height": null,
            "justify_content": null,
            "justify_items": null,
            "left": null,
            "margin": null,
            "max_height": null,
            "max_width": null,
            "min_height": null,
            "min_width": null,
            "object_fit": null,
            "object_position": null,
            "order": null,
            "overflow": null,
            "overflow_x": null,
            "overflow_y": null,
            "padding": null,
            "right": null,
            "top": null,
            "visibility": null,
            "width": null
          }
        },
        "65ae2bb62ff4485c918785a3ef2fbb57": {
          "model_module": "@jupyter-widgets/controls",
          "model_name": "ProgressStyleModel",
          "model_module_version": "1.5.0",
          "state": {
            "_model_module": "@jupyter-widgets/controls",
            "_model_module_version": "1.5.0",
            "_model_name": "ProgressStyleModel",
            "_view_count": null,
            "_view_module": "@jupyter-widgets/base",
            "_view_module_version": "1.2.0",
            "_view_name": "StyleView",
            "bar_color": null,
            "description_width": ""
          }
        },
        "fa585250e4584a91904affc930c8e077": {
          "model_module": "@jupyter-widgets/base",
          "model_name": "LayoutModel",
          "model_module_version": "1.2.0",
          "state": {
            "_model_module": "@jupyter-widgets/base",
            "_model_module_version": "1.2.0",
            "_model_name": "LayoutModel",
            "_view_count": null,
            "_view_module": "@jupyter-widgets/base",
            "_view_module_version": "1.2.0",
            "_view_name": "LayoutView",
            "align_content": null,
            "align_items": null,
            "align_self": null,
            "border": null,
            "bottom": null,
            "display": null,
            "flex": null,
            "flex_flow": null,
            "grid_area": null,
            "grid_auto_columns": null,
            "grid_auto_flow": null,
            "grid_auto_rows": null,
            "grid_column": null,
            "grid_gap": null,
            "grid_row": null,
            "grid_template_areas": null,
            "grid_template_columns": null,
            "grid_template_rows": null,
            "height": null,
            "justify_content": null,
            "justify_items": null,
            "left": null,
            "margin": null,
            "max_height": null,
            "max_width": null,
            "min_height": null,
            "min_width": null,
            "object_fit": null,
            "object_position": null,
            "order": null,
            "overflow": null,
            "overflow_x": null,
            "overflow_y": null,
            "padding": null,
            "right": null,
            "top": null,
            "visibility": null,
            "width": null
          }
        },
        "08b3df172bdb4bcb80e0d3f3a16db416": {
          "model_module": "@jupyter-widgets/controls",
          "model_name": "DescriptionStyleModel",
          "model_module_version": "1.5.0",
          "state": {
            "_model_module": "@jupyter-widgets/controls",
            "_model_module_version": "1.5.0",
            "_model_name": "DescriptionStyleModel",
            "_view_count": null,
            "_view_module": "@jupyter-widgets/base",
            "_view_module_version": "1.2.0",
            "_view_name": "StyleView",
            "description_width": ""
          }
        },
        "4d053411b3a844b8b1d296eacbf9402f": {
          "model_module": "@jupyter-widgets/controls",
          "model_name": "HBoxModel",
          "model_module_version": "1.5.0",
          "state": {
            "_dom_classes": [],
            "_model_module": "@jupyter-widgets/controls",
            "_model_module_version": "1.5.0",
            "_model_name": "HBoxModel",
            "_view_count": null,
            "_view_module": "@jupyter-widgets/controls",
            "_view_module_version": "1.5.0",
            "_view_name": "HBoxView",
            "box_style": "",
            "children": [
              "IPY_MODEL_4541e0706e2d449abfc8999fa7268442",
              "IPY_MODEL_6d5347591e624352b5a33e7933130817",
              "IPY_MODEL_b10cc3678872455382158fe06c3aad3e"
            ],
            "layout": "IPY_MODEL_0f1cb2d41c2e4c50860057450af7f27b"
          }
        },
        "4541e0706e2d449abfc8999fa7268442": {
          "model_module": "@jupyter-widgets/controls",
          "model_name": "HTMLModel",
          "model_module_version": "1.5.0",
          "state": {
            "_dom_classes": [],
            "_model_module": "@jupyter-widgets/controls",
            "_model_module_version": "1.5.0",
            "_model_name": "HTMLModel",
            "_view_count": null,
            "_view_module": "@jupyter-widgets/controls",
            "_view_module_version": "1.5.0",
            "_view_name": "HTMLView",
            "description": "",
            "description_tooltip": null,
            "layout": "IPY_MODEL_6d8aaa8ba7e7475188aae5f02c95b549",
            "placeholder": "​",
            "style": "IPY_MODEL_289ff4eb0c824fc69c8121f9c1fa2f45",
            "value": "Downloading pytorch_model.bin: 100%"
          }
        },
        "6d5347591e624352b5a33e7933130817": {
          "model_module": "@jupyter-widgets/controls",
          "model_name": "FloatProgressModel",
          "model_module_version": "1.5.0",
          "state": {
            "_dom_classes": [],
            "_model_module": "@jupyter-widgets/controls",
            "_model_module_version": "1.5.0",
            "_model_name": "FloatProgressModel",
            "_view_count": null,
            "_view_module": "@jupyter-widgets/controls",
            "_view_module_version": "1.5.0",
            "_view_name": "ProgressView",
            "bar_style": "success",
            "description": "",
            "description_tooltip": null,
            "layout": "IPY_MODEL_8473763f8a1945fc96be936e05dbbcdc",
            "max": 346351599,
            "min": 0,
            "orientation": "horizontal",
            "style": "IPY_MODEL_d10bb5cf77d5451fa627aa5c42e77e3c",
            "value": 346351599
          }
        },
        "b10cc3678872455382158fe06c3aad3e": {
          "model_module": "@jupyter-widgets/controls",
          "model_name": "HTMLModel",
          "model_module_version": "1.5.0",
          "state": {
            "_dom_classes": [],
            "_model_module": "@jupyter-widgets/controls",
            "_model_module_version": "1.5.0",
            "_model_name": "HTMLModel",
            "_view_count": null,
            "_view_module": "@jupyter-widgets/controls",
            "_view_module_version": "1.5.0",
            "_view_name": "HTMLView",
            "description": "",
            "description_tooltip": null,
            "layout": "IPY_MODEL_d422b1ec80054bd79dddb1a68b5777f3",
            "placeholder": "​",
            "style": "IPY_MODEL_addf963e369c4c8f80cefc2bc0a7e9eb",
            "value": " 346M/346M [00:06&lt;00:00, 58.8MB/s]"
          }
        },
        "0f1cb2d41c2e4c50860057450af7f27b": {
          "model_module": "@jupyter-widgets/base",
          "model_name": "LayoutModel",
          "model_module_version": "1.2.0",
          "state": {
            "_model_module": "@jupyter-widgets/base",
            "_model_module_version": "1.2.0",
            "_model_name": "LayoutModel",
            "_view_count": null,
            "_view_module": "@jupyter-widgets/base",
            "_view_module_version": "1.2.0",
            "_view_name": "LayoutView",
            "align_content": null,
            "align_items": null,
            "align_self": null,
            "border": null,
            "bottom": null,
            "display": null,
            "flex": null,
            "flex_flow": null,
            "grid_area": null,
            "grid_auto_columns": null,
            "grid_auto_flow": null,
            "grid_auto_rows": null,
            "grid_column": null,
            "grid_gap": null,
            "grid_row": null,
            "grid_template_areas": null,
            "grid_template_columns": null,
            "grid_template_rows": null,
            "height": null,
            "justify_content": null,
            "justify_items": null,
            "left": null,
            "margin": null,
            "max_height": null,
            "max_width": null,
            "min_height": null,
            "min_width": null,
            "object_fit": null,
            "object_position": null,
            "order": null,
            "overflow": null,
            "overflow_x": null,
            "overflow_y": null,
            "padding": null,
            "right": null,
            "top": null,
            "visibility": null,
            "width": null
          }
        },
        "6d8aaa8ba7e7475188aae5f02c95b549": {
          "model_module": "@jupyter-widgets/base",
          "model_name": "LayoutModel",
          "model_module_version": "1.2.0",
          "state": {
            "_model_module": "@jupyter-widgets/base",
            "_model_module_version": "1.2.0",
            "_model_name": "LayoutModel",
            "_view_count": null,
            "_view_module": "@jupyter-widgets/base",
            "_view_module_version": "1.2.0",
            "_view_name": "LayoutView",
            "align_content": null,
            "align_items": null,
            "align_self": null,
            "border": null,
            "bottom": null,
            "display": null,
            "flex": null,
            "flex_flow": null,
            "grid_area": null,
            "grid_auto_columns": null,
            "grid_auto_flow": null,
            "grid_auto_rows": null,
            "grid_column": null,
            "grid_gap": null,
            "grid_row": null,
            "grid_template_areas": null,
            "grid_template_columns": null,
            "grid_template_rows": null,
            "height": null,
            "justify_content": null,
            "justify_items": null,
            "left": null,
            "margin": null,
            "max_height": null,
            "max_width": null,
            "min_height": null,
            "min_width": null,
            "object_fit": null,
            "object_position": null,
            "order": null,
            "overflow": null,
            "overflow_x": null,
            "overflow_y": null,
            "padding": null,
            "right": null,
            "top": null,
            "visibility": null,
            "width": null
          }
        },
        "289ff4eb0c824fc69c8121f9c1fa2f45": {
          "model_module": "@jupyter-widgets/controls",
          "model_name": "DescriptionStyleModel",
          "model_module_version": "1.5.0",
          "state": {
            "_model_module": "@jupyter-widgets/controls",
            "_model_module_version": "1.5.0",
            "_model_name": "DescriptionStyleModel",
            "_view_count": null,
            "_view_module": "@jupyter-widgets/base",
            "_view_module_version": "1.2.0",
            "_view_name": "StyleView",
            "description_width": ""
          }
        },
        "8473763f8a1945fc96be936e05dbbcdc": {
          "model_module": "@jupyter-widgets/base",
          "model_name": "LayoutModel",
          "model_module_version": "1.2.0",
          "state": {
            "_model_module": "@jupyter-widgets/base",
            "_model_module_version": "1.2.0",
            "_model_name": "LayoutModel",
            "_view_count": null,
            "_view_module": "@jupyter-widgets/base",
            "_view_module_version": "1.2.0",
            "_view_name": "LayoutView",
            "align_content": null,
            "align_items": null,
            "align_self": null,
            "border": null,
            "bottom": null,
            "display": null,
            "flex": null,
            "flex_flow": null,
            "grid_area": null,
            "grid_auto_columns": null,
            "grid_auto_flow": null,
            "grid_auto_rows": null,
            "grid_column": null,
            "grid_gap": null,
            "grid_row": null,
            "grid_template_areas": null,
            "grid_template_columns": null,
            "grid_template_rows": null,
            "height": null,
            "justify_content": null,
            "justify_items": null,
            "left": null,
            "margin": null,
            "max_height": null,
            "max_width": null,
            "min_height": null,
            "min_width": null,
            "object_fit": null,
            "object_position": null,
            "order": null,
            "overflow": null,
            "overflow_x": null,
            "overflow_y": null,
            "padding": null,
            "right": null,
            "top": null,
            "visibility": null,
            "width": null
          }
        },
        "d10bb5cf77d5451fa627aa5c42e77e3c": {
          "model_module": "@jupyter-widgets/controls",
          "model_name": "ProgressStyleModel",
          "model_module_version": "1.5.0",
          "state": {
            "_model_module": "@jupyter-widgets/controls",
            "_model_module_version": "1.5.0",
            "_model_name": "ProgressStyleModel",
            "_view_count": null,
            "_view_module": "@jupyter-widgets/base",
            "_view_module_version": "1.2.0",
            "_view_name": "StyleView",
            "bar_color": null,
            "description_width": ""
          }
        },
        "d422b1ec80054bd79dddb1a68b5777f3": {
          "model_module": "@jupyter-widgets/base",
          "model_name": "LayoutModel",
          "model_module_version": "1.2.0",
          "state": {
            "_model_module": "@jupyter-widgets/base",
            "_model_module_version": "1.2.0",
            "_model_name": "LayoutModel",
            "_view_count": null,
            "_view_module": "@jupyter-widgets/base",
            "_view_module_version": "1.2.0",
            "_view_name": "LayoutView",
            "align_content": null,
            "align_items": null,
            "align_self": null,
            "border": null,
            "bottom": null,
            "display": null,
            "flex": null,
            "flex_flow": null,
            "grid_area": null,
            "grid_auto_columns": null,
            "grid_auto_flow": null,
            "grid_auto_rows": null,
            "grid_column": null,
            "grid_gap": null,
            "grid_row": null,
            "grid_template_areas": null,
            "grid_template_columns": null,
            "grid_template_rows": null,
            "height": null,
            "justify_content": null,
            "justify_items": null,
            "left": null,
            "margin": null,
            "max_height": null,
            "max_width": null,
            "min_height": null,
            "min_width": null,
            "object_fit": null,
            "object_position": null,
            "order": null,
            "overflow": null,
            "overflow_x": null,
            "overflow_y": null,
            "padding": null,
            "right": null,
            "top": null,
            "visibility": null,
            "width": null
          }
        },
        "addf963e369c4c8f80cefc2bc0a7e9eb": {
          "model_module": "@jupyter-widgets/controls",
          "model_name": "DescriptionStyleModel",
          "model_module_version": "1.5.0",
          "state": {
            "_model_module": "@jupyter-widgets/controls",
            "_model_module_version": "1.5.0",
            "_model_name": "DescriptionStyleModel",
            "_view_count": null,
            "_view_module": "@jupyter-widgets/base",
            "_view_module_version": "1.2.0",
            "_view_name": "StyleView",
            "description_width": ""
          }
        },
        "a9a57d8121cb4837b56e68d8f528220a": {
          "model_module": "@jupyter-widgets/controls",
          "model_name": "HBoxModel",
          "model_module_version": "1.5.0",
          "state": {
            "_dom_classes": [],
            "_model_module": "@jupyter-widgets/controls",
            "_model_module_version": "1.5.0",
            "_model_name": "HBoxModel",
            "_view_count": null,
            "_view_module": "@jupyter-widgets/controls",
            "_view_module_version": "1.5.0",
            "_view_name": "HBoxView",
            "box_style": "",
            "children": [
              "IPY_MODEL_30f33061627741f2bc72732eeb05d179",
              "IPY_MODEL_a311c45586f142c1b95b575250c97036",
              "IPY_MODEL_844ecd12fcf946f6be186061c2666948"
            ],
            "layout": "IPY_MODEL_beed4d30b93b4d498a5166c12ca8d1b2"
          }
        },
        "30f33061627741f2bc72732eeb05d179": {
          "model_module": "@jupyter-widgets/controls",
          "model_name": "HTMLModel",
          "model_module_version": "1.5.0",
          "state": {
            "_dom_classes": [],
            "_model_module": "@jupyter-widgets/controls",
            "_model_module_version": "1.5.0",
            "_model_name": "HTMLModel",
            "_view_count": null,
            "_view_module": "@jupyter-widgets/controls",
            "_view_module_version": "1.5.0",
            "_view_name": "HTMLView",
            "description": "",
            "description_tooltip": null,
            "layout": "IPY_MODEL_83cce8c5ed45415fbe59f9dfe41da411",
            "placeholder": "​",
            "style": "IPY_MODEL_0647bf1cc6834dea9b4f13b88efdf7ee",
            "value": "Downloading pytorch_model.bin: 100%"
          }
        },
        "a311c45586f142c1b95b575250c97036": {
          "model_module": "@jupyter-widgets/controls",
          "model_name": "FloatProgressModel",
          "model_module_version": "1.5.0",
          "state": {
            "_dom_classes": [],
            "_model_module": "@jupyter-widgets/controls",
            "_model_module_version": "1.5.0",
            "_model_name": "FloatProgressModel",
            "_view_count": null,
            "_view_module": "@jupyter-widgets/controls",
            "_view_module_version": "1.5.0",
            "_view_name": "ProgressView",
            "bar_style": "success",
            "description": "",
            "description_tooltip": null,
            "layout": "IPY_MODEL_bef19c7c3f9c4089871c5b454dd2adbd",
            "max": 1200794589,
            "min": 0,
            "orientation": "horizontal",
            "style": "IPY_MODEL_a8284bf4ba6f46bd9947d57f208836dd",
            "value": 1200794589
          }
        },
        "844ecd12fcf946f6be186061c2666948": {
          "model_module": "@jupyter-widgets/controls",
          "model_name": "HTMLModel",
          "model_module_version": "1.5.0",
          "state": {
            "_dom_classes": [],
            "_model_module": "@jupyter-widgets/controls",
            "_model_module_version": "1.5.0",
            "_model_name": "HTMLModel",
            "_view_count": null,
            "_view_module": "@jupyter-widgets/controls",
            "_view_module_version": "1.5.0",
            "_view_name": "HTMLView",
            "description": "",
            "description_tooltip": null,
            "layout": "IPY_MODEL_25b23a779d9f4902b88c0565eff2cdca",
            "placeholder": "​",
            "style": "IPY_MODEL_c9099381886449b690cd7fb592356d2b",
            "value": " 1.20G/1.20G [00:14&lt;00:00, 98.5MB/s]"
          }
        },
        "beed4d30b93b4d498a5166c12ca8d1b2": {
          "model_module": "@jupyter-widgets/base",
          "model_name": "LayoutModel",
          "model_module_version": "1.2.0",
          "state": {
            "_model_module": "@jupyter-widgets/base",
            "_model_module_version": "1.2.0",
            "_model_name": "LayoutModel",
            "_view_count": null,
            "_view_module": "@jupyter-widgets/base",
            "_view_module_version": "1.2.0",
            "_view_name": "LayoutView",
            "align_content": null,
            "align_items": null,
            "align_self": null,
            "border": null,
            "bottom": null,
            "display": null,
            "flex": null,
            "flex_flow": null,
            "grid_area": null,
            "grid_auto_columns": null,
            "grid_auto_flow": null,
            "grid_auto_rows": null,
            "grid_column": null,
            "grid_gap": null,
            "grid_row": null,
            "grid_template_areas": null,
            "grid_template_columns": null,
            "grid_template_rows": null,
            "height": null,
            "justify_content": null,
            "justify_items": null,
            "left": null,
            "margin": null,
            "max_height": null,
            "max_width": null,
            "min_height": null,
            "min_width": null,
            "object_fit": null,
            "object_position": null,
            "order": null,
            "overflow": null,
            "overflow_x": null,
            "overflow_y": null,
            "padding": null,
            "right": null,
            "top": null,
            "visibility": null,
            "width": null
          }
        },
        "83cce8c5ed45415fbe59f9dfe41da411": {
          "model_module": "@jupyter-widgets/base",
          "model_name": "LayoutModel",
          "model_module_version": "1.2.0",
          "state": {
            "_model_module": "@jupyter-widgets/base",
            "_model_module_version": "1.2.0",
            "_model_name": "LayoutModel",
            "_view_count": null,
            "_view_module": "@jupyter-widgets/base",
            "_view_module_version": "1.2.0",
            "_view_name": "LayoutView",
            "align_content": null,
            "align_items": null,
            "align_self": null,
            "border": null,
            "bottom": null,
            "display": null,
            "flex": null,
            "flex_flow": null,
            "grid_area": null,
            "grid_auto_columns": null,
            "grid_auto_flow": null,
            "grid_auto_rows": null,
            "grid_column": null,
            "grid_gap": null,
            "grid_row": null,
            "grid_template_areas": null,
            "grid_template_columns": null,
            "grid_template_rows": null,
            "height": null,
            "justify_content": null,
            "justify_items": null,
            "left": null,
            "margin": null,
            "max_height": null,
            "max_width": null,
            "min_height": null,
            "min_width": null,
            "object_fit": null,
            "object_position": null,
            "order": null,
            "overflow": null,
            "overflow_x": null,
            "overflow_y": null,
            "padding": null,
            "right": null,
            "top": null,
            "visibility": null,
            "width": null
          }
        },
        "0647bf1cc6834dea9b4f13b88efdf7ee": {
          "model_module": "@jupyter-widgets/controls",
          "model_name": "DescriptionStyleModel",
          "model_module_version": "1.5.0",
          "state": {
            "_model_module": "@jupyter-widgets/controls",
            "_model_module_version": "1.5.0",
            "_model_name": "DescriptionStyleModel",
            "_view_count": null,
            "_view_module": "@jupyter-widgets/base",
            "_view_module_version": "1.2.0",
            "_view_name": "StyleView",
            "description_width": ""
          }
        },
        "bef19c7c3f9c4089871c5b454dd2adbd": {
          "model_module": "@jupyter-widgets/base",
          "model_name": "LayoutModel",
          "model_module_version": "1.2.0",
          "state": {
            "_model_module": "@jupyter-widgets/base",
            "_model_module_version": "1.2.0",
            "_model_name": "LayoutModel",
            "_view_count": null,
            "_view_module": "@jupyter-widgets/base",
            "_view_module_version": "1.2.0",
            "_view_name": "LayoutView",
            "align_content": null,
            "align_items": null,
            "align_self": null,
            "border": null,
            "bottom": null,
            "display": null,
            "flex": null,
            "flex_flow": null,
            "grid_area": null,
            "grid_auto_columns": null,
            "grid_auto_flow": null,
            "grid_auto_rows": null,
            "grid_column": null,
            "grid_gap": null,
            "grid_row": null,
            "grid_template_areas": null,
            "grid_template_columns": null,
            "grid_template_rows": null,
            "height": null,
            "justify_content": null,
            "justify_items": null,
            "left": null,
            "margin": null,
            "max_height": null,
            "max_width": null,
            "min_height": null,
            "min_width": null,
            "object_fit": null,
            "object_position": null,
            "order": null,
            "overflow": null,
            "overflow_x": null,
            "overflow_y": null,
            "padding": null,
            "right": null,
            "top": null,
            "visibility": null,
            "width": null
          }
        },
        "a8284bf4ba6f46bd9947d57f208836dd": {
          "model_module": "@jupyter-widgets/controls",
          "model_name": "ProgressStyleModel",
          "model_module_version": "1.5.0",
          "state": {
            "_model_module": "@jupyter-widgets/controls",
            "_model_module_version": "1.5.0",
            "_model_name": "ProgressStyleModel",
            "_view_count": null,
            "_view_module": "@jupyter-widgets/base",
            "_view_module_version": "1.2.0",
            "_view_name": "StyleView",
            "bar_color": null,
            "description_width": ""
          }
        },
        "25b23a779d9f4902b88c0565eff2cdca": {
          "model_module": "@jupyter-widgets/base",
          "model_name": "LayoutModel",
          "model_module_version": "1.2.0",
          "state": {
            "_model_module": "@jupyter-widgets/base",
            "_model_module_version": "1.2.0",
            "_model_name": "LayoutModel",
            "_view_count": null,
            "_view_module": "@jupyter-widgets/base",
            "_view_module_version": "1.2.0",
            "_view_name": "LayoutView",
            "align_content": null,
            "align_items": null,
            "align_self": null,
            "border": null,
            "bottom": null,
            "display": null,
            "flex": null,
            "flex_flow": null,
            "grid_area": null,
            "grid_auto_columns": null,
            "grid_auto_flow": null,
            "grid_auto_rows": null,
            "grid_column": null,
            "grid_gap": null,
            "grid_row": null,
            "grid_template_areas": null,
            "grid_template_columns": null,
            "grid_template_rows": null,
            "height": null,
            "justify_content": null,
            "justify_items": null,
            "left": null,
            "margin": null,
            "max_height": null,
            "max_width": null,
            "min_height": null,
            "min_width": null,
            "object_fit": null,
            "object_position": null,
            "order": null,
            "overflow": null,
            "overflow_x": null,
            "overflow_y": null,
            "padding": null,
            "right": null,
            "top": null,
            "visibility": null,
            "width": null
          }
        },
        "c9099381886449b690cd7fb592356d2b": {
          "model_module": "@jupyter-widgets/controls",
          "model_name": "DescriptionStyleModel",
          "model_module_version": "1.5.0",
          "state": {
            "_model_module": "@jupyter-widgets/controls",
            "_model_module_version": "1.5.0",
            "_model_name": "DescriptionStyleModel",
            "_view_count": null,
            "_view_module": "@jupyter-widgets/base",
            "_view_module_version": "1.2.0",
            "_view_name": "StyleView",
            "description_width": ""
          }
        },
        "1885c0f53d4744b6a207d0916cd2b743": {
          "model_module": "@jupyter-widgets/controls",
          "model_name": "HBoxModel",
          "model_module_version": "1.5.0",
          "state": {
            "_dom_classes": [],
            "_model_module": "@jupyter-widgets/controls",
            "_model_module_version": "1.5.0",
            "_model_name": "HBoxModel",
            "_view_count": null,
            "_view_module": "@jupyter-widgets/controls",
            "_view_module_version": "1.5.0",
            "_view_name": "HBoxView",
            "box_style": "",
            "children": [
              "IPY_MODEL_fc7b242a1b684cf9bf83e78163287996",
              "IPY_MODEL_28aa8026ba9048ebb90110690ceffcb7",
              "IPY_MODEL_dab90297ac374af4882351deb49ff18d"
            ],
            "layout": "IPY_MODEL_254e5a097ecf4494b9a134739bc8e14f"
          }
        },
        "fc7b242a1b684cf9bf83e78163287996": {
          "model_module": "@jupyter-widgets/controls",
          "model_name": "HTMLModel",
          "model_module_version": "1.5.0",
          "state": {
            "_dom_classes": [],
            "_model_module": "@jupyter-widgets/controls",
            "_model_module_version": "1.5.0",
            "_model_name": "HTMLModel",
            "_view_count": null,
            "_view_module": "@jupyter-widgets/controls",
            "_view_module_version": "1.5.0",
            "_view_name": "HTMLView",
            "description": "",
            "description_tooltip": null,
            "layout": "IPY_MODEL_da58e9c656654698adaf4b1f97ee83f9",
            "placeholder": "​",
            "style": "IPY_MODEL_613a20cebfc84335949426c99bfc156f",
            "value": "Downloading (…)neration_config.json: 100%"
          }
        },
        "28aa8026ba9048ebb90110690ceffcb7": {
          "model_module": "@jupyter-widgets/controls",
          "model_name": "FloatProgressModel",
          "model_module_version": "1.5.0",
          "state": {
            "_dom_classes": [],
            "_model_module": "@jupyter-widgets/controls",
            "_model_module_version": "1.5.0",
            "_model_name": "FloatProgressModel",
            "_view_count": null,
            "_view_module": "@jupyter-widgets/controls",
            "_view_module_version": "1.5.0",
            "_view_name": "ProgressView",
            "bar_style": "success",
            "description": "",
            "description_tooltip": null,
            "layout": "IPY_MODEL_dcc01827399a422b8b6f54472f48e9fb",
            "max": 147,
            "min": 0,
            "orientation": "horizontal",
            "style": "IPY_MODEL_35d31f9249274ff7bcf6ea598ffe0716",
            "value": 147
          }
        },
        "dab90297ac374af4882351deb49ff18d": {
          "model_module": "@jupyter-widgets/controls",
          "model_name": "HTMLModel",
          "model_module_version": "1.5.0",
          "state": {
            "_dom_classes": [],
            "_model_module": "@jupyter-widgets/controls",
            "_model_module_version": "1.5.0",
            "_model_name": "HTMLModel",
            "_view_count": null,
            "_view_module": "@jupyter-widgets/controls",
            "_view_module_version": "1.5.0",
            "_view_name": "HTMLView",
            "description": "",
            "description_tooltip": null,
            "layout": "IPY_MODEL_d2f3b43fc0fd43bb8f3cbea61d498334",
            "placeholder": "​",
            "style": "IPY_MODEL_f716dd6eb31543d6af6652a8a59819c5",
            "value": " 147/147 [00:00&lt;00:00, 10.9kB/s]"
          }
        },
        "254e5a097ecf4494b9a134739bc8e14f": {
          "model_module": "@jupyter-widgets/base",
          "model_name": "LayoutModel",
          "model_module_version": "1.2.0",
          "state": {
            "_model_module": "@jupyter-widgets/base",
            "_model_module_version": "1.2.0",
            "_model_name": "LayoutModel",
            "_view_count": null,
            "_view_module": "@jupyter-widgets/base",
            "_view_module_version": "1.2.0",
            "_view_name": "LayoutView",
            "align_content": null,
            "align_items": null,
            "align_self": null,
            "border": null,
            "bottom": null,
            "display": null,
            "flex": null,
            "flex_flow": null,
            "grid_area": null,
            "grid_auto_columns": null,
            "grid_auto_flow": null,
            "grid_auto_rows": null,
            "grid_column": null,
            "grid_gap": null,
            "grid_row": null,
            "grid_template_areas": null,
            "grid_template_columns": null,
            "grid_template_rows": null,
            "height": null,
            "justify_content": null,
            "justify_items": null,
            "left": null,
            "margin": null,
            "max_height": null,
            "max_width": null,
            "min_height": null,
            "min_width": null,
            "object_fit": null,
            "object_position": null,
            "order": null,
            "overflow": null,
            "overflow_x": null,
            "overflow_y": null,
            "padding": null,
            "right": null,
            "top": null,
            "visibility": null,
            "width": null
          }
        },
        "da58e9c656654698adaf4b1f97ee83f9": {
          "model_module": "@jupyter-widgets/base",
          "model_name": "LayoutModel",
          "model_module_version": "1.2.0",
          "state": {
            "_model_module": "@jupyter-widgets/base",
            "_model_module_version": "1.2.0",
            "_model_name": "LayoutModel",
            "_view_count": null,
            "_view_module": "@jupyter-widgets/base",
            "_view_module_version": "1.2.0",
            "_view_name": "LayoutView",
            "align_content": null,
            "align_items": null,
            "align_self": null,
            "border": null,
            "bottom": null,
            "display": null,
            "flex": null,
            "flex_flow": null,
            "grid_area": null,
            "grid_auto_columns": null,
            "grid_auto_flow": null,
            "grid_auto_rows": null,
            "grid_column": null,
            "grid_gap": null,
            "grid_row": null,
            "grid_template_areas": null,
            "grid_template_columns": null,
            "grid_template_rows": null,
            "height": null,
            "justify_content": null,
            "justify_items": null,
            "left": null,
            "margin": null,
            "max_height": null,
            "max_width": null,
            "min_height": null,
            "min_width": null,
            "object_fit": null,
            "object_position": null,
            "order": null,
            "overflow": null,
            "overflow_x": null,
            "overflow_y": null,
            "padding": null,
            "right": null,
            "top": null,
            "visibility": null,
            "width": null
          }
        },
        "613a20cebfc84335949426c99bfc156f": {
          "model_module": "@jupyter-widgets/controls",
          "model_name": "DescriptionStyleModel",
          "model_module_version": "1.5.0",
          "state": {
            "_model_module": "@jupyter-widgets/controls",
            "_model_module_version": "1.5.0",
            "_model_name": "DescriptionStyleModel",
            "_view_count": null,
            "_view_module": "@jupyter-widgets/base",
            "_view_module_version": "1.2.0",
            "_view_name": "StyleView",
            "description_width": ""
          }
        },
        "dcc01827399a422b8b6f54472f48e9fb": {
          "model_module": "@jupyter-widgets/base",
          "model_name": "LayoutModel",
          "model_module_version": "1.2.0",
          "state": {
            "_model_module": "@jupyter-widgets/base",
            "_model_module_version": "1.2.0",
            "_model_name": "LayoutModel",
            "_view_count": null,
            "_view_module": "@jupyter-widgets/base",
            "_view_module_version": "1.2.0",
            "_view_name": "LayoutView",
            "align_content": null,
            "align_items": null,
            "align_self": null,
            "border": null,
            "bottom": null,
            "display": null,
            "flex": null,
            "flex_flow": null,
            "grid_area": null,
            "grid_auto_columns": null,
            "grid_auto_flow": null,
            "grid_auto_rows": null,
            "grid_column": null,
            "grid_gap": null,
            "grid_row": null,
            "grid_template_areas": null,
            "grid_template_columns": null,
            "grid_template_rows": null,
            "height": null,
            "justify_content": null,
            "justify_items": null,
            "left": null,
            "margin": null,
            "max_height": null,
            "max_width": null,
            "min_height": null,
            "min_width": null,
            "object_fit": null,
            "object_position": null,
            "order": null,
            "overflow": null,
            "overflow_x": null,
            "overflow_y": null,
            "padding": null,
            "right": null,
            "top": null,
            "visibility": null,
            "width": null
          }
        },
        "35d31f9249274ff7bcf6ea598ffe0716": {
          "model_module": "@jupyter-widgets/controls",
          "model_name": "ProgressStyleModel",
          "model_module_version": "1.5.0",
          "state": {
            "_model_module": "@jupyter-widgets/controls",
            "_model_module_version": "1.5.0",
            "_model_name": "ProgressStyleModel",
            "_view_count": null,
            "_view_module": "@jupyter-widgets/base",
            "_view_module_version": "1.2.0",
            "_view_name": "StyleView",
            "bar_color": null,
            "description_width": ""
          }
        },
        "d2f3b43fc0fd43bb8f3cbea61d498334": {
          "model_module": "@jupyter-widgets/base",
          "model_name": "LayoutModel",
          "model_module_version": "1.2.0",
          "state": {
            "_model_module": "@jupyter-widgets/base",
            "_model_module_version": "1.2.0",
            "_model_name": "LayoutModel",
            "_view_count": null,
            "_view_module": "@jupyter-widgets/base",
            "_view_module_version": "1.2.0",
            "_view_name": "LayoutView",
            "align_content": null,
            "align_items": null,
            "align_self": null,
            "border": null,
            "bottom": null,
            "display": null,
            "flex": null,
            "flex_flow": null,
            "grid_area": null,
            "grid_auto_columns": null,
            "grid_auto_flow": null,
            "grid_auto_rows": null,
            "grid_column": null,
            "grid_gap": null,
            "grid_row": null,
            "grid_template_areas": null,
            "grid_template_columns": null,
            "grid_template_rows": null,
            "height": null,
            "justify_content": null,
            "justify_items": null,
            "left": null,
            "margin": null,
            "max_height": null,
            "max_width": null,
            "min_height": null,
            "min_width": null,
            "object_fit": null,
            "object_position": null,
            "order": null,
            "overflow": null,
            "overflow_x": null,
            "overflow_y": null,
            "padding": null,
            "right": null,
            "top": null,
            "visibility": null,
            "width": null
          }
        },
        "f716dd6eb31543d6af6652a8a59819c5": {
          "model_module": "@jupyter-widgets/controls",
          "model_name": "DescriptionStyleModel",
          "model_module_version": "1.5.0",
          "state": {
            "_model_module": "@jupyter-widgets/controls",
            "_model_module_version": "1.5.0",
            "_model_name": "DescriptionStyleModel",
            "_view_count": null,
            "_view_module": "@jupyter-widgets/base",
            "_view_module_version": "1.2.0",
            "_view_name": "StyleView",
            "description_width": ""
          }
        },
        "5caf22001b1b49e0854365b0254cf7c1": {
          "model_module": "@jupyter-widgets/controls",
          "model_name": "HBoxModel",
          "model_module_version": "1.5.0",
          "state": {
            "_dom_classes": [],
            "_model_module": "@jupyter-widgets/controls",
            "_model_module_version": "1.5.0",
            "_model_name": "HBoxModel",
            "_view_count": null,
            "_view_module": "@jupyter-widgets/controls",
            "_view_module_version": "1.5.0",
            "_view_name": "HBoxView",
            "box_style": "",
            "children": [
              "IPY_MODEL_53a856e29d284e159af4dd1ee0504072",
              "IPY_MODEL_86a6596a3538482d8eace780b39e2a09",
              "IPY_MODEL_ece1633964794ceab93e2dc12270eea6"
            ],
            "layout": "IPY_MODEL_fd3c0d4e5e954d5c9562f916424b9f15"
          }
        },
        "53a856e29d284e159af4dd1ee0504072": {
          "model_module": "@jupyter-widgets/controls",
          "model_name": "HTMLModel",
          "model_module_version": "1.5.0",
          "state": {
            "_dom_classes": [],
            "_model_module": "@jupyter-widgets/controls",
            "_model_module_version": "1.5.0",
            "_model_name": "HTMLModel",
            "_view_count": null,
            "_view_module": "@jupyter-widgets/controls",
            "_view_module_version": "1.5.0",
            "_view_name": "HTMLView",
            "description": "",
            "description_tooltip": null,
            "layout": "IPY_MODEL_d89856b0061341f9832888c66c0df725",
            "placeholder": "​",
            "style": "IPY_MODEL_50b2f56859574260b0695e1ce954245e",
            "value": "Downloading builder script: 100%"
          }
        },
        "86a6596a3538482d8eace780b39e2a09": {
          "model_module": "@jupyter-widgets/controls",
          "model_name": "FloatProgressModel",
          "model_module_version": "1.5.0",
          "state": {
            "_dom_classes": [],
            "_model_module": "@jupyter-widgets/controls",
            "_model_module_version": "1.5.0",
            "_model_name": "FloatProgressModel",
            "_view_count": null,
            "_view_module": "@jupyter-widgets/controls",
            "_view_module_version": "1.5.0",
            "_view_name": "ProgressView",
            "bar_style": "success",
            "description": "",
            "description_tooltip": null,
            "layout": "IPY_MODEL_aa2a6c2517cf46e6839221f20a6aeef6",
            "max": 6771,
            "min": 0,
            "orientation": "horizontal",
            "style": "IPY_MODEL_757f7b7211ff4fb1b5c69823fc68d7de",
            "value": 6771
          }
        },
        "ece1633964794ceab93e2dc12270eea6": {
          "model_module": "@jupyter-widgets/controls",
          "model_name": "HTMLModel",
          "model_module_version": "1.5.0",
          "state": {
            "_dom_classes": [],
            "_model_module": "@jupyter-widgets/controls",
            "_model_module_version": "1.5.0",
            "_model_name": "HTMLModel",
            "_view_count": null,
            "_view_module": "@jupyter-widgets/controls",
            "_view_module_version": "1.5.0",
            "_view_name": "HTMLView",
            "description": "",
            "description_tooltip": null,
            "layout": "IPY_MODEL_5a281900853645af97d117d1557a5b1d",
            "placeholder": "​",
            "style": "IPY_MODEL_bbe136d092b54c5990bb69bbde03d85a",
            "value": " 6.77k/6.77k [00:00&lt;00:00, 366kB/s]"
          }
        },
        "fd3c0d4e5e954d5c9562f916424b9f15": {
          "model_module": "@jupyter-widgets/base",
          "model_name": "LayoutModel",
          "model_module_version": "1.2.0",
          "state": {
            "_model_module": "@jupyter-widgets/base",
            "_model_module_version": "1.2.0",
            "_model_name": "LayoutModel",
            "_view_count": null,
            "_view_module": "@jupyter-widgets/base",
            "_view_module_version": "1.2.0",
            "_view_name": "LayoutView",
            "align_content": null,
            "align_items": null,
            "align_self": null,
            "border": null,
            "bottom": null,
            "display": null,
            "flex": null,
            "flex_flow": null,
            "grid_area": null,
            "grid_auto_columns": null,
            "grid_auto_flow": null,
            "grid_auto_rows": null,
            "grid_column": null,
            "grid_gap": null,
            "grid_row": null,
            "grid_template_areas": null,
            "grid_template_columns": null,
            "grid_template_rows": null,
            "height": null,
            "justify_content": null,
            "justify_items": null,
            "left": null,
            "margin": null,
            "max_height": null,
            "max_width": null,
            "min_height": null,
            "min_width": null,
            "object_fit": null,
            "object_position": null,
            "order": null,
            "overflow": null,
            "overflow_x": null,
            "overflow_y": null,
            "padding": null,
            "right": null,
            "top": null,
            "visibility": null,
            "width": null
          }
        },
        "d89856b0061341f9832888c66c0df725": {
          "model_module": "@jupyter-widgets/base",
          "model_name": "LayoutModel",
          "model_module_version": "1.2.0",
          "state": {
            "_model_module": "@jupyter-widgets/base",
            "_model_module_version": "1.2.0",
            "_model_name": "LayoutModel",
            "_view_count": null,
            "_view_module": "@jupyter-widgets/base",
            "_view_module_version": "1.2.0",
            "_view_name": "LayoutView",
            "align_content": null,
            "align_items": null,
            "align_self": null,
            "border": null,
            "bottom": null,
            "display": null,
            "flex": null,
            "flex_flow": null,
            "grid_area": null,
            "grid_auto_columns": null,
            "grid_auto_flow": null,
            "grid_auto_rows": null,
            "grid_column": null,
            "grid_gap": null,
            "grid_row": null,
            "grid_template_areas": null,
            "grid_template_columns": null,
            "grid_template_rows": null,
            "height": null,
            "justify_content": null,
            "justify_items": null,
            "left": null,
            "margin": null,
            "max_height": null,
            "max_width": null,
            "min_height": null,
            "min_width": null,
            "object_fit": null,
            "object_position": null,
            "order": null,
            "overflow": null,
            "overflow_x": null,
            "overflow_y": null,
            "padding": null,
            "right": null,
            "top": null,
            "visibility": null,
            "width": null
          }
        },
        "50b2f56859574260b0695e1ce954245e": {
          "model_module": "@jupyter-widgets/controls",
          "model_name": "DescriptionStyleModel",
          "model_module_version": "1.5.0",
          "state": {
            "_model_module": "@jupyter-widgets/controls",
            "_model_module_version": "1.5.0",
            "_model_name": "DescriptionStyleModel",
            "_view_count": null,
            "_view_module": "@jupyter-widgets/base",
            "_view_module_version": "1.2.0",
            "_view_name": "StyleView",
            "description_width": ""
          }
        },
        "aa2a6c2517cf46e6839221f20a6aeef6": {
          "model_module": "@jupyter-widgets/base",
          "model_name": "LayoutModel",
          "model_module_version": "1.2.0",
          "state": {
            "_model_module": "@jupyter-widgets/base",
            "_model_module_version": "1.2.0",
            "_model_name": "LayoutModel",
            "_view_count": null,
            "_view_module": "@jupyter-widgets/base",
            "_view_module_version": "1.2.0",
            "_view_name": "LayoutView",
            "align_content": null,
            "align_items": null,
            "align_self": null,
            "border": null,
            "bottom": null,
            "display": null,
            "flex": null,
            "flex_flow": null,
            "grid_area": null,
            "grid_auto_columns": null,
            "grid_auto_flow": null,
            "grid_auto_rows": null,
            "grid_column": null,
            "grid_gap": null,
            "grid_row": null,
            "grid_template_areas": null,
            "grid_template_columns": null,
            "grid_template_rows": null,
            "height": null,
            "justify_content": null,
            "justify_items": null,
            "left": null,
            "margin": null,
            "max_height": null,
            "max_width": null,
            "min_height": null,
            "min_width": null,
            "object_fit": null,
            "object_position": null,
            "order": null,
            "overflow": null,
            "overflow_x": null,
            "overflow_y": null,
            "padding": null,
            "right": null,
            "top": null,
            "visibility": null,
            "width": null
          }
        },
        "757f7b7211ff4fb1b5c69823fc68d7de": {
          "model_module": "@jupyter-widgets/controls",
          "model_name": "ProgressStyleModel",
          "model_module_version": "1.5.0",
          "state": {
            "_model_module": "@jupyter-widgets/controls",
            "_model_module_version": "1.5.0",
            "_model_name": "ProgressStyleModel",
            "_view_count": null,
            "_view_module": "@jupyter-widgets/base",
            "_view_module_version": "1.2.0",
            "_view_name": "StyleView",
            "bar_color": null,
            "description_width": ""
          }
        },
        "5a281900853645af97d117d1557a5b1d": {
          "model_module": "@jupyter-widgets/base",
          "model_name": "LayoutModel",
          "model_module_version": "1.2.0",
          "state": {
            "_model_module": "@jupyter-widgets/base",
            "_model_module_version": "1.2.0",
            "_model_name": "LayoutModel",
            "_view_count": null,
            "_view_module": "@jupyter-widgets/base",
            "_view_module_version": "1.2.0",
            "_view_name": "LayoutView",
            "align_content": null,
            "align_items": null,
            "align_self": null,
            "border": null,
            "bottom": null,
            "display": null,
            "flex": null,
            "flex_flow": null,
            "grid_area": null,
            "grid_auto_columns": null,
            "grid_auto_flow": null,
            "grid_auto_rows": null,
            "grid_column": null,
            "grid_gap": null,
            "grid_row": null,
            "grid_template_areas": null,
            "grid_template_columns": null,
            "grid_template_rows": null,
            "height": null,
            "justify_content": null,
            "justify_items": null,
            "left": null,
            "margin": null,
            "max_height": null,
            "max_width": null,
            "min_height": null,
            "min_width": null,
            "object_fit": null,
            "object_position": null,
            "order": null,
            "overflow": null,
            "overflow_x": null,
            "overflow_y": null,
            "padding": null,
            "right": null,
            "top": null,
            "visibility": null,
            "width": null
          }
        },
        "bbe136d092b54c5990bb69bbde03d85a": {
          "model_module": "@jupyter-widgets/controls",
          "model_name": "DescriptionStyleModel",
          "model_module_version": "1.5.0",
          "state": {
            "_model_module": "@jupyter-widgets/controls",
            "_model_module_version": "1.5.0",
            "_model_name": "DescriptionStyleModel",
            "_view_count": null,
            "_view_module": "@jupyter-widgets/base",
            "_view_module_version": "1.2.0",
            "_view_name": "StyleView",
            "description_width": ""
          }
        }
      }
    }
  },
  "nbformat": 4,
  "nbformat_minor": 0
}